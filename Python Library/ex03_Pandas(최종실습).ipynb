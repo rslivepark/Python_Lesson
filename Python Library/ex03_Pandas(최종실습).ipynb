{
 "cells": [
  {
   "cell_type": "markdown",
   "id": "59ae04a8",
   "metadata": {},
   "source": [
    "### Pandas 최종실습\n",
    "- 범죄현황 데이터 분석"
   ]
  },
  {
   "cell_type": "code",
   "execution_count": 1,
   "id": "d32f8882",
   "metadata": {},
   "outputs": [],
   "source": [
    "# 데이터 분석 라이브러리 로드하기(가져오기)\n",
    "import numpy as np\n",
    "import pandas as pd"
   ]
  },
  {
   "cell_type": "code",
   "execution_count": 2,
   "id": "33b4db02",
   "metadata": {},
   "outputs": [],
   "source": [
    "# 데이터 불러오기\n",
    "# pd.read_csv()\n",
    "# encoding = 'euc-kr'\n",
    "\n",
    "data2019 = pd.read_csv('2019.csv', encoding='euc_kr', index_col='관서명')\n",
    "data2020 = pd.read_csv('2020.csv', encoding='euc_kr', index_col='관서명')\n",
    "data2021 = pd.read_csv('2021.csv', encoding='euc_kr', index_col='관서명')"
   ]
  },
  {
   "cell_type": "code",
   "execution_count": 3,
   "id": "a797d285",
   "metadata": {},
   "outputs": [
    {
     "name": "stdout",
     "output_type": "stream",
     "text": [
      "(36, 6)\n",
      "(36, 6)\n",
      "(42, 6)\n"
     ]
    }
   ],
   "source": [
    "# 2019, 2020, 2021 데이터 크기(행, 열) 확인\n",
    "\n",
    "print(data2019.shape)\n",
    "print(data2020.shape)\n",
    "print(data2021.shape)\n",
    "# data2021년도에 행이 많다"
   ]
  },
  {
   "cell_type": "code",
   "execution_count": 4,
   "id": "9dfacfcd",
   "metadata": {},
   "outputs": [
    {
     "name": "stdout",
     "output_type": "stream",
     "text": [
      "<class 'pandas.core.frame.DataFrame'>\n",
      "Index: 36 entries, 광주지방경찰청계 to 광주광산경찰서\n",
      "Data columns (total 6 columns):\n",
      " #   Column   Non-Null Count  Dtype \n",
      "---  ------   --------------  ----- \n",
      " 0   구분       36 non-null     object\n",
      " 1   살인       36 non-null     int64 \n",
      " 2   강도       36 non-null     int64 \n",
      " 3   강간·강제추행  36 non-null     int64 \n",
      " 4   절도       36 non-null     int64 \n",
      " 5   폭력       36 non-null     int64 \n",
      "dtypes: int64(5), object(1)\n",
      "memory usage: 2.0+ KB\n",
      "None\n",
      "<class 'pandas.core.frame.DataFrame'>\n",
      "Index: 36 entries, 광주지방경찰청계 to 광주광산경찰서\n",
      "Data columns (total 6 columns):\n",
      " #   Column   Non-Null Count  Dtype \n",
      "---  ------   --------------  ----- \n",
      " 0   구분       36 non-null     object\n",
      " 1   살인       36 non-null     int64 \n",
      " 2   강도       36 non-null     int64 \n",
      " 3   강간·강제추행  36 non-null     int64 \n",
      " 4   절도       36 non-null     int64 \n",
      " 5   폭력       36 non-null     int64 \n",
      "dtypes: int64(5), object(1)\n",
      "memory usage: 2.0+ KB\n",
      "None\n",
      "<class 'pandas.core.frame.DataFrame'>\n",
      "Index: 42 entries, 광주지방경찰청계 to 광주광산경찰서\n",
      "Data columns (total 6 columns):\n",
      " #   Column   Non-Null Count  Dtype \n",
      "---  ------   --------------  ----- \n",
      " 0   구분       42 non-null     object\n",
      " 1   살인       42 non-null     int64 \n",
      " 2   강도       42 non-null     int64 \n",
      " 3   강간·강제추행  42 non-null     int64 \n",
      " 4   절도       42 non-null     int64 \n",
      " 5   폭력       42 non-null     int64 \n",
      "dtypes: int64(5), object(1)\n",
      "memory usage: 2.3+ KB\n",
      "None\n"
     ]
    }
   ],
   "source": [
    "# 데이터에 대한 정보 확인 : info()\n",
    "print(data2019.info())\n",
    "print(data2020.info())\n",
    "print(data2021.info())"
   ]
  },
  {
   "cell_type": "code",
   "execution_count": 5,
   "id": "7ef4e6cc",
   "metadata": {},
   "outputs": [
    {
     "data": {
      "text/plain": [
       "Index(['광주광산경찰서', '광주남부경찰서', '광주동부경찰서', '광주북부경찰서', '광주서부경찰서', '광주지방경찰청계'], dtype='object', name='관서명')"
      ]
     },
     "execution_count": 5,
     "metadata": {},
     "output_type": "execute_result"
    }
   ],
   "source": [
    "# 인덱스 값에 중복 제거하기\n",
    "data2019.index.unique().sort_values()"
   ]
  },
  {
   "cell_type": "code",
   "execution_count": 6,
   "id": "9e92c490",
   "metadata": {},
   "outputs": [
    {
     "data": {
      "text/plain": [
       "Index(['광주광산경찰서', '광주남부경찰서', '광주동부경찰서', '광주북부경찰서', '광주서부경찰서', '광주지방경찰청계'], dtype='object', name='관서명')"
      ]
     },
     "execution_count": 6,
     "metadata": {},
     "output_type": "execute_result"
    }
   ],
   "source": [
    "data2020.index.unique().sort_values()"
   ]
  },
  {
   "cell_type": "code",
   "execution_count": 7,
   "id": "17e369e1",
   "metadata": {},
   "outputs": [
    {
     "data": {
      "text/plain": [
       "Index(['광주광산경찰서', '광주남부경찰서', '광주동부경찰서', '광주북부경찰서', '광주서부경찰서', '광주지방경찰청',\n",
       "       '광주지방경찰청계'],\n",
       "      dtype='object', name='관서명')"
      ]
     },
     "execution_count": 7,
     "metadata": {},
     "output_type": "execute_result"
    }
   ],
   "source": [
    "data2021.index.unique().sort_values()"
   ]
  },
  {
   "cell_type": "code",
   "execution_count": 8,
   "id": "8a97072d",
   "metadata": {},
   "outputs": [],
   "source": [
    "# 특정연도(2021)에만 존재하는 경찰청인 '광주지방경찰청'행 삭제 -> drop()\n",
    "data2021.drop('광주지방경찰청', inplace= True)"
   ]
  },
  {
   "cell_type": "code",
   "execution_count": 9,
   "id": "a51edd5f",
   "metadata": {},
   "outputs": [
    {
     "name": "stdout",
     "output_type": "stream",
     "text": [
      "(36, 6)\n",
      "(36, 6)\n",
      "(36, 6)\n"
     ]
    }
   ],
   "source": [
    "# 세 개의 데이터 크기(행,열) 확인\n",
    "print(data2019.shape)\n",
    "print(data2020.shape)\n",
    "print(data2021.shape)"
   ]
  },
  {
   "cell_type": "code",
   "execution_count": 10,
   "id": "5a43bead",
   "metadata": {},
   "outputs": [],
   "source": [
    "# 1. 각 연도별 범죄데이터의 총합을 구해서 새로운 컬럼(열) 생성하기 ('총합')\n",
    "data2019['총합'] = data2019.loc[: ,'살인':'폭력'].sum(axis=1)\n",
    "data2020['총합'] = data2020.loc[: ,'살인':'폭력'].sum(axis=1)\n",
    "data2021['총합'] = data2021.loc[: ,'살인':'폭력'].sum(axis=1)"
   ]
  },
  {
   "cell_type": "code",
   "execution_count": 11,
   "id": "a8e58cf4",
   "metadata": {},
   "outputs": [],
   "source": [
    "# 2. 구분컬럼이 '발생건수'인 데이터들만 가져오기(boolean 인덱싱)\n",
    "# temp2019, temp2020, temp2021 변수에 연도별로 각각 담아주기\n",
    "\n",
    "# 2-1. 구분 컬럼에 접근하기 - 인덱싱 -> 시리즈 자료형\n",
    "data2019[data2019['구분'] =='발생건수']  # 논리연산 결과만 나온 상태  \n",
    "\n",
    "# 2-2. 불리언인덱싱(조건 -> (=='발생건수') -> 인덱싱)\n",
    "temp2019 = data2019[data2019['구분'] =='발생건수']\n",
    "temp2020= data2020[data2020['구분'] =='발생건수']\n",
    "temp2021 = data2021[data2021['구분'] =='발생건수']"
   ]
  },
  {
   "cell_type": "code",
   "execution_count": 12,
   "id": "1c0d1d82",
   "metadata": {},
   "outputs": [],
   "source": [
    "# 3. 2번에 담아둔 데이터에서 총합 컬럼을 기준으로 데이터 가져오기 (Series형태)\n",
    "# s2019, s2020, s2021 변수에 연도별로 담기\n",
    "\n",
    "# 1. 총합 컬럼 가져오기\n",
    "s2019=temp2019['총합']\n",
    "s2020=temp2020['총합']\n",
    "s2021=temp2021['총합']"
   ]
  },
  {
   "cell_type": "code",
   "execution_count": 13,
   "id": "05ce3496",
   "metadata": {},
   "outputs": [
    {
     "data": {
      "text/plain": [
       "관서명\n",
       "광주지방경찰청계    13949\n",
       "광주동부경찰서      1799\n",
       "광주서부경찰서      3638\n",
       "광주남부경찰서      1547\n",
       "광주북부경찰서      3945\n",
       "광주광산경찰서      3020\n",
       "Name: 총합, dtype: int64"
      ]
     },
     "execution_count": 13,
     "metadata": {},
     "output_type": "execute_result"
    }
   ],
   "source": [
    "s2021"
   ]
  },
  {
   "cell_type": "code",
   "execution_count": 14,
   "id": "e5896168",
   "metadata": {},
   "outputs": [
    {
     "data": {
      "text/plain": [
       "관서명\n",
       "광주지방경찰청계    18830\n",
       "광주동부경찰서      2355\n",
       "광주서부경찰서      4720\n",
       "광주남부경찰서      2117\n",
       "광주북부경찰서      5466\n",
       "광주광산경찰서      4172\n",
       "Name: 총합, dtype: int64"
      ]
     },
     "execution_count": 14,
     "metadata": {},
     "output_type": "execute_result"
    }
   ],
   "source": [
    "s2019 "
   ]
  },
  {
   "cell_type": "code",
   "execution_count": 15,
   "id": "3b06badf",
   "metadata": {},
   "outputs": [],
   "source": [
    "# 3-1. 3번에 담아둔 총합 데이터의 이름을 바꿔주기\n",
    "# df.rename({ '2010': '2000' })\n",
    "# '2019 총계', '2020 총계', '2021 총계'\n",
    "\n",
    "s2019.name = '2019총계'\n",
    "#s2019.rename(\"2019총계\") \n",
    "\n",
    "s2020.name = '2020총계'\n",
    "#s2020.rename(\"2020총계\")\n",
    "\n",
    "s2021.name = '2021총계'\n",
    "#s2021.rename(\"2021총계\")\n"
   ]
  },
  {
   "attachments": {
    "image.png": {
     "image/png": "[encoded data removed]"
    }
   },
   "cell_type": "markdown",
   "id": "7666d7fe",
   "metadata": {},
   "source": [
    "### 범죄 증감율 구하기\n",
    "![image.png](attachment:image.png)"
   ]
  },
  {
   "cell_type": "code",
   "execution_count": null,
   "id": "1a601bd6",
   "metadata": {},
   "outputs": [],
   "source": [
    "# 범죄 증감율 계산\n",
    "# (금년 - 작년) / 작년 * 100\n",
    "# 2019(s2019)~2020(s2020) 증감율 구한 뒤 plus2020변수에 담아두기\n",
    "# 2020(s2020)~2021(s2021) 증감율 구한 뒤 plus2021변수에 담아두기"
   ]
  },
  {
   "cell_type": "code",
   "execution_count": 28,
   "id": "75d8aedd",
   "metadata": {},
   "outputs": [
    {
     "data": {
      "text/plain": [
       "관서명\n",
       "광주지방경찰청계   -18.130643\n",
       "광주동부경찰서    -12.186837\n",
       "광주서부경찰서    -17.542373\n",
       "광주남부경찰서    -11.903637\n",
       "광주북부경찰서    -24.112697\n",
       "광주광산경찰서    -17.473634\n",
       "dtype: float64"
      ]
     },
     "execution_count": 28,
     "metadata": {},
     "output_type": "execute_result"
    }
   ],
   "source": [
    "# 2019 범죄율 (작년) , 2020 범죄율(금년)\n",
    "\n",
    "plus2020 = (s2020 -  s2019) / s2019 * 100 #????\n",
    "plus2020"
   ]
  },
  {
   "cell_type": "code",
   "execution_count": 29,
   "id": "51e685ef",
   "metadata": {},
   "outputs": [
    {
     "data": {
      "text/plain": [
       "관서명\n",
       "광주지방경찰청계    -9.516087\n",
       "광주동부경찰서    -13.007737\n",
       "광주서부경찰서     -6.526208\n",
       "광주남부경찰서    -17.050938\n",
       "광주북부경찰서     -4.893925\n",
       "광주광산경찰서    -12.285797\n",
       "dtype: float64"
      ]
     },
     "execution_count": 29,
     "metadata": {},
     "output_type": "execute_result"
    }
   ],
   "source": [
    "plus2021 = (s2021 - s2020) / s2020 * 100 #????\n",
    "plus2021"
   ]
  },
  {
   "cell_type": "code",
   "execution_count": 33,
   "id": "1af78ffd",
   "metadata": {},
   "outputs": [
    {
     "data": {
      "text/plain": [
       "관서명\n",
       "광주지방경찰청계    -9.516087\n",
       "광주동부경찰서    -13.007737\n",
       "광주서부경찰서     -6.526208\n",
       "광주남부경찰서    -17.050938\n",
       "광주북부경찰서     -4.893925\n",
       "광주광산경찰서    -12.285797\n",
       "Name: 2020-2021 증감율, dtype: float64"
      ]
     },
     "execution_count": 33,
     "metadata": {},
     "output_type": "execute_result"
    }
   ],
   "source": [
    "# 증감율 데이터(Series) 이름 바꿔주기\n",
    "\n",
    "# plus2020 -> 2019-2020 증감율\n",
    "plus2020.name = '2019-2020 증감율'\n",
    "plus2020\n",
    "\n",
    "# plus2021 -> 2020-2021 증감율\n",
    "plus2021.name = '2020-2021 증감율'\n",
    "plus2021"
   ]
  },
  {
   "cell_type": "code",
   "execution_count": 34,
   "id": "d67733f5",
   "metadata": {},
   "outputs": [
    {
     "data": {
      "text/html": [
       "<div>\n",
       "<style scoped>\n",
       "    .dataframe tbody tr th:only-of-type {\n",
       "        vertical-align: middle;\n",
       "    }\n",
       "\n",
       "    .dataframe tbody tr th {\n",
       "        vertical-align: top;\n",
       "    }\n",
       "\n",
       "    .dataframe thead th {\n",
       "        text-align: right;\n",
       "    }\n",
       "</style>\n",
       "<table border=\"1\" class=\"dataframe\">\n",
       "  <thead>\n",
       "    <tr style=\"text-align: right;\">\n",
       "      <th></th>\n",
       "      <th>2019총계</th>\n",
       "      <th>2019-2020 증감율</th>\n",
       "      <th>2020총계</th>\n",
       "      <th>2020-2021 증감율</th>\n",
       "      <th>2021총계</th>\n",
       "    </tr>\n",
       "    <tr>\n",
       "      <th>관서명</th>\n",
       "      <th></th>\n",
       "      <th></th>\n",
       "      <th></th>\n",
       "      <th></th>\n",
       "      <th></th>\n",
       "    </tr>\n",
       "  </thead>\n",
       "  <tbody>\n",
       "    <tr>\n",
       "      <th>광주지방경찰청계</th>\n",
       "      <td>18830</td>\n",
       "      <td>-18.130643</td>\n",
       "      <td>15416</td>\n",
       "      <td>-9.516087</td>\n",
       "      <td>13949</td>\n",
       "    </tr>\n",
       "    <tr>\n",
       "      <th>광주동부경찰서</th>\n",
       "      <td>2355</td>\n",
       "      <td>-12.186837</td>\n",
       "      <td>2068</td>\n",
       "      <td>-13.007737</td>\n",
       "      <td>1799</td>\n",
       "    </tr>\n",
       "    <tr>\n",
       "      <th>광주서부경찰서</th>\n",
       "      <td>4720</td>\n",
       "      <td>-17.542373</td>\n",
       "      <td>3892</td>\n",
       "      <td>-6.526208</td>\n",
       "      <td>3638</td>\n",
       "    </tr>\n",
       "    <tr>\n",
       "      <th>광주남부경찰서</th>\n",
       "      <td>2117</td>\n",
       "      <td>-11.903637</td>\n",
       "      <td>1865</td>\n",
       "      <td>-17.050938</td>\n",
       "      <td>1547</td>\n",
       "    </tr>\n",
       "    <tr>\n",
       "      <th>광주북부경찰서</th>\n",
       "      <td>5466</td>\n",
       "      <td>-24.112697</td>\n",
       "      <td>4148</td>\n",
       "      <td>-4.893925</td>\n",
       "      <td>3945</td>\n",
       "    </tr>\n",
       "    <tr>\n",
       "      <th>광주광산경찰서</th>\n",
       "      <td>4172</td>\n",
       "      <td>-17.473634</td>\n",
       "      <td>3443</td>\n",
       "      <td>-12.285797</td>\n",
       "      <td>3020</td>\n",
       "    </tr>\n",
       "  </tbody>\n",
       "</table>\n",
       "</div>"
      ],
      "text/plain": [
       "          2019총계  2019-2020 증감율  2020총계  2020-2021 증감율  2021총계\n",
       "관서명                                                           \n",
       "광주지방경찰청계   18830     -18.130643   15416      -9.516087   13949\n",
       "광주동부경찰서     2355     -12.186837    2068     -13.007737    1799\n",
       "광주서부경찰서     4720     -17.542373    3892      -6.526208    3638\n",
       "광주남부경찰서     2117     -11.903637    1865     -17.050938    1547\n",
       "광주북부경찰서     5466     -24.112697    4148      -4.893925    3945\n",
       "광주광산경찰서     4172     -17.473634    3443     -12.285797    3020"
      ]
     },
     "execution_count": 34,
     "metadata": {},
     "output_type": "execute_result"
    }
   ],
   "source": [
    "# 시리즈 병합하기 (concat() 함수 사용)\n",
    "# concat함수는 시리즈, 데이터프레임을 병합해준다\n",
    "\n",
    "pd.concat([s2019, plus2020, s2020, plus2021, s2021], axis = 1) #????"
   ]
  },
  {
   "cell_type": "code",
   "execution_count": null,
   "id": "ce61bbf8",
   "metadata": {},
   "outputs": [],
   "source": []
  },
  {
   "cell_type": "code",
   "execution_count": null,
   "id": "ab4175f4",
   "metadata": {},
   "outputs": [],
   "source": []
  },
  {
   "cell_type": "code",
   "execution_count": null,
   "id": "c4c18a0e",
   "metadata": {},
   "outputs": [],
   "source": []
  },
  {
   "cell_type": "code",
   "execution_count": null,
   "id": "acdbe0f6",
   "metadata": {},
   "outputs": [],
   "source": []
  },
  {
   "cell_type": "code",
   "execution_count": null,
   "id": "f134b1a0",
   "metadata": {},
   "outputs": [],
   "source": []
  },
  {
   "cell_type": "code",
   "execution_count": null,
   "id": "8bf04b44",
   "metadata": {},
   "outputs": [],
   "source": []
  }
 ],
 "metadata": {
  "kernelspec": {
   "display_name": "Python 3 (ipykernel)",
   "language": "python",
   "name": "python3"
  },
  "language_info": {
   "codemirror_mode": {
    "name": "ipython",
    "version": 3
   },
   "file_extension": ".py",
   "mimetype": "text/x-python",
   "name": "python",
   "nbconvert_exporter": "python",
   "pygments_lexer": "ipython3",
   "version": "3.11.5"
  }
 },
 "nbformat": 4,
 "nbformat_minor": 5
}
