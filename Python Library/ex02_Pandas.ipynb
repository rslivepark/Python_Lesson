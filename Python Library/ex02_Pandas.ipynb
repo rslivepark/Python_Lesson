{
 "cells": [
  {
   "cell_type": "markdown",
   "id": "dacb9813",
   "metadata": {},
   "source": [
    "### Pandas\n",
    "- Panel Datas \n",
    "\n",
    "#### Pandas에서 제공하는 데이터 구조\n",
    "1. Series : 1차원\n",
    "- 인덱스(index)와 value\n",
    "- column name(컬럼명) 존재하지 않음\n",
    "\n",
    "2. DataFrame : 2차원\n",
    "- 행과 열을 가지는 표와 같은 형태\n",
    "- 서로 다른 자료형 저장 가능\n",
    "- 1차원의 시리즈가 모여 2차원의 데이터프레임 구조가 된다"
   ]
  },
  {
   "cell_type": "code",
   "execution_count": 2,
   "id": "ff20e282",
   "metadata": {},
   "outputs": [],
   "source": [
    "# Pandas 라이브러리 로딩(가져오기)\n",
    "\n",
    "import pandas as pd"
   ]
  },
  {
   "cell_type": "markdown",
   "id": "d4680559",
   "metadata": {},
   "source": [
    "### Series Data Structure"
   ]
  },
  {
   "cell_type": "code",
   "execution_count": null,
   "id": "e6073dc1",
   "metadata": {},
   "outputs": [],
   "source": [
    "# Series 생성하기 (리스트 활용)\n",
    "# 인덱스는 0부터 자동으로 부여된다\n",
    "\n",
    "population = pd.Series([9904312,3448737,2890451,1466052])\n",
    "print(population)"
   ]
  },
  {
   "cell_type": "code",
   "execution_count": null,
   "id": "5296998d",
   "metadata": {},
   "outputs": [],
   "source": [
    "# 인덱스 이름을 지정해서 Series 생성하기\n",
    "#  인덱스값과 데이터 value 개수가 같아야 함 (1:1로 대응되는 자료구조)\n",
    "\n",
    "population = pd.Series([9904312,3448737,2890451,1466052], \n",
    "                      index = [\"서울\", \"부산\", \"인천\", \"광주\"])\n",
    "print(population)"
   ]
  },
  {
   "cell_type": "markdown",
   "id": "38cf6cc1",
   "metadata": {},
   "source": [
    "#### Series 데이터 확인"
   ]
  },
  {
   "cell_type": "code",
   "execution_count": null,
   "id": "c409dbc5",
   "metadata": {},
   "outputs": [],
   "source": [
    "# Series 값 확인\n",
    "# 시리즈명(변수명).values\n",
    "\n",
    "population.values\n",
    "# Series의 데이터 values는 ndArray(넘파이 배열) 형태이다"
   ]
  },
  {
   "cell_type": "code",
   "execution_count": null,
   "id": "c3053116",
   "metadata": {},
   "outputs": [],
   "source": [
    "# Series 인덱스 값 확인\n",
    "# 시리즈명(변수명).index\n",
    "\n",
    "population.index\n",
    "# dtype = 'object' => 문자열 의미"
   ]
  },
  {
   "cell_type": "code",
   "execution_count": null,
   "id": "586170f8",
   "metadata": {},
   "outputs": [],
   "source": [
    "# Series 이름 지정\n",
    "# 사용이유?? => 이름을 지정해주면 시리즈를 직관적으로 이해할 수 있다\n",
    "\n",
    "# 시리즈명.name = '지어줄 이름'\n",
    "population.name = '인구수'\n",
    "population"
   ]
  },
  {
   "cell_type": "code",
   "execution_count": null,
   "id": "f4360f16",
   "metadata": {},
   "outputs": [],
   "source": [
    "# Series Index에 이름 지정\n",
    "# 시리즈명.index.name = '지어줄 이름'\n",
    "\n",
    "population.index.name = '도시'\n",
    "population"
   ]
  },
  {
   "cell_type": "markdown",
   "id": "64ca05be",
   "metadata": {},
   "source": [
    "#### Series 데이터 구조의 연산\n",
    "- 요소별로 데이터 연산이 진행된다"
   ]
  },
  {
   "cell_type": "code",
   "execution_count": null,
   "id": "a5ea02ba",
   "metadata": {},
   "outputs": [],
   "source": [
    "# Series 데이터 구조는 넘파이배열 기반 --> 요소별 연산이 가능하다!!!!\n",
    "population / 1000000"
   ]
  },
  {
   "cell_type": "markdown",
   "id": "9db38ef6",
   "metadata": {},
   "source": [
    "#### Series 인덱싱 & 슬라이싱"
   ]
  },
  {
   "cell_type": "code",
   "execution_count": null,
   "id": "f92076df",
   "metadata": {},
   "outputs": [],
   "source": [
    "population"
   ]
  },
  {
   "cell_type": "code",
   "execution_count": null,
   "id": "50f95e9c",
   "metadata": {},
   "outputs": [],
   "source": [
    "# 광주의 인구수 출력하기\n",
    "\n",
    "# 인덱스 번호 인덱싱\n",
    "print(population[3])\n",
    "\n",
    "# 인덱스명을 통해서도 인덱싱 가능!\n",
    "print(population['광주'])"
   ]
  },
  {
   "cell_type": "code",
   "execution_count": null,
   "id": "67de2ade",
   "metadata": {},
   "outputs": [],
   "source": [
    "# 인덱싱을 활용해서 여러 개의 데이터 추출\n",
    "# 서울, 광주, 부산 순으로 데이터 가져오기\n",
    "print(population[[0,3,1]])\n",
    "print(population[['서울','광주','부산']])"
   ]
  },
  {
   "cell_type": "markdown",
   "id": "1072abfa",
   "metadata": {},
   "source": [
    "#### 슬라이싱"
   ]
  },
  {
   "cell_type": "code",
   "execution_count": null,
   "id": "197fd1dd",
   "metadata": {},
   "outputs": [],
   "source": [
    "# Series명[시작인덱스:끝인덱스+1]\n",
    "# 인덱스 번호로 슬라이싱\n",
    "# 부산 ~ 인천\n",
    "print(population[1:3])\n",
    "\n",
    "# 인덱스 이름으로 슬라이싱 -> +1 개념이 없으므로 가져오고자 하는 이름 작성\n",
    "# 부산 ~ 인천\n",
    "print(population['부산' : '인천'])"
   ]
  },
  {
   "cell_type": "markdown",
   "id": "33058e15",
   "metadata": {},
   "source": [
    "### Series 불리언 인덱싱\n",
    "- 원하는 조건에 해당하는 데이터를 가져올 때 사용\n",
    "- 시리즈명[조건]"
   ]
  },
  {
   "cell_type": "code",
   "execution_count": null,
   "id": "e5120372",
   "metadata": {},
   "outputs": [],
   "source": [
    "# 인구수가 250만 이상인 도시들만 출력해보기\n",
    "population >= 2500000 # 논리연산 결과임(boolean 자료형) 인덱싱 한 거 아님 ㅇㅇ\n",
    "population[population>=2500000]"
   ]
  },
  {
   "cell_type": "code",
   "execution_count": null,
   "id": "b05448b0",
   "metadata": {},
   "outputs": [],
   "source": [
    "# 인구수가 250만 이상이면서 500만 이하인 도시 출력\n",
    "# and - &\n",
    "# or - |\n",
    "population[(population>=2500000) & (population<=500000)]"
   ]
  },
  {
   "cell_type": "markdown",
   "id": "600e745e",
   "metadata": {},
   "source": [
    "### 딕셔너리 자료형 Series 생성\n",
    "- { key : value }\n",
    "- key 값은 index\n",
    "- value 값은 value "
   ]
  },
  {
   "cell_type": "markdown",
   "id": "d47033fa",
   "metadata": {},
   "source": [
    "#### 포켓몬..."
   ]
  },
  {
   "cell_type": "code",
   "execution_count": 8,
   "id": "71bc388c",
   "metadata": {},
   "outputs": [
    {
     "data": {
      "text/plain": [
       "파이리    9631\n",
       "꼬부기    3383\n",
       "잠만보    1046\n",
       "오박사       3\n",
       "dtype: int64"
      ]
     },
     "execution_count": 8,
     "metadata": {},
     "output_type": "execute_result"
    }
   ],
   "source": [
    "# 포켓몬 : 능력치\n",
    "data = { \"파이리\"  : 9631, \n",
    "\"꼬부기\" : 3383,\n",
    " \"잠만보\" : 1046,\n",
    " \"오박사\" : 3\n",
    "}\n",
    "data\n",
    "\n",
    "pocketmon = pd.Series(data)\n",
    "pocketmon"
   ]
  },
  {
   "cell_type": "code",
   "execution_count": 7,
   "id": "e8c7e910",
   "metadata": {},
   "outputs": [
    {
     "data": {
      "text/plain": [
       "리자드     9999\n",
       "어니부기    4500\n",
       "잠만보     3000\n",
       "오박사        5\n",
       "dtype: int64"
      ]
     },
     "execution_count": 7,
     "metadata": {},
     "output_type": "execute_result"
    }
   ],
   "source": [
    "# 레벨업한 데이터가 들어있는 pocketmon_up 만들기\n",
    "data2 = {'리자드' : 9999, \"어니부기\" : 4500, \"잠만보\" : 3000, \"오박사\" : 5}\n",
    "pocketmon_up = pd.Series(data2)\n",
    "pocketmon_up"
   ]
  },
  {
   "cell_type": "code",
   "execution_count": 10,
   "id": "d747a526",
   "metadata": {},
   "outputs": [
    {
     "data": {
      "text/plain": [
       "꼬부기        NaN\n",
       "리자드        NaN\n",
       "어니부기       NaN\n",
       "오박사        2.0\n",
       "잠만보     1954.0\n",
       "파이리        NaN\n",
       "dtype: float64"
      ]
     },
     "execution_count": 10,
     "metadata": {},
     "output_type": "execute_result"
    }
   ],
   "source": [
    "# 올라간 능력치 계산하기\n",
    "up = pocketmon_up - pocketmon\n",
    "up\n",
    "\n",
    "# 인덱스명이 다르면 Series 연산하게 되면 NaN (Not a Number=결측치) 출력"
   ]
  },
  {
   "cell_type": "markdown",
   "id": "72c7b04b",
   "metadata": {},
   "source": [
    "- 결측치(NaN)가 있는 Series 데이터 처리하는 방법"
   ]
  },
  {
   "cell_type": "code",
   "execution_count": 16,
   "id": "67edeedc",
   "metadata": {},
   "outputs": [
    {
     "name": "stdout",
     "output_type": "stream",
     "text": [
      "오박사       2.0\n",
      "잠만보    1954.0\n",
      "dtype: float64\n"
     ]
    }
   ],
   "source": [
    "# 비어있지 않은 데이터들만 출력한다면??? -> notnull() 사용\n",
    "up.notnull()\n",
    "\n",
    "# 비어있지 않은 데이터만 인덱싱해서 출력 -> 불리언 인덱싱\n",
    "print(up[up.notnull()])"
   ]
  },
  {
   "cell_type": "code",
   "execution_count": 15,
   "id": "a2acfdf5",
   "metadata": {},
   "outputs": [
    {
     "name": "stdout",
     "output_type": "stream",
     "text": [
      "꼬부기    NaN\n",
      "리자드    NaN\n",
      "어니부기   NaN\n",
      "파이리    NaN\n",
      "dtype: float64\n"
     ]
    }
   ],
   "source": [
    "# 비어있는 데이터만 보고 싶다면??? -> isnull() 사용\n",
    "up.isnull()\n",
    "\n",
    "# 비어있는 데이터만 인덱싱해서 출력 -> 불리언인덱싱\n",
    "print(up[up.isnull()])"
   ]
  },
  {
   "cell_type": "code",
   "execution_count": 20,
   "id": "acee6eeb",
   "metadata": {},
   "outputs": [
    {
     "name": "stdout",
     "output_type": "stream",
     "text": [
      "리자드     9999\n",
      "어니부기    4500\n",
      "잠만보     3000\n",
      "오박사        5\n",
      "dtype: int64\n",
      "파이리    9631\n",
      "꼬부기    3383\n",
      "잠만보    1046\n",
      "오박사       3\n",
      "dtype: int64\n"
     ]
    }
   ],
   "source": [
    "# 레벨업해서 올라간 능력치의 증가율(%) 계산해보기\n",
    "# (올라간 데이터 - 원래 데이터) / 원래데이터 * 100\n",
    "print(pocketmon_up)\n",
    "print(pocketmon)\n",
    "\n",
    "ch = (pocketmon_up - pocketmon) / pocketmon * 100"
   ]
  },
  {
   "cell_type": "markdown",
   "id": "5f5b81a9",
   "metadata": {},
   "source": [
    "### Series 데이터 갱신, 추가, 삭제 방법"
   ]
  },
  {
   "cell_type": "code",
   "execution_count": 23,
   "id": "bee90b13",
   "metadata": {},
   "outputs": [
    {
     "data": {
      "text/plain": [
       "꼬부기            NaN\n",
       "리자드            NaN\n",
       "어니부기           NaN\n",
       "오박사      66.666667\n",
       "잠만보     186.806883\n",
       "파이리            NaN\n",
       "피카츄      55.000000\n",
       "dtype: float64"
      ]
     },
     "execution_count": 23,
     "metadata": {},
     "output_type": "execute_result"
    }
   ],
   "source": [
    "# Series 데이터 값 추가\n",
    "# 기존에 없던 인덱스 명칭 활용하여 value 추가 가능\n",
    "# Series명['추가하고 싶은 인덱스명'] = value\n",
    "\n",
    "ch['피카츄'] = 55\n",
    "ch"
   ]
  },
  {
   "cell_type": "code",
   "execution_count": 24,
   "id": "96375b90",
   "metadata": {},
   "outputs": [
    {
     "data": {
      "text/plain": [
       "꼬부기            NaN\n",
       "리자드            NaN\n",
       "어니부기           NaN\n",
       "오박사      30.000000\n",
       "잠만보     186.806883\n",
       "파이리            NaN\n",
       "피카츄      55.000000\n",
       "dtype: float64"
      ]
     },
     "execution_count": 24,
     "metadata": {},
     "output_type": "execute_result"
    }
   ],
   "source": [
    "# Series 데이터 값 수정\n",
    "# 기존에 있는 인덱스명을 활용하여 value 수정 가능\n",
    "# Series명['수정하고 싶은 인덱스명'] = value\n",
    "\n",
    "ch['오박사'] = 30\n",
    "ch"
   ]
  },
  {
   "cell_type": "code",
   "execution_count": 25,
   "id": "1b3d4273",
   "metadata": {},
   "outputs": [
    {
     "data": {
      "text/plain": [
       "꼬부기            NaN\n",
       "리자드            NaN\n",
       "어니부기           NaN\n",
       "잠만보     186.806883\n",
       "파이리            NaN\n",
       "피카츄      55.000000\n",
       "dtype: float64"
      ]
     },
     "execution_count": 25,
     "metadata": {},
     "output_type": "execute_result"
    }
   ],
   "source": [
    "# Series 데이터 값 삭제\n",
    "# del\n",
    "del ch['오박사']\n",
    "ch"
   ]
  },
  {
   "cell_type": "code",
   "execution_count": null,
   "id": "2a71268b",
   "metadata": {},
   "outputs": [],
   "source": [
    "# 인덱스 이름 수정하는 방법\n",
    "# ch.rename({'파이리': '뮤츠'})\n",
    "# 데이터 자체에는 변화 없음. 데이터 변경하려면 재대입 필요ㅇㅇ"
   ]
  },
  {
   "cell_type": "markdown",
   "id": "3bb0e378",
   "metadata": {},
   "source": [
    "#### DataFrame\n",
    "- 행, 열로 구성된 2차원 데이터 구조(엑셀 표 형태)\n",
    "- 1차원의 Series들이 모여 2차원이 된 형태"
   ]
  },
  {
   "cell_type": "code",
   "execution_count": 29,
   "id": "49069e59",
   "metadata": {},
   "outputs": [
    {
     "data": {
      "text/html": [
       "<div>\n",
       "<style scoped>\n",
       "    .dataframe tbody tr th:only-of-type {\n",
       "        vertical-align: middle;\n",
       "    }\n",
       "\n",
       "    .dataframe tbody tr th {\n",
       "        vertical-align: top;\n",
       "    }\n",
       "\n",
       "    .dataframe thead th {\n",
       "        text-align: right;\n",
       "    }\n",
       "</style>\n",
       "<table border=\"1\" class=\"dataframe\">\n",
       "  <thead>\n",
       "    <tr style=\"text-align: right;\">\n",
       "      <th></th>\n",
       "      <th>2015</th>\n",
       "      <th>2010</th>\n",
       "    </tr>\n",
       "  </thead>\n",
       "  <tbody>\n",
       "    <tr>\n",
       "      <th>서울</th>\n",
       "      <td>9904312</td>\n",
       "      <td>9631482</td>\n",
       "    </tr>\n",
       "    <tr>\n",
       "      <th>부산</th>\n",
       "      <td>3448737</td>\n",
       "      <td>3393191</td>\n",
       "    </tr>\n",
       "    <tr>\n",
       "      <th>인천</th>\n",
       "      <td>2890451</td>\n",
       "      <td>2632035</td>\n",
       "    </tr>\n",
       "    <tr>\n",
       "      <th>광주</th>\n",
       "      <td>2446052</td>\n",
       "      <td>2431774</td>\n",
       "    </tr>\n",
       "  </tbody>\n",
       "</table>\n",
       "</div>"
      ],
      "text/plain": [
       "       2015     2010\n",
       "서울  9904312  9631482\n",
       "부산  3448737  3393191\n",
       "인천  2890451  2632035\n",
       "광주  2446052  2431774"
      ]
     },
     "execution_count": 29,
     "metadata": {},
     "output_type": "execute_result"
    }
   ],
   "source": [
    "# 딕셔너리 자료형으로 DataFrame 생성\n",
    "\n",
    "# 딕셔너리 생성\n",
    "data = {\"2015\" : [9904312, 3448737 , 2890451, 2446052],\n",
    "              \"2010\" : [9631482, 3393191, 2632035, 2431774]}\n",
    "\n",
    "# key -> 컬럼명(열이름)\n",
    "# value -> value(데이터)\n",
    "# 인덱스는 자동으로 지정됨\n",
    "\n",
    "# 데이터 프레임 생성\n",
    "df = pd.DataFrame(data, index=['서울', '부산', '인천', '광주'])  # df : dataframe\n",
    "df"
   ]
  },
  {
   "cell_type": "code",
   "execution_count": 31,
   "id": "2dfc0615",
   "metadata": {},
   "outputs": [
    {
     "data": {
      "text/html": [
       "<div>\n",
       "<style scoped>\n",
       "    .dataframe tbody tr th:only-of-type {\n",
       "        vertical-align: middle;\n",
       "    }\n",
       "\n",
       "    .dataframe tbody tr th {\n",
       "        vertical-align: top;\n",
       "    }\n",
       "\n",
       "    .dataframe thead th {\n",
       "        text-align: right;\n",
       "    }\n",
       "</style>\n",
       "<table border=\"1\" class=\"dataframe\">\n",
       "  <thead>\n",
       "    <tr style=\"text-align: right;\">\n",
       "      <th></th>\n",
       "      <th>서울</th>\n",
       "      <th>부산</th>\n",
       "      <th>인천</th>\n",
       "      <th>광주</th>\n",
       "    </tr>\n",
       "  </thead>\n",
       "  <tbody>\n",
       "    <tr>\n",
       "      <th>2020</th>\n",
       "      <td>9668465</td>\n",
       "      <td>3391946</td>\n",
       "      <td>2942828</td>\n",
       "      <td>1450062</td>\n",
       "    </tr>\n",
       "    <tr>\n",
       "      <th>2010</th>\n",
       "      <td>10312545</td>\n",
       "      <td>3567910</td>\n",
       "      <td>2758296</td>\n",
       "      <td>1454636</td>\n",
       "    </tr>\n",
       "  </tbody>\n",
       "</table>\n",
       "</div>"
      ],
      "text/plain": [
       "            서울       부산       인천       광주\n",
       "2020   9668465  3391946  2942828  1450062\n",
       "2010  10312545  3567910  2758296  1454636"
      ]
     },
     "execution_count": 31,
     "metadata": {},
     "output_type": "execute_result"
    }
   ],
   "source": [
    "# 리스트 자료형으로 DataFrame 생성\n",
    "# 데이터프레임에 들어가는 모든 값들을 일일이 지정해줘야 함\n",
    "\n",
    "# value가 될 리스트 2차원으로 만들기\n",
    "data1 = [[9668465,3391946,2942828,1450062],\n",
    "                [10312545,3567910,2758296,1454636]]\n",
    "\n",
    "# index가 될 리스트\n",
    "ind = ['2020', '2010']\n",
    "\n",
    "# 컬럼명이 될 리스트\n",
    "col = ['서울', '부산', '인천', '광주']\n",
    "\n",
    "df1 = pd.DataFrame(data1, index = ind, columns = col)\n",
    "df1"
   ]
  },
  {
   "cell_type": "code",
   "execution_count": 34,
   "id": "0f2c89d5",
   "metadata": {},
   "outputs": [
    {
     "data": {
      "text/html": [
       "<div>\n",
       "<style scoped>\n",
       "    .dataframe tbody tr th:only-of-type {\n",
       "        vertical-align: middle;\n",
       "    }\n",
       "\n",
       "    .dataframe tbody tr th {\n",
       "        vertical-align: top;\n",
       "    }\n",
       "\n",
       "    .dataframe thead th {\n",
       "        text-align: right;\n",
       "    }\n",
       "</style>\n",
       "<table border=\"1\" class=\"dataframe\">\n",
       "  <thead>\n",
       "    <tr style=\"text-align: right;\">\n",
       "      <th></th>\n",
       "      <th>2020</th>\n",
       "      <th>2010</th>\n",
       "    </tr>\n",
       "  </thead>\n",
       "  <tbody>\n",
       "    <tr>\n",
       "      <th>서울</th>\n",
       "      <td>9668465</td>\n",
       "      <td>10312545</td>\n",
       "    </tr>\n",
       "    <tr>\n",
       "      <th>부산</th>\n",
       "      <td>3391946</td>\n",
       "      <td>3567910</td>\n",
       "    </tr>\n",
       "    <tr>\n",
       "      <th>인천</th>\n",
       "      <td>2942828</td>\n",
       "      <td>2758296</td>\n",
       "    </tr>\n",
       "    <tr>\n",
       "      <th>광주</th>\n",
       "      <td>1450062</td>\n",
       "      <td>1454636</td>\n",
       "    </tr>\n",
       "  </tbody>\n",
       "</table>\n",
       "</div>"
      ],
      "text/plain": [
       "       2020      2010\n",
       "서울  9668465  10312545\n",
       "부산  3391946   3567910\n",
       "인천  2942828   2758296\n",
       "광주  1450062   1454636"
      ]
     },
     "execution_count": 34,
     "metadata": {},
     "output_type": "execute_result"
    }
   ],
   "source": [
    "# 데이터프레임 전치시키기 - 행, 열 위치를 바꿔줌(Transpose)\n",
    "# 전치시킨 후 다시 변수에 재대입 해주어야 한다\n",
    "\n",
    "df1 = df1.T\n",
    "df1"
   ]
  },
  {
   "cell_type": "markdown",
   "id": "5e68f622",
   "metadata": {},
   "source": [
    "### 데이터프레임 구조 확인\n",
    "- values : 값, 데이터 확인\n",
    "- index : 인덱스 확인\n",
    "- columns : 컬럼명 확인"
   ]
  },
  {
   "cell_type": "code",
   "execution_count": 35,
   "id": "1c8ce903",
   "metadata": {},
   "outputs": [
    {
     "data": {
      "text/plain": [
       "array([[9904312, 9631482],\n",
       "       [3448737, 3393191],\n",
       "       [2890451, 2632035],\n",
       "       [2446052, 2431774]], dtype=int64)"
      ]
     },
     "execution_count": 35,
     "metadata": {},
     "output_type": "execute_result"
    }
   ],
   "source": [
    "df.values"
   ]
  },
  {
   "cell_type": "code",
   "execution_count": 36,
   "id": "88db196e",
   "metadata": {},
   "outputs": [
    {
     "data": {
      "text/plain": [
       "Index(['서울', '부산', '인천', '광주'], dtype='object')"
      ]
     },
     "execution_count": 36,
     "metadata": {},
     "output_type": "execute_result"
    }
   ],
   "source": [
    "df.index"
   ]
  },
  {
   "cell_type": "code",
   "execution_count": 37,
   "id": "8c8d213a",
   "metadata": {},
   "outputs": [
    {
     "data": {
      "text/plain": [
       "Index(['2015', '2010'], dtype='object')"
      ]
     },
     "execution_count": 37,
     "metadata": {},
     "output_type": "execute_result"
    }
   ],
   "source": [
    "df.columns"
   ]
  },
  {
   "cell_type": "markdown",
   "id": "300901d2",
   "metadata": {},
   "source": [
    "### DataFrame 인덱싱, 슬라이싱"
   ]
  },
  {
   "cell_type": "code",
   "execution_count": 41,
   "id": "ea7e9d96",
   "metadata": {},
   "outputs": [
    {
     "data": {
      "text/html": [
       "<div>\n",
       "<style scoped>\n",
       "    .dataframe tbody tr th:only-of-type {\n",
       "        vertical-align: middle;\n",
       "    }\n",
       "\n",
       "    .dataframe tbody tr th {\n",
       "        vertical-align: top;\n",
       "    }\n",
       "\n",
       "    .dataframe thead th {\n",
       "        text-align: right;\n",
       "    }\n",
       "</style>\n",
       "<table border=\"1\" class=\"dataframe\">\n",
       "  <thead>\n",
       "    <tr style=\"text-align: right;\">\n",
       "      <th></th>\n",
       "      <th>2015</th>\n",
       "    </tr>\n",
       "  </thead>\n",
       "  <tbody>\n",
       "    <tr>\n",
       "      <th>서울</th>\n",
       "      <td>9904312</td>\n",
       "    </tr>\n",
       "    <tr>\n",
       "      <th>부산</th>\n",
       "      <td>3448737</td>\n",
       "    </tr>\n",
       "    <tr>\n",
       "      <th>인천</th>\n",
       "      <td>2890451</td>\n",
       "    </tr>\n",
       "    <tr>\n",
       "      <th>광주</th>\n",
       "      <td>2446052</td>\n",
       "    </tr>\n",
       "  </tbody>\n",
       "</table>\n",
       "</div>"
      ],
      "text/plain": [
       "       2015\n",
       "서울  9904312\n",
       "부산  3448737\n",
       "인천  2890451\n",
       "광주  2446052"
      ]
     },
     "execution_count": 41,
     "metadata": {},
     "output_type": "execute_result"
    }
   ],
   "source": [
    "# DataFrame 열 인덱싱\n",
    "df['2015'] # 1차원 형태 인덱싱\n",
    "df[['2015']] # 2차원 형태로 인덱싱\n",
    "\n",
    "# Series 형태로 출력됨\n",
    "# DataFrame 은 여러개의 Series로 구성이 되어 있기 때문"
   ]
  },
  {
   "cell_type": "code",
   "execution_count": 45,
   "id": "ff3f857f",
   "metadata": {},
   "outputs": [
    {
     "data": {
      "text/html": [
       "<div>\n",
       "<style scoped>\n",
       "    .dataframe tbody tr th:only-of-type {\n",
       "        vertical-align: middle;\n",
       "    }\n",
       "\n",
       "    .dataframe tbody tr th {\n",
       "        vertical-align: top;\n",
       "    }\n",
       "\n",
       "    .dataframe thead th {\n",
       "        text-align: right;\n",
       "    }\n",
       "</style>\n",
       "<table border=\"1\" class=\"dataframe\">\n",
       "  <thead>\n",
       "    <tr style=\"text-align: right;\">\n",
       "      <th></th>\n",
       "      <th>2010</th>\n",
       "      <th>2015</th>\n",
       "    </tr>\n",
       "  </thead>\n",
       "  <tbody>\n",
       "    <tr>\n",
       "      <th>서울</th>\n",
       "      <td>9631482</td>\n",
       "      <td>9904312</td>\n",
       "    </tr>\n",
       "    <tr>\n",
       "      <th>부산</th>\n",
       "      <td>3393191</td>\n",
       "      <td>3448737</td>\n",
       "    </tr>\n",
       "    <tr>\n",
       "      <th>인천</th>\n",
       "      <td>2632035</td>\n",
       "      <td>2890451</td>\n",
       "    </tr>\n",
       "    <tr>\n",
       "      <th>광주</th>\n",
       "      <td>2431774</td>\n",
       "      <td>2446052</td>\n",
       "    </tr>\n",
       "  </tbody>\n",
       "</table>\n",
       "</div>"
      ],
      "text/plain": [
       "       2010     2015\n",
       "서울  9631482  9904312\n",
       "부산  3393191  3448737\n",
       "인천  2632035  2890451\n",
       "광주  2431774  2446052"
      ]
     },
     "execution_count": 45,
     "metadata": {},
     "output_type": "execute_result"
    }
   ],
   "source": [
    "# 두 개의 컬럼 출력하기\n",
    "\n",
    "# 2010, 2015 순서대로 가져오기\n",
    "df[['2010', '2015']] # df['2010', '2015'] -> error 발생"
   ]
  },
  {
   "cell_type": "markdown",
   "id": "27e7f8af",
   "metadata": {},
   "source": [
    "### DataFrame 행, 열 데이터 추가, 수정, 삭제"
   ]
  },
  {
   "cell_type": "markdown",
   "id": "c0efe29f",
   "metadata": {},
   "source": [
    "#### 추가"
   ]
  },
  {
   "cell_type": "code",
   "execution_count": 48,
   "id": "69fc2bea",
   "metadata": {},
   "outputs": [
    {
     "data": {
      "text/html": [
       "<div>\n",
       "<style scoped>\n",
       "    .dataframe tbody tr th:only-of-type {\n",
       "        vertical-align: middle;\n",
       "    }\n",
       "\n",
       "    .dataframe tbody tr th {\n",
       "        vertical-align: top;\n",
       "    }\n",
       "\n",
       "    .dataframe thead th {\n",
       "        text-align: right;\n",
       "    }\n",
       "</style>\n",
       "<table border=\"1\" class=\"dataframe\">\n",
       "  <thead>\n",
       "    <tr style=\"text-align: right;\">\n",
       "      <th></th>\n",
       "      <th>2015</th>\n",
       "      <th>2010</th>\n",
       "      <th>2005</th>\n",
       "    </tr>\n",
       "  </thead>\n",
       "  <tbody>\n",
       "    <tr>\n",
       "      <th>서울</th>\n",
       "      <td>9904312</td>\n",
       "      <td>9631482</td>\n",
       "      <td>9762546</td>\n",
       "    </tr>\n",
       "    <tr>\n",
       "      <th>부산</th>\n",
       "      <td>3448737</td>\n",
       "      <td>3393191</td>\n",
       "      <td>3512547</td>\n",
       "    </tr>\n",
       "    <tr>\n",
       "      <th>인천</th>\n",
       "      <td>2890451</td>\n",
       "      <td>2632035</td>\n",
       "      <td>2517680</td>\n",
       "    </tr>\n",
       "    <tr>\n",
       "      <th>광주</th>\n",
       "      <td>2446052</td>\n",
       "      <td>2431774</td>\n",
       "      <td>1456016</td>\n",
       "    </tr>\n",
       "  </tbody>\n",
       "</table>\n",
       "</div>"
      ],
      "text/plain": [
       "       2015     2010     2005\n",
       "서울  9904312  9631482  9762546\n",
       "부산  3448737  3393191  3512547\n",
       "인천  2890451  2632035  2517680\n",
       "광주  2446052  2431774  1456016"
      ]
     },
     "execution_count": 48,
     "metadata": {},
     "output_type": "execute_result"
    }
   ],
   "source": [
    "df['2005'] = [9762546,3512547,2517680,1456016]\n",
    "df"
   ]
  },
  {
   "cell_type": "markdown",
   "id": "c24ead5a",
   "metadata": {},
   "source": [
    "#### 삭제\n",
    "- drop() 메소드\n",
    "- 삭제한 결과를 변수명에 재대입 해줘야 결과값이 저장된다"
   ]
  },
  {
   "cell_type": "code",
   "execution_count": 59,
   "id": "64274041",
   "metadata": {},
   "outputs": [
    {
     "data": {
      "text/html": [
       "<div>\n",
       "<style scoped>\n",
       "    .dataframe tbody tr th:only-of-type {\n",
       "        vertical-align: middle;\n",
       "    }\n",
       "\n",
       "    .dataframe tbody tr th {\n",
       "        vertical-align: top;\n",
       "    }\n",
       "\n",
       "    .dataframe thead th {\n",
       "        text-align: right;\n",
       "    }\n",
       "</style>\n",
       "<table border=\"1\" class=\"dataframe\">\n",
       "  <thead>\n",
       "    <tr style=\"text-align: right;\">\n",
       "      <th></th>\n",
       "      <th>2015</th>\n",
       "      <th>2010</th>\n",
       "      <th>2005</th>\n",
       "    </tr>\n",
       "  </thead>\n",
       "  <tbody>\n",
       "    <tr>\n",
       "      <th>서울</th>\n",
       "      <td>9904312</td>\n",
       "      <td>9631482</td>\n",
       "      <td>9762546</td>\n",
       "    </tr>\n",
       "    <tr>\n",
       "      <th>인천</th>\n",
       "      <td>2890451</td>\n",
       "      <td>2632035</td>\n",
       "      <td>2517680</td>\n",
       "    </tr>\n",
       "    <tr>\n",
       "      <th>광주</th>\n",
       "      <td>2446052</td>\n",
       "      <td>2431774</td>\n",
       "      <td>1456016</td>\n",
       "    </tr>\n",
       "  </tbody>\n",
       "</table>\n",
       "</div>"
      ],
      "text/plain": [
       "       2015     2010     2005\n",
       "서울  9904312  9631482  9762546\n",
       "인천  2890451  2632035  2517680\n",
       "광주  2446052  2431774  1456016"
      ]
     },
     "execution_count": 59,
     "metadata": {},
     "output_type": "execute_result"
    }
   ],
   "source": [
    "# df.drop('삭제할 인덱스명') => 행 삭제..\n",
    "\n",
    "# df.drop('부산')\n",
    "\n",
    "# inplace : 변경값을 저장할 때 사용 -제자리에, ~할 준비가 되어있는 \n",
    "# inplace = True : 변경값을 저장하겠다\n",
    "#                 False : 변경값을 저장하지 않겠다 ( 기본값)\n",
    "\n",
    "# df.drop('부산', inplace = True)\n",
    "df"
   ]
  },
  {
   "cell_type": "code",
   "execution_count": 56,
   "id": "2fa2f7ac",
   "metadata": {},
   "outputs": [
    {
     "data": {
      "text/html": [
       "<div>\n",
       "<style scoped>\n",
       "    .dataframe tbody tr th:only-of-type {\n",
       "        vertical-align: middle;\n",
       "    }\n",
       "\n",
       "    .dataframe tbody tr th {\n",
       "        vertical-align: top;\n",
       "    }\n",
       "\n",
       "    .dataframe thead th {\n",
       "        text-align: right;\n",
       "    }\n",
       "</style>\n",
       "<table border=\"1\" class=\"dataframe\">\n",
       "  <thead>\n",
       "    <tr style=\"text-align: right;\">\n",
       "      <th></th>\n",
       "      <th>2015</th>\n",
       "      <th>2010</th>\n",
       "    </tr>\n",
       "  </thead>\n",
       "  <tbody>\n",
       "    <tr>\n",
       "      <th>서울</th>\n",
       "      <td>9904312</td>\n",
       "      <td>9631482</td>\n",
       "    </tr>\n",
       "    <tr>\n",
       "      <th>인천</th>\n",
       "      <td>2890451</td>\n",
       "      <td>2632035</td>\n",
       "    </tr>\n",
       "    <tr>\n",
       "      <th>광주</th>\n",
       "      <td>2446052</td>\n",
       "      <td>2431774</td>\n",
       "    </tr>\n",
       "  </tbody>\n",
       "</table>\n",
       "</div>"
      ],
      "text/plain": [
       "       2015     2010\n",
       "서울  9904312  9631482\n",
       "인천  2890451  2632035\n",
       "광주  2446052  2431774"
      ]
     },
     "execution_count": 56,
     "metadata": {},
     "output_type": "execute_result"
    }
   ],
   "source": [
    "# 2005년도 열 데이터 삭제\n",
    "# drop() 메소드 axis 기본값은 0 : 행방향\n",
    "# 열방향으로 삭제하고 싶을 때는 축 설정을 해주어야 한다 (axis = 1)\n",
    "\n",
    "df.drop('2005', axis = 1)"
   ]
  },
  {
   "cell_type": "markdown",
   "id": "9562e481",
   "metadata": {},
   "source": [
    "#### 수정"
   ]
  },
  {
   "cell_type": "code",
   "execution_count": 60,
   "id": "0643c97e",
   "metadata": {},
   "outputs": [
    {
     "data": {
      "text/html": [
       "<div>\n",
       "<style scoped>\n",
       "    .dataframe tbody tr th:only-of-type {\n",
       "        vertical-align: middle;\n",
       "    }\n",
       "\n",
       "    .dataframe tbody tr th {\n",
       "        vertical-align: top;\n",
       "    }\n",
       "\n",
       "    .dataframe thead th {\n",
       "        text-align: right;\n",
       "    }\n",
       "</style>\n",
       "<table border=\"1\" class=\"dataframe\">\n",
       "  <thead>\n",
       "    <tr style=\"text-align: right;\">\n",
       "      <th></th>\n",
       "      <th>2015</th>\n",
       "      <th>2000</th>\n",
       "      <th>2005</th>\n",
       "    </tr>\n",
       "  </thead>\n",
       "  <tbody>\n",
       "    <tr>\n",
       "      <th>서울</th>\n",
       "      <td>9904312</td>\n",
       "      <td>9631482</td>\n",
       "      <td>9762546</td>\n",
       "    </tr>\n",
       "    <tr>\n",
       "      <th>인천</th>\n",
       "      <td>2890451</td>\n",
       "      <td>2632035</td>\n",
       "      <td>2517680</td>\n",
       "    </tr>\n",
       "    <tr>\n",
       "      <th>광주</th>\n",
       "      <td>2446052</td>\n",
       "      <td>2431774</td>\n",
       "      <td>1456016</td>\n",
       "    </tr>\n",
       "  </tbody>\n",
       "</table>\n",
       "</div>"
      ],
      "text/plain": [
       "       2015     2000     2005\n",
       "서울  9904312  9631482  9762546\n",
       "인천  2890451  2632035  2517680\n",
       "광주  2446052  2431774  1456016"
      ]
     },
     "execution_count": 60,
     "metadata": {},
     "output_type": "execute_result"
    }
   ],
   "source": [
    "# 컬럼 이름 수정하기\n",
    "# rename(columns = { '수정하고 싶은 데이터': '수정할 데이터'}) \n",
    "\n",
    "df.rename(columns= { '2010': '2000' }, inplace = True) # 값을 저장하고 싶다면 inplace = True 설정해준다"
   ]
  },
  {
   "cell_type": "code",
   "execution_count": 61,
   "id": "5edded8c",
   "metadata": {},
   "outputs": [
    {
     "data": {
      "text/html": [
       "<div>\n",
       "<style scoped>\n",
       "    .dataframe tbody tr th:only-of-type {\n",
       "        vertical-align: middle;\n",
       "    }\n",
       "\n",
       "    .dataframe tbody tr th {\n",
       "        vertical-align: top;\n",
       "    }\n",
       "\n",
       "    .dataframe thead th {\n",
       "        text-align: right;\n",
       "    }\n",
       "</style>\n",
       "<table border=\"1\" class=\"dataframe\">\n",
       "  <thead>\n",
       "    <tr style=\"text-align: right;\">\n",
       "      <th></th>\n",
       "      <th>2015</th>\n",
       "      <th>2010</th>\n",
       "      <th>2005</th>\n",
       "    </tr>\n",
       "  </thead>\n",
       "  <tbody>\n",
       "    <tr>\n",
       "      <th>서울</th>\n",
       "      <td>9904312</td>\n",
       "      <td>9631482</td>\n",
       "      <td>9762546</td>\n",
       "    </tr>\n",
       "    <tr>\n",
       "      <th>인천</th>\n",
       "      <td>2890451</td>\n",
       "      <td>2632035</td>\n",
       "      <td>2517680</td>\n",
       "    </tr>\n",
       "    <tr>\n",
       "      <th>대전</th>\n",
       "      <td>2446052</td>\n",
       "      <td>2431774</td>\n",
       "      <td>1456016</td>\n",
       "    </tr>\n",
       "  </tbody>\n",
       "</table>\n",
       "</div>"
      ],
      "text/plain": [
       "       2015     2010     2005\n",
       "서울  9904312  9631482  9762546\n",
       "인천  2890451  2632035  2517680\n",
       "대전  2446052  2431774  1456016"
      ]
     },
     "execution_count": 61,
     "metadata": {},
     "output_type": "execute_result"
    }
   ],
   "source": [
    "# 인덱스 이름 변경하기\n",
    "\n",
    "# rename(index = { '수정하고 싶은 데이터': '수정할 데이터'}) \n",
    "\n",
    "df.rename(index= { '광주': '대전' }, inplace = True)\n",
    "df"
   ]
  },
  {
   "cell_type": "code",
   "execution_count": 62,
   "id": "5e10f8b2",
   "metadata": {},
   "outputs": [
    {
     "data": {
      "text/html": [
       "<div>\n",
       "<style scoped>\n",
       "    .dataframe tbody tr th:only-of-type {\n",
       "        vertical-align: middle;\n",
       "    }\n",
       "\n",
       "    .dataframe tbody tr th {\n",
       "        vertical-align: top;\n",
       "    }\n",
       "\n",
       "    .dataframe thead th {\n",
       "        text-align: right;\n",
       "    }\n",
       "</style>\n",
       "<table border=\"1\" class=\"dataframe\">\n",
       "  <thead>\n",
       "    <tr style=\"text-align: right;\">\n",
       "      <th></th>\n",
       "      <th>2020</th>\n",
       "      <th>2010</th>\n",
       "      <th>2005</th>\n",
       "    </tr>\n",
       "  </thead>\n",
       "  <tbody>\n",
       "    <tr>\n",
       "      <th>서울</th>\n",
       "      <td>9668465</td>\n",
       "      <td>10312545</td>\n",
       "      <td>9762546</td>\n",
       "    </tr>\n",
       "    <tr>\n",
       "      <th>부산</th>\n",
       "      <td>3391946</td>\n",
       "      <td>3567910</td>\n",
       "      <td>3512547</td>\n",
       "    </tr>\n",
       "    <tr>\n",
       "      <th>인천</th>\n",
       "      <td>2942828</td>\n",
       "      <td>2758296</td>\n",
       "      <td>2517680</td>\n",
       "    </tr>\n",
       "    <tr>\n",
       "      <th>광주</th>\n",
       "      <td>1450062</td>\n",
       "      <td>1454636</td>\n",
       "      <td>1456016</td>\n",
       "    </tr>\n",
       "  </tbody>\n",
       "</table>\n",
       "</div>"
      ],
      "text/plain": [
       "       2020      2010     2005\n",
       "서울  9668465  10312545  9762546\n",
       "부산  3391946   3567910  3512547\n",
       "인천  2942828   2758296  2517680\n",
       "광주  1450062   1454636  1456016"
      ]
     },
     "execution_count": 62,
     "metadata": {},
     "output_type": "execute_result"
    }
   ],
   "source": [
    "data3 = {'2020' : [9668465,3391946,2942828,1450062],\n",
    "                 '2010' : [10312545,3567910,2758296,1454636],\n",
    "                 '2005' : [9762546,3512547,2517680,1456016]}\n",
    "\n",
    "# DataFrame 생성과 동시에 인덱스 지정\n",
    "df3 = pd.DataFrame(data3, index = ['서울','부산','인천','광주'])\n",
    "df3"
   ]
  },
  {
   "cell_type": "code",
   "execution_count": null,
   "id": "781832b5",
   "metadata": {},
   "outputs": [],
   "source": [
    "# dataframe은 슬라이싱 -> 행, 인덱싱 -> 열 기준"
   ]
  },
  {
   "cell_type": "code",
   "execution_count": 63,
   "id": "e1eef6f5",
   "metadata": {},
   "outputs": [
    {
     "data": {
      "text/html": [
       "<div>\n",
       "<style scoped>\n",
       "    .dataframe tbody tr th:only-of-type {\n",
       "        vertical-align: middle;\n",
       "    }\n",
       "\n",
       "    .dataframe tbody tr th {\n",
       "        vertical-align: top;\n",
       "    }\n",
       "\n",
       "    .dataframe thead th {\n",
       "        text-align: right;\n",
       "    }\n",
       "</style>\n",
       "<table border=\"1\" class=\"dataframe\">\n",
       "  <thead>\n",
       "    <tr style=\"text-align: right;\">\n",
       "      <th></th>\n",
       "      <th>2020</th>\n",
       "      <th>2010</th>\n",
       "      <th>2005</th>\n",
       "    </tr>\n",
       "  </thead>\n",
       "  <tbody>\n",
       "    <tr>\n",
       "      <th>서울</th>\n",
       "      <td>9668465</td>\n",
       "      <td>10312545</td>\n",
       "      <td>9762546</td>\n",
       "    </tr>\n",
       "    <tr>\n",
       "      <th>부산</th>\n",
       "      <td>3391946</td>\n",
       "      <td>3567910</td>\n",
       "      <td>3512547</td>\n",
       "    </tr>\n",
       "    <tr>\n",
       "      <th>인천</th>\n",
       "      <td>2942828</td>\n",
       "      <td>2758296</td>\n",
       "      <td>2517680</td>\n",
       "    </tr>\n",
       "  </tbody>\n",
       "</table>\n",
       "</div>"
      ],
      "text/plain": [
       "       2020      2010     2005\n",
       "서울  9668465  10312545  9762546\n",
       "부산  3391946   3567910  3512547\n",
       "인천  2942828   2758296  2517680"
      ]
     },
     "execution_count": 63,
     "metadata": {},
     "output_type": "execute_result"
    }
   ],
   "source": [
    "# 행 슬라이싱\n",
    "# 0~2행 슬라이싱\n",
    "df3[0:3]"
   ]
  },
  {
   "cell_type": "code",
   "execution_count": 64,
   "id": "d5f2df98",
   "metadata": {},
   "outputs": [
    {
     "data": {
      "text/html": [
       "<div>\n",
       "<style scoped>\n",
       "    .dataframe tbody tr th:only-of-type {\n",
       "        vertical-align: middle;\n",
       "    }\n",
       "\n",
       "    .dataframe tbody tr th {\n",
       "        vertical-align: top;\n",
       "    }\n",
       "\n",
       "    .dataframe thead th {\n",
       "        text-align: right;\n",
       "    }\n",
       "</style>\n",
       "<table border=\"1\" class=\"dataframe\">\n",
       "  <thead>\n",
       "    <tr style=\"text-align: right;\">\n",
       "      <th></th>\n",
       "      <th>2020</th>\n",
       "      <th>2010</th>\n",
       "      <th>2005</th>\n",
       "    </tr>\n",
       "  </thead>\n",
       "  <tbody>\n",
       "    <tr>\n",
       "      <th>서울</th>\n",
       "      <td>9668465</td>\n",
       "      <td>10312545</td>\n",
       "      <td>9762546</td>\n",
       "    </tr>\n",
       "    <tr>\n",
       "      <th>부산</th>\n",
       "      <td>3391946</td>\n",
       "      <td>3567910</td>\n",
       "      <td>3512547</td>\n",
       "    </tr>\n",
       "    <tr>\n",
       "      <th>인천</th>\n",
       "      <td>2942828</td>\n",
       "      <td>2758296</td>\n",
       "      <td>2517680</td>\n",
       "    </tr>\n",
       "  </tbody>\n",
       "</table>\n",
       "</div>"
      ],
      "text/plain": [
       "       2020      2010     2005\n",
       "서울  9668465  10312545  9762546\n",
       "부산  3391946   3567910  3512547\n",
       "인천  2942828   2758296  2517680"
      ]
     },
     "execution_count": 64,
     "metadata": {},
     "output_type": "execute_result"
    }
   ],
   "source": [
    "# 인덱스 명칭으로 슬라이싱\n",
    "df3['서울' : '인천']"
   ]
  },
  {
   "cell_type": "markdown",
   "id": "d4bb11b7",
   "metadata": {},
   "source": [
    "- df[] : 인덱싱은 column으로만 인덱싱 가능\n",
    "- df[ : ] : 슬라이싱은 index로만 슬라이싱 가능"
   ]
  },
  {
   "cell_type": "markdown",
   "id": "e1a02992",
   "metadata": {},
   "source": [
    "### 행과 열 단위로 인덱싱, 슬라이싱을 하는 인덱서\n",
    "\n",
    "#### loc/iloc 인덱서 \n",
    "- loc 인덱서 : 인덱스/컬럼명 사용해서 데이터 추출\n",
    "    df명.loc[] \n",
    "    \n",
    "- iloc인덱서 : 인덱스/컬럼 번호 사용해서 데이터 추출\n",
    "    df명.iloc[] <br>\n",
    "( * iloc : integer location)"
   ]
  },
  {
   "cell_type": "code",
   "execution_count": 67,
   "id": "7b59b147",
   "metadata": {},
   "outputs": [
    {
     "data": {
      "text/html": [
       "<div>\n",
       "<style scoped>\n",
       "    .dataframe tbody tr th:only-of-type {\n",
       "        vertical-align: middle;\n",
       "    }\n",
       "\n",
       "    .dataframe tbody tr th {\n",
       "        vertical-align: top;\n",
       "    }\n",
       "\n",
       "    .dataframe thead th {\n",
       "        text-align: right;\n",
       "    }\n",
       "</style>\n",
       "<table border=\"1\" class=\"dataframe\">\n",
       "  <thead>\n",
       "    <tr style=\"text-align: right;\">\n",
       "      <th></th>\n",
       "      <th>2020</th>\n",
       "      <th>2010</th>\n",
       "      <th>2005</th>\n",
       "    </tr>\n",
       "  </thead>\n",
       "  <tbody>\n",
       "    <tr>\n",
       "      <th>서울</th>\n",
       "      <td>9668465</td>\n",
       "      <td>10312545</td>\n",
       "      <td>9762546</td>\n",
       "    </tr>\n",
       "    <tr>\n",
       "      <th>부산</th>\n",
       "      <td>3391946</td>\n",
       "      <td>3567910</td>\n",
       "      <td>3512547</td>\n",
       "    </tr>\n",
       "  </tbody>\n",
       "</table>\n",
       "</div>"
      ],
      "text/plain": [
       "       2020      2010     2005\n",
       "서울  9668465  10312545  9762546\n",
       "부산  3391946   3567910  3512547"
      ]
     },
     "execution_count": 67,
     "metadata": {},
     "output_type": "execute_result"
    }
   ],
   "source": [
    "df3.loc[ '서울': '부산' ]"
   ]
  },
  {
   "cell_type": "code",
   "execution_count": 70,
   "id": "44f6b169",
   "metadata": {},
   "outputs": [
    {
     "data": {
      "text/html": [
       "<div>\n",
       "<style scoped>\n",
       "    .dataframe tbody tr th:only-of-type {\n",
       "        vertical-align: middle;\n",
       "    }\n",
       "\n",
       "    .dataframe tbody tr th {\n",
       "        vertical-align: top;\n",
       "    }\n",
       "\n",
       "    .dataframe thead th {\n",
       "        text-align: right;\n",
       "    }\n",
       "</style>\n",
       "<table border=\"1\" class=\"dataframe\">\n",
       "  <thead>\n",
       "    <tr style=\"text-align: right;\">\n",
       "      <th></th>\n",
       "      <th>2020</th>\n",
       "      <th>2010</th>\n",
       "    </tr>\n",
       "  </thead>\n",
       "  <tbody>\n",
       "    <tr>\n",
       "      <th>부산</th>\n",
       "      <td>3391946</td>\n",
       "      <td>3567910</td>\n",
       "    </tr>\n",
       "    <tr>\n",
       "      <th>인천</th>\n",
       "      <td>2942828</td>\n",
       "      <td>2758296</td>\n",
       "    </tr>\n",
       "  </tbody>\n",
       "</table>\n",
       "</div>"
      ],
      "text/plain": [
       "       2020     2010\n",
       "부산  3391946  3567910\n",
       "인천  2942828  2758296"
      ]
     },
     "execution_count": 70,
     "metadata": {},
     "output_type": "execute_result"
    }
   ],
   "source": [
    "# 부산~인천까지(행), 2020~2010(열) 데이터 슬라이싱 -> loc[]\n",
    "df3.loc['부산':'인천', '2020':'2010']"
   ]
  },
  {
   "cell_type": "code",
   "execution_count": 71,
   "id": "0885351c",
   "metadata": {},
   "outputs": [
    {
     "data": {
      "text/html": [
       "<div>\n",
       "<style scoped>\n",
       "    .dataframe tbody tr th:only-of-type {\n",
       "        vertical-align: middle;\n",
       "    }\n",
       "\n",
       "    .dataframe tbody tr th {\n",
       "        vertical-align: top;\n",
       "    }\n",
       "\n",
       "    .dataframe thead th {\n",
       "        text-align: right;\n",
       "    }\n",
       "</style>\n",
       "<table border=\"1\" class=\"dataframe\">\n",
       "  <thead>\n",
       "    <tr style=\"text-align: right;\">\n",
       "      <th></th>\n",
       "      <th>2010</th>\n",
       "      <th>2005</th>\n",
       "    </tr>\n",
       "  </thead>\n",
       "  <tbody>\n",
       "    <tr>\n",
       "      <th>부산</th>\n",
       "      <td>3567910</td>\n",
       "      <td>3512547</td>\n",
       "    </tr>\n",
       "    <tr>\n",
       "      <th>인천</th>\n",
       "      <td>2758296</td>\n",
       "      <td>2517680</td>\n",
       "    </tr>\n",
       "  </tbody>\n",
       "</table>\n",
       "</div>"
      ],
      "text/plain": [
       "       2010     2005\n",
       "부산  3567910  3512547\n",
       "인천  2758296  2517680"
      ]
     },
     "execution_count": 71,
     "metadata": {},
     "output_type": "execute_result"
    }
   ],
   "source": [
    "# 인덱스/컬럼 번호 사용해서 슬라이싱 -> iloc[]\n",
    "# 부산~ 인천(행),  2010~2005(열)\n",
    "df3.iloc[1:3, 1:3]"
   ]
  },
  {
   "cell_type": "markdown",
   "id": "291902a1",
   "metadata": {},
   "source": [
    "### DataFrame 실습\n",
    "- 도시별 인구수 데이터\n",
    "- population.csv"
   ]
  },
  {
   "cell_type": "code",
   "execution_count": 75,
   "id": "c14f759c",
   "metadata": {},
   "outputs": [
    {
     "data": {
      "text/html": [
       "<div>\n",
       "<style scoped>\n",
       "    .dataframe tbody tr th:only-of-type {\n",
       "        vertical-align: middle;\n",
       "    }\n",
       "\n",
       "    .dataframe tbody tr th {\n",
       "        vertical-align: top;\n",
       "    }\n",
       "\n",
       "    .dataframe thead th {\n",
       "        text-align: right;\n",
       "    }\n",
       "</style>\n",
       "<table border=\"1\" class=\"dataframe\">\n",
       "  <thead>\n",
       "    <tr style=\"text-align: right;\">\n",
       "      <th></th>\n",
       "      <th>지역</th>\n",
       "      <th>2020</th>\n",
       "      <th>2015</th>\n",
       "      <th>2010</th>\n",
       "      <th>2005</th>\n",
       "    </tr>\n",
       "    <tr>\n",
       "      <th>도시</th>\n",
       "      <th></th>\n",
       "      <th></th>\n",
       "      <th></th>\n",
       "      <th></th>\n",
       "      <th></th>\n",
       "    </tr>\n",
       "  </thead>\n",
       "  <tbody>\n",
       "    <tr>\n",
       "      <th>서울</th>\n",
       "      <td>수도권</td>\n",
       "      <td>9668465</td>\n",
       "      <td>10022181.0</td>\n",
       "      <td>10312545.0</td>\n",
       "      <td>10167344</td>\n",
       "    </tr>\n",
       "    <tr>\n",
       "      <th>부산</th>\n",
       "      <td>경상권</td>\n",
       "      <td>3391946</td>\n",
       "      <td>NaN</td>\n",
       "      <td>NaN</td>\n",
       "      <td>3628293</td>\n",
       "    </tr>\n",
       "    <tr>\n",
       "      <th>인천</th>\n",
       "      <td>수도권</td>\n",
       "      <td>2942828</td>\n",
       "      <td>2925815.0</td>\n",
       "      <td>NaN</td>\n",
       "      <td>2600495</td>\n",
       "    </tr>\n",
       "    <tr>\n",
       "      <th>광주</th>\n",
       "      <td>전라권</td>\n",
       "      <td>1450062</td>\n",
       "      <td>1474636.0</td>\n",
       "      <td>1454636.0</td>\n",
       "      <td>1401745</td>\n",
       "    </tr>\n",
       "    <tr>\n",
       "      <th>대구</th>\n",
       "      <td>경상권</td>\n",
       "      <td>2418436</td>\n",
       "      <td>2466052.0</td>\n",
       "      <td>2431774.0</td>\n",
       "      <td>2456016</td>\n",
       "    </tr>\n",
       "  </tbody>\n",
       "</table>\n",
       "</div>"
      ],
      "text/plain": [
       "     지역     2020        2015        2010      2005\n",
       "도시                                                \n",
       "서울  수도권  9668465  10022181.0  10312545.0  10167344\n",
       "부산  경상권  3391946         NaN         NaN   3628293\n",
       "인천  수도권  2942828   2925815.0         NaN   2600495\n",
       "광주  전라권  1450062   1474636.0   1454636.0   1401745\n",
       "대구  경상권  2418436   2466052.0   2431774.0   2456016"
      ]
     },
     "execution_count": 75,
     "metadata": {},
     "output_type": "execute_result"
    }
   ],
   "source": [
    "# 데이터 불러오기\n",
    "pop = pd.read_csv('population.csv', index_col = '도시')\n",
    "pop"
   ]
  },
  {
   "cell_type": "markdown",
   "id": "7938c7e8",
   "metadata": {},
   "source": [
    "#### 데이터프레임 정렬"
   ]
  },
  {
   "cell_type": "code",
   "execution_count": 76,
   "id": "7d5250bc",
   "metadata": {},
   "outputs": [
    {
     "data": {
      "text/html": [
       "<div>\n",
       "<style scoped>\n",
       "    .dataframe tbody tr th:only-of-type {\n",
       "        vertical-align: middle;\n",
       "    }\n",
       "\n",
       "    .dataframe tbody tr th {\n",
       "        vertical-align: top;\n",
       "    }\n",
       "\n",
       "    .dataframe thead th {\n",
       "        text-align: right;\n",
       "    }\n",
       "</style>\n",
       "<table border=\"1\" class=\"dataframe\">\n",
       "  <thead>\n",
       "    <tr style=\"text-align: right;\">\n",
       "      <th></th>\n",
       "      <th>지역</th>\n",
       "      <th>2020</th>\n",
       "      <th>2015</th>\n",
       "      <th>2010</th>\n",
       "      <th>2005</th>\n",
       "    </tr>\n",
       "    <tr>\n",
       "      <th>도시</th>\n",
       "      <th></th>\n",
       "      <th></th>\n",
       "      <th></th>\n",
       "      <th></th>\n",
       "      <th></th>\n",
       "    </tr>\n",
       "  </thead>\n",
       "  <tbody>\n",
       "    <tr>\n",
       "      <th>인천</th>\n",
       "      <td>수도권</td>\n",
       "      <td>2942828</td>\n",
       "      <td>2925815.0</td>\n",
       "      <td>NaN</td>\n",
       "      <td>2600495</td>\n",
       "    </tr>\n",
       "    <tr>\n",
       "      <th>서울</th>\n",
       "      <td>수도권</td>\n",
       "      <td>9668465</td>\n",
       "      <td>10022181.0</td>\n",
       "      <td>10312545.0</td>\n",
       "      <td>10167344</td>\n",
       "    </tr>\n",
       "    <tr>\n",
       "      <th>부산</th>\n",
       "      <td>경상권</td>\n",
       "      <td>3391946</td>\n",
       "      <td>NaN</td>\n",
       "      <td>NaN</td>\n",
       "      <td>3628293</td>\n",
       "    </tr>\n",
       "    <tr>\n",
       "      <th>대구</th>\n",
       "      <td>경상권</td>\n",
       "      <td>2418436</td>\n",
       "      <td>2466052.0</td>\n",
       "      <td>2431774.0</td>\n",
       "      <td>2456016</td>\n",
       "    </tr>\n",
       "    <tr>\n",
       "      <th>광주</th>\n",
       "      <td>전라권</td>\n",
       "      <td>1450062</td>\n",
       "      <td>1474636.0</td>\n",
       "      <td>1454636.0</td>\n",
       "      <td>1401745</td>\n",
       "    </tr>\n",
       "  </tbody>\n",
       "</table>\n",
       "</div>"
      ],
      "text/plain": [
       "     지역     2020        2015        2010      2005\n",
       "도시                                                \n",
       "인천  수도권  2942828   2925815.0         NaN   2600495\n",
       "서울  수도권  9668465  10022181.0  10312545.0  10167344\n",
       "부산  경상권  3391946         NaN         NaN   3628293\n",
       "대구  경상권  2418436   2466052.0   2431774.0   2456016\n",
       "광주  전라권  1450062   1474636.0   1454636.0   1401745"
      ]
     },
     "execution_count": 76,
     "metadata": {},
     "output_type": "execute_result"
    }
   ],
   "source": [
    "# 인덱스 기준으로 정렬 : df명.sort_index()\n",
    "# 기본 오름차순 정렬(가나다/abc/1234)\n",
    "# 내림차순으로 변경 : ascending = False\n",
    "pop.sort_index(ascending=False)"
   ]
  },
  {
   "cell_type": "code",
   "execution_count": 79,
   "id": "c5037734",
   "metadata": {},
   "outputs": [
    {
     "data": {
      "text/html": [
       "<div>\n",
       "<style scoped>\n",
       "    .dataframe tbody tr th:only-of-type {\n",
       "        vertical-align: middle;\n",
       "    }\n",
       "\n",
       "    .dataframe tbody tr th {\n",
       "        vertical-align: top;\n",
       "    }\n",
       "\n",
       "    .dataframe thead th {\n",
       "        text-align: right;\n",
       "    }\n",
       "</style>\n",
       "<table border=\"1\" class=\"dataframe\">\n",
       "  <thead>\n",
       "    <tr style=\"text-align: right;\">\n",
       "      <th></th>\n",
       "      <th>지역</th>\n",
       "      <th>2020</th>\n",
       "      <th>2015</th>\n",
       "      <th>2010</th>\n",
       "      <th>2005</th>\n",
       "    </tr>\n",
       "    <tr>\n",
       "      <th>도시</th>\n",
       "      <th></th>\n",
       "      <th></th>\n",
       "      <th></th>\n",
       "      <th></th>\n",
       "      <th></th>\n",
       "    </tr>\n",
       "  </thead>\n",
       "  <tbody>\n",
       "    <tr>\n",
       "      <th>광주</th>\n",
       "      <td>전라권</td>\n",
       "      <td>1450062</td>\n",
       "      <td>1474636.0</td>\n",
       "      <td>1454636.0</td>\n",
       "      <td>1401745</td>\n",
       "    </tr>\n",
       "    <tr>\n",
       "      <th>대구</th>\n",
       "      <td>경상권</td>\n",
       "      <td>2418436</td>\n",
       "      <td>2466052.0</td>\n",
       "      <td>2431774.0</td>\n",
       "      <td>2456016</td>\n",
       "    </tr>\n",
       "    <tr>\n",
       "      <th>서울</th>\n",
       "      <td>수도권</td>\n",
       "      <td>9668465</td>\n",
       "      <td>10022181.0</td>\n",
       "      <td>10312545.0</td>\n",
       "      <td>10167344</td>\n",
       "    </tr>\n",
       "    <tr>\n",
       "      <th>부산</th>\n",
       "      <td>경상권</td>\n",
       "      <td>3391946</td>\n",
       "      <td>NaN</td>\n",
       "      <td>NaN</td>\n",
       "      <td>3628293</td>\n",
       "    </tr>\n",
       "    <tr>\n",
       "      <th>인천</th>\n",
       "      <td>수도권</td>\n",
       "      <td>2942828</td>\n",
       "      <td>2925815.0</td>\n",
       "      <td>NaN</td>\n",
       "      <td>2600495</td>\n",
       "    </tr>\n",
       "  </tbody>\n",
       "</table>\n",
       "</div>"
      ],
      "text/plain": [
       "     지역     2020        2015        2010      2005\n",
       "도시                                                \n",
       "광주  전라권  1450062   1474636.0   1454636.0   1401745\n",
       "대구  경상권  2418436   2466052.0   2431774.0   2456016\n",
       "서울  수도권  9668465  10022181.0  10312545.0  10167344\n",
       "부산  경상권  3391946         NaN         NaN   3628293\n",
       "인천  수도권  2942828   2925815.0         NaN   2600495"
      ]
     },
     "execution_count": 79,
     "metadata": {},
     "output_type": "execute_result"
    }
   ],
   "source": [
    "# 값을 기준으로 정렬하는 방법\n",
    "# df명.sort_values(by = '컬럼명')\n",
    "\n",
    "pop.sort_values(by = '2010')"
   ]
  },
  {
   "cell_type": "code",
   "execution_count": 80,
   "id": "fdbb9e57",
   "metadata": {
    "scrolled": true
   },
   "outputs": [
    {
     "data": {
      "text/html": [
       "<div>\n",
       "<style scoped>\n",
       "    .dataframe tbody tr th:only-of-type {\n",
       "        vertical-align: middle;\n",
       "    }\n",
       "\n",
       "    .dataframe tbody tr th {\n",
       "        vertical-align: top;\n",
       "    }\n",
       "\n",
       "    .dataframe thead th {\n",
       "        text-align: right;\n",
       "    }\n",
       "</style>\n",
       "<table border=\"1\" class=\"dataframe\">\n",
       "  <thead>\n",
       "    <tr style=\"text-align: right;\">\n",
       "      <th></th>\n",
       "      <th>지역</th>\n",
       "      <th>2020</th>\n",
       "      <th>2015</th>\n",
       "      <th>2010</th>\n",
       "      <th>2005</th>\n",
       "    </tr>\n",
       "    <tr>\n",
       "      <th>도시</th>\n",
       "      <th></th>\n",
       "      <th></th>\n",
       "      <th></th>\n",
       "      <th></th>\n",
       "      <th></th>\n",
       "    </tr>\n",
       "  </thead>\n",
       "  <tbody>\n",
       "    <tr>\n",
       "      <th>대구</th>\n",
       "      <td>경상권</td>\n",
       "      <td>2418436</td>\n",
       "      <td>2466052.0</td>\n",
       "      <td>2431774.0</td>\n",
       "      <td>2456016</td>\n",
       "    </tr>\n",
       "    <tr>\n",
       "      <th>부산</th>\n",
       "      <td>경상권</td>\n",
       "      <td>3391946</td>\n",
       "      <td>NaN</td>\n",
       "      <td>NaN</td>\n",
       "      <td>3628293</td>\n",
       "    </tr>\n",
       "    <tr>\n",
       "      <th>서울</th>\n",
       "      <td>수도권</td>\n",
       "      <td>9668465</td>\n",
       "      <td>10022181.0</td>\n",
       "      <td>10312545.0</td>\n",
       "      <td>10167344</td>\n",
       "    </tr>\n",
       "    <tr>\n",
       "      <th>인천</th>\n",
       "      <td>수도권</td>\n",
       "      <td>2942828</td>\n",
       "      <td>2925815.0</td>\n",
       "      <td>NaN</td>\n",
       "      <td>2600495</td>\n",
       "    </tr>\n",
       "    <tr>\n",
       "      <th>광주</th>\n",
       "      <td>전라권</td>\n",
       "      <td>1450062</td>\n",
       "      <td>1474636.0</td>\n",
       "      <td>1454636.0</td>\n",
       "      <td>1401745</td>\n",
       "    </tr>\n",
       "  </tbody>\n",
       "</table>\n",
       "</div>"
      ],
      "text/plain": [
       "     지역     2020        2015        2010      2005\n",
       "도시                                                \n",
       "대구  경상권  2418436   2466052.0   2431774.0   2456016\n",
       "부산  경상권  3391946         NaN         NaN   3628293\n",
       "서울  수도권  9668465  10022181.0  10312545.0  10167344\n",
       "인천  수도권  2942828   2925815.0         NaN   2600495\n",
       "광주  전라권  1450062   1474636.0   1454636.0   1401745"
      ]
     },
     "execution_count": 80,
     "metadata": {},
     "output_type": "execute_result"
    }
   ],
   "source": [
    "# 여러 컬럼을 통해 정렬 진행\n",
    "# 지역을 기준으로 정렬하고 그 다음에 2010년 정렬된다\n",
    "pop.sort_values(by = ['지역','2010']) # [선정렬, 후정렬]"
   ]
  },
  {
   "cell_type": "markdown",
   "id": "c3120d9e",
   "metadata": {},
   "source": [
    "### DataFrame 실습2\n",
    "- 반별 과목 점수 데이터"
   ]
  },
  {
   "cell_type": "code",
   "execution_count": 91,
   "id": "bc297d40",
   "metadata": {},
   "outputs": [
    {
     "data": {
      "text/html": [
       "<div>\n",
       "<style scoped>\n",
       "    .dataframe tbody tr th:only-of-type {\n",
       "        vertical-align: middle;\n",
       "    }\n",
       "\n",
       "    .dataframe tbody tr th {\n",
       "        vertical-align: top;\n",
       "    }\n",
       "\n",
       "    .dataframe thead th {\n",
       "        text-align: right;\n",
       "    }\n",
       "</style>\n",
       "<table border=\"1\" class=\"dataframe\">\n",
       "  <thead>\n",
       "    <tr style=\"text-align: right;\">\n",
       "      <th></th>\n",
       "      <th>1반</th>\n",
       "      <th>2반</th>\n",
       "      <th>3반</th>\n",
       "      <th>4반</th>\n",
       "    </tr>\n",
       "    <tr>\n",
       "      <th>과목</th>\n",
       "      <th></th>\n",
       "      <th></th>\n",
       "      <th></th>\n",
       "      <th></th>\n",
       "    </tr>\n",
       "  </thead>\n",
       "  <tbody>\n",
       "    <tr>\n",
       "      <th>파이썬</th>\n",
       "      <td>45</td>\n",
       "      <td>44</td>\n",
       "      <td>73</td>\n",
       "      <td>39</td>\n",
       "    </tr>\n",
       "    <tr>\n",
       "      <th>DB</th>\n",
       "      <td>76</td>\n",
       "      <td>92</td>\n",
       "      <td>45</td>\n",
       "      <td>69</td>\n",
       "    </tr>\n",
       "    <tr>\n",
       "      <th>자바</th>\n",
       "      <td>47</td>\n",
       "      <td>92</td>\n",
       "      <td>45</td>\n",
       "      <td>69</td>\n",
       "    </tr>\n",
       "    <tr>\n",
       "      <th>크롤링</th>\n",
       "      <td>92</td>\n",
       "      <td>81</td>\n",
       "      <td>85</td>\n",
       "      <td>40</td>\n",
       "    </tr>\n",
       "    <tr>\n",
       "      <th>Web</th>\n",
       "      <td>11</td>\n",
       "      <td>79</td>\n",
       "      <td>47</td>\n",
       "      <td>26</td>\n",
       "    </tr>\n",
       "  </tbody>\n",
       "</table>\n",
       "</div>"
      ],
      "text/plain": [
       "     1반  2반  3반  4반\n",
       "과목                 \n",
       "파이썬  45  44  73  39\n",
       "DB   76  92  45  69\n",
       "자바   47  92  45  69\n",
       "크롤링  92  81  85  40\n",
       "Web  11  79  47  26"
      ]
     },
     "execution_count": 91,
     "metadata": {},
     "output_type": "execute_result"
    }
   ],
   "source": [
    "# score 데이터 가져오기 (과목 컬럼을 인덱스로 설정)\n",
    "score = pd.read_csv('score.csv', encoding='euc-kr', index_col = '과목') #  encoding='cp949'\n",
    "score"
   ]
  },
  {
   "cell_type": "code",
   "execution_count": 96,
   "id": "1c471738",
   "metadata": {},
   "outputs": [
    {
     "data": {
      "text/plain": [
       "1반    271\n",
       "2반    388\n",
       "3반    295\n",
       "4반    243\n",
       "dtype: int64"
      ]
     },
     "execution_count": 96,
     "metadata": {},
     "output_type": "execute_result"
    }
   ],
   "source": [
    "# 반별 합계 구하기\n",
    "# sum()\n",
    "# axis = 0 (기본값) : 행끼리 더하기\n",
    "score.sum()"
   ]
  },
  {
   "cell_type": "code",
   "execution_count": 98,
   "id": "71769957",
   "metadata": {},
   "outputs": [
    {
     "data": {
      "text/plain": [
       "과목\n",
       "파이썬    201\n",
       "DB     282\n",
       "자바     253\n",
       "크롤링    298\n",
       "Web    163\n",
       "dtype: int64"
      ]
     },
     "execution_count": 98,
     "metadata": {},
     "output_type": "execute_result"
    }
   ],
   "source": [
    "# 과목별 합계 구하기\n",
    "# 열끼리 더하기\n",
    "# axis = 1\n",
    "\n",
    "score.sum(axis=1)"
   ]
  },
  {
   "cell_type": "code",
   "execution_count": null,
   "id": "6049ea04",
   "metadata": {},
   "outputs": [],
   "source": [
    "# 과목별 총합 데이터 score 변수에 추가 -> ' 합계' 컬럼 생성"
   ]
  },
  {
   "cell_type": "code",
   "execution_count": 101,
   "id": "9899e3e5",
   "metadata": {},
   "outputs": [
    {
     "data": {
      "text/html": [
       "<div>\n",
       "<style scoped>\n",
       "    .dataframe tbody tr th:only-of-type {\n",
       "        vertical-align: middle;\n",
       "    }\n",
       "\n",
       "    .dataframe tbody tr th {\n",
       "        vertical-align: top;\n",
       "    }\n",
       "\n",
       "    .dataframe thead th {\n",
       "        text-align: right;\n",
       "    }\n",
       "</style>\n",
       "<table border=\"1\" class=\"dataframe\">\n",
       "  <thead>\n",
       "    <tr style=\"text-align: right;\">\n",
       "      <th></th>\n",
       "      <th>1반</th>\n",
       "      <th>2반</th>\n",
       "      <th>3반</th>\n",
       "      <th>4반</th>\n",
       "      <th>합계</th>\n",
       "    </tr>\n",
       "    <tr>\n",
       "      <th>과목</th>\n",
       "      <th></th>\n",
       "      <th></th>\n",
       "      <th></th>\n",
       "      <th></th>\n",
       "      <th></th>\n",
       "    </tr>\n",
       "  </thead>\n",
       "  <tbody>\n",
       "    <tr>\n",
       "      <th>파이썬</th>\n",
       "      <td>45</td>\n",
       "      <td>44</td>\n",
       "      <td>73</td>\n",
       "      <td>39</td>\n",
       "      <td>201</td>\n",
       "    </tr>\n",
       "    <tr>\n",
       "      <th>DB</th>\n",
       "      <td>76</td>\n",
       "      <td>92</td>\n",
       "      <td>45</td>\n",
       "      <td>69</td>\n",
       "      <td>282</td>\n",
       "    </tr>\n",
       "    <tr>\n",
       "      <th>자바</th>\n",
       "      <td>47</td>\n",
       "      <td>92</td>\n",
       "      <td>45</td>\n",
       "      <td>69</td>\n",
       "      <td>253</td>\n",
       "    </tr>\n",
       "    <tr>\n",
       "      <th>크롤링</th>\n",
       "      <td>92</td>\n",
       "      <td>81</td>\n",
       "      <td>85</td>\n",
       "      <td>40</td>\n",
       "      <td>298</td>\n",
       "    </tr>\n",
       "    <tr>\n",
       "      <th>Web</th>\n",
       "      <td>11</td>\n",
       "      <td>79</td>\n",
       "      <td>47</td>\n",
       "      <td>26</td>\n",
       "      <td>163</td>\n",
       "    </tr>\n",
       "  </tbody>\n",
       "</table>\n",
       "</div>"
      ],
      "text/plain": [
       "     1반  2반  3반  4반   합계\n",
       "과목                      \n",
       "파이썬  45  44  73  39  201\n",
       "DB   76  92  45  69  282\n",
       "자바   47  92  45  69  253\n",
       "크롤링  92  81  85  40  298\n",
       "Web  11  79  47  26  163"
      ]
     },
     "execution_count": 101,
     "metadata": {},
     "output_type": "execute_result"
    }
   ],
   "source": [
    "score['합계'] = score.sum(axis=1)\n",
    "score"
   ]
  },
  {
   "cell_type": "code",
   "execution_count": 103,
   "id": "5dae01b4",
   "metadata": {},
   "outputs": [
    {
     "data": {
      "text/html": [
       "<div>\n",
       "<style scoped>\n",
       "    .dataframe tbody tr th:only-of-type {\n",
       "        vertical-align: middle;\n",
       "    }\n",
       "\n",
       "    .dataframe tbody tr th {\n",
       "        vertical-align: top;\n",
       "    }\n",
       "\n",
       "    .dataframe thead th {\n",
       "        text-align: right;\n",
       "    }\n",
       "</style>\n",
       "<table border=\"1\" class=\"dataframe\">\n",
       "  <thead>\n",
       "    <tr style=\"text-align: right;\">\n",
       "      <th></th>\n",
       "      <th>1반</th>\n",
       "      <th>2반</th>\n",
       "      <th>3반</th>\n",
       "      <th>4반</th>\n",
       "      <th>합계</th>\n",
       "      <th>평균</th>\n",
       "    </tr>\n",
       "    <tr>\n",
       "      <th>과목</th>\n",
       "      <th></th>\n",
       "      <th></th>\n",
       "      <th></th>\n",
       "      <th></th>\n",
       "      <th></th>\n",
       "      <th></th>\n",
       "    </tr>\n",
       "  </thead>\n",
       "  <tbody>\n",
       "    <tr>\n",
       "      <th>파이썬</th>\n",
       "      <td>45</td>\n",
       "      <td>44</td>\n",
       "      <td>73</td>\n",
       "      <td>39</td>\n",
       "      <td>201</td>\n",
       "      <td>80.4</td>\n",
       "    </tr>\n",
       "    <tr>\n",
       "      <th>DB</th>\n",
       "      <td>76</td>\n",
       "      <td>92</td>\n",
       "      <td>45</td>\n",
       "      <td>69</td>\n",
       "      <td>282</td>\n",
       "      <td>112.8</td>\n",
       "    </tr>\n",
       "    <tr>\n",
       "      <th>자바</th>\n",
       "      <td>47</td>\n",
       "      <td>92</td>\n",
       "      <td>45</td>\n",
       "      <td>69</td>\n",
       "      <td>253</td>\n",
       "      <td>101.2</td>\n",
       "    </tr>\n",
       "    <tr>\n",
       "      <th>크롤링</th>\n",
       "      <td>92</td>\n",
       "      <td>81</td>\n",
       "      <td>85</td>\n",
       "      <td>40</td>\n",
       "      <td>298</td>\n",
       "      <td>119.2</td>\n",
       "    </tr>\n",
       "    <tr>\n",
       "      <th>Web</th>\n",
       "      <td>11</td>\n",
       "      <td>79</td>\n",
       "      <td>47</td>\n",
       "      <td>26</td>\n",
       "      <td>163</td>\n",
       "      <td>65.2</td>\n",
       "    </tr>\n",
       "  </tbody>\n",
       "</table>\n",
       "</div>"
      ],
      "text/plain": [
       "     1반  2반  3반  4반   합계     평균\n",
       "과목                             \n",
       "파이썬  45  44  73  39  201   80.4\n",
       "DB   76  92  45  69  282  112.8\n",
       "자바   47  92  45  69  253  101.2\n",
       "크롤링  92  81  85  40  298  119.2\n",
       "Web  11  79  47  26  163   65.2"
      ]
     },
     "execution_count": 103,
     "metadata": {},
     "output_type": "execute_result"
    }
   ],
   "source": [
    "# 과목별 평균구하기\n",
    "# 평균 : mean()\n",
    "# 평균 컬럼 생성하기 (합계를 제외하고 계산되어야 함)\n",
    "score['평균'] = score.mean(axis=1)\n",
    "score"
   ]
  },
  {
   "cell_type": "code",
   "execution_count": 107,
   "id": "ec2e6cf5",
   "metadata": {},
   "outputs": [
    {
     "data": {
      "text/html": [
       "<div>\n",
       "<style scoped>\n",
       "    .dataframe tbody tr th:only-of-type {\n",
       "        vertical-align: middle;\n",
       "    }\n",
       "\n",
       "    .dataframe tbody tr th {\n",
       "        vertical-align: top;\n",
       "    }\n",
       "\n",
       "    .dataframe thead th {\n",
       "        text-align: right;\n",
       "    }\n",
       "</style>\n",
       "<table border=\"1\" class=\"dataframe\">\n",
       "  <thead>\n",
       "    <tr style=\"text-align: right;\">\n",
       "      <th></th>\n",
       "      <th>1반</th>\n",
       "      <th>2반</th>\n",
       "      <th>3반</th>\n",
       "      <th>4반</th>\n",
       "    </tr>\n",
       "    <tr>\n",
       "      <th>과목</th>\n",
       "      <th></th>\n",
       "      <th></th>\n",
       "      <th></th>\n",
       "      <th></th>\n",
       "    </tr>\n",
       "  </thead>\n",
       "  <tbody>\n",
       "    <tr>\n",
       "      <th>파이썬</th>\n",
       "      <td>45</td>\n",
       "      <td>44</td>\n",
       "      <td>73</td>\n",
       "      <td>39</td>\n",
       "    </tr>\n",
       "    <tr>\n",
       "      <th>DB</th>\n",
       "      <td>76</td>\n",
       "      <td>92</td>\n",
       "      <td>45</td>\n",
       "      <td>69</td>\n",
       "    </tr>\n",
       "    <tr>\n",
       "      <th>자바</th>\n",
       "      <td>47</td>\n",
       "      <td>92</td>\n",
       "      <td>45</td>\n",
       "      <td>69</td>\n",
       "    </tr>\n",
       "    <tr>\n",
       "      <th>크롤링</th>\n",
       "      <td>92</td>\n",
       "      <td>81</td>\n",
       "      <td>85</td>\n",
       "      <td>40</td>\n",
       "    </tr>\n",
       "    <tr>\n",
       "      <th>Web</th>\n",
       "      <td>11</td>\n",
       "      <td>79</td>\n",
       "      <td>47</td>\n",
       "      <td>26</td>\n",
       "    </tr>\n",
       "  </tbody>\n",
       "</table>\n",
       "</div>"
      ],
      "text/plain": [
       "     1반  2반  3반  4반\n",
       "과목                 \n",
       "파이썬  45  44  73  39\n",
       "DB   76  92  45  69\n",
       "자바   47  92  45  69\n",
       "크롤링  92  81  85  40\n",
       "Web  11  79  47  26"
      ]
     },
     "execution_count": 107,
     "metadata": {},
     "output_type": "execute_result"
    }
   ],
   "source": [
    "score2 = score.iloc[0:, 0:4 ]\n",
    "score2"
   ]
  },
  {
   "cell_type": "code",
   "execution_count": 108,
   "id": "2f10a354",
   "metadata": {},
   "outputs": [
    {
     "data": {
      "text/plain": [
       "과목\n",
       "파이썬    50.25\n",
       "DB     70.50\n",
       "자바     63.25\n",
       "크롤링    74.50\n",
       "Web    40.75\n",
       "dtype: float64"
      ]
     },
     "execution_count": 108,
     "metadata": {},
     "output_type": "execute_result"
    }
   ],
   "source": [
    "score_avg = score2.mean(axis=1)\n",
    "print(score_avg)"
   ]
  },
  {
   "cell_type": "code",
   "execution_count": 112,
   "id": "bc66e0e1",
   "metadata": {},
   "outputs": [
    {
     "data": {
      "text/html": [
       "<div>\n",
       "<style scoped>\n",
       "    .dataframe tbody tr th:only-of-type {\n",
       "        vertical-align: middle;\n",
       "    }\n",
       "\n",
       "    .dataframe tbody tr th {\n",
       "        vertical-align: top;\n",
       "    }\n",
       "\n",
       "    .dataframe thead th {\n",
       "        text-align: right;\n",
       "    }\n",
       "</style>\n",
       "<table border=\"1\" class=\"dataframe\">\n",
       "  <thead>\n",
       "    <tr style=\"text-align: right;\">\n",
       "      <th></th>\n",
       "      <th>1반</th>\n",
       "      <th>2반</th>\n",
       "      <th>3반</th>\n",
       "      <th>4반</th>\n",
       "      <th>합계</th>\n",
       "      <th>평균</th>\n",
       "    </tr>\n",
       "    <tr>\n",
       "      <th>과목</th>\n",
       "      <th></th>\n",
       "      <th></th>\n",
       "      <th></th>\n",
       "      <th></th>\n",
       "      <th></th>\n",
       "      <th></th>\n",
       "    </tr>\n",
       "  </thead>\n",
       "  <tbody>\n",
       "    <tr>\n",
       "      <th>파이썬</th>\n",
       "      <td>45</td>\n",
       "      <td>44</td>\n",
       "      <td>73</td>\n",
       "      <td>39</td>\n",
       "      <td>201</td>\n",
       "      <td>50.25</td>\n",
       "    </tr>\n",
       "    <tr>\n",
       "      <th>DB</th>\n",
       "      <td>76</td>\n",
       "      <td>92</td>\n",
       "      <td>45</td>\n",
       "      <td>69</td>\n",
       "      <td>282</td>\n",
       "      <td>70.50</td>\n",
       "    </tr>\n",
       "    <tr>\n",
       "      <th>자바</th>\n",
       "      <td>47</td>\n",
       "      <td>92</td>\n",
       "      <td>45</td>\n",
       "      <td>69</td>\n",
       "      <td>253</td>\n",
       "      <td>63.25</td>\n",
       "    </tr>\n",
       "    <tr>\n",
       "      <th>크롤링</th>\n",
       "      <td>92</td>\n",
       "      <td>81</td>\n",
       "      <td>85</td>\n",
       "      <td>40</td>\n",
       "      <td>298</td>\n",
       "      <td>74.50</td>\n",
       "    </tr>\n",
       "    <tr>\n",
       "      <th>Web</th>\n",
       "      <td>11</td>\n",
       "      <td>79</td>\n",
       "      <td>47</td>\n",
       "      <td>26</td>\n",
       "      <td>163</td>\n",
       "      <td>40.75</td>\n",
       "    </tr>\n",
       "  </tbody>\n",
       "</table>\n",
       "</div>"
      ],
      "text/plain": [
       "     1반  2반  3반  4반   합계     평균\n",
       "과목                             \n",
       "파이썬  45  44  73  39  201  50.25\n",
       "DB   76  92  45  69  282  70.50\n",
       "자바   47  92  45  69  253  63.25\n",
       "크롤링  92  81  85  40  298  74.50\n",
       "Web  11  79  47  26  163  40.75"
      ]
     },
     "execution_count": 112,
     "metadata": {},
     "output_type": "execute_result"
    }
   ],
   "source": [
    "score['평균'] = score_avg\n",
    "score"
   ]
  },
  {
   "cell_type": "code",
   "execution_count": null,
   "id": "55a1b87c",
   "metadata": {},
   "outputs": [],
   "source": []
  },
  {
   "cell_type": "code",
   "execution_count": null,
   "id": "86aa23da",
   "metadata": {},
   "outputs": [],
   "source": []
  }
 ],
 "metadata": {
  "kernelspec": {
   "display_name": "Python 3 (ipykernel)",
   "language": "python",
   "name": "python3"
  },
  "language_info": {
   "codemirror_mode": {
    "name": "ipython",
    "version": 3
   },
   "file_extension": ".py",
   "mimetype": "text/x-python",
   "name": "python",
   "nbconvert_exporter": "python",
   "pygments_lexer": "ipython3",
   "version": "3.11.5"
  }
 },
 "nbformat": 4,
 "nbformat_minor": 5
}
