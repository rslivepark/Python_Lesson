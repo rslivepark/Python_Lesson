{
 "cells": [
  {
   "cell_type": "markdown",
   "id": "dacb9813",
   "metadata": {},
   "source": [
    "### Pandas\n",
    "- Panel Datas \n",
    "\n",
    "#### Pandas에서 제공하는 데이터 구조\n",
    "1. Series : 1차원\n",
    "- 인덱스(index)와 value\n",
    "- column name(컬럼명) 존재하지 않음\n",
    "\n",
    "2. DataFrame : 2차원\n",
    "- 행과 열을 가지는 표와 같은 형태\n",
    "- 서로 다른 자료형 저장 가능\n",
    "- 1차원의 시리즈가 모여 2차원의 데이터프레임 구조가 된다"
   ]
  },
  {
   "cell_type": "code",
   "execution_count": 1,
   "id": "ff20e282",
   "metadata": {},
   "outputs": [],
   "source": [
    "# Pandas 라이브러리 로딩(가져오기)\n",
    "\n",
    "import pandas as pd"
   ]
  },
  {
   "cell_type": "markdown",
   "id": "d4680559",
   "metadata": {},
   "source": [
    "### Series Data Structure"
   ]
  },
  {
   "cell_type": "code",
   "execution_count": 6,
   "id": "e6073dc1",
   "metadata": {},
   "outputs": [
    {
     "name": "stdout",
     "output_type": "stream",
     "text": [
      "0    9904312\n",
      "1    3448737\n",
      "2    2890451\n",
      "3    1466052\n",
      "dtype: int64\n"
     ]
    }
   ],
   "source": [
    "# Series 생성하기 (리스트 활용)\n",
    "# 인덱스는 0부터 자동으로 부여된다\n",
    "\n",
    "population = pd.Series([9904312,3448737,2890451,1466052])\n",
    "print(population)"
   ]
  },
  {
   "cell_type": "code",
   "execution_count": 10,
   "id": "5296998d",
   "metadata": {},
   "outputs": [
    {
     "name": "stdout",
     "output_type": "stream",
     "text": [
      "서울    9904312\n",
      "부산    3448737\n",
      "인천    2890451\n",
      "광주    1466052\n",
      "dtype: int64\n"
     ]
    }
   ],
   "source": [
    "# 인덱스 이름을 지정해서 Series 생성하기\n",
    "#  인덱스값과 데이터 value 개수가 같아야 함 (1:1로 대응되는 자료구조)\n",
    "\n",
    "population = pd.Series([9904312,3448737,2890451,1466052], \n",
    "                      index = [\"서울\", \"부산\", \"인천\", \"광주\"])\n",
    "print(population)"
   ]
  },
  {
   "cell_type": "markdown",
   "id": "38cf6cc1",
   "metadata": {},
   "source": [
    "#### Series 데이터 확인"
   ]
  },
  {
   "cell_type": "code",
   "execution_count": 13,
   "id": "c409dbc5",
   "metadata": {},
   "outputs": [
    {
     "data": {
      "text/plain": [
       "array([9904312, 3448737, 2890451, 1466052], dtype=int64)"
      ]
     },
     "execution_count": 13,
     "metadata": {},
     "output_type": "execute_result"
    }
   ],
   "source": [
    "# Series 값 확인\n",
    "# 시리즈명(변수명).values\n",
    "\n",
    "population.values\n",
    "# Series의 데이터 values는 ndArray(넘파이 배열) 형태이다"
   ]
  },
  {
   "cell_type": "code",
   "execution_count": 14,
   "id": "c3053116",
   "metadata": {},
   "outputs": [
    {
     "data": {
      "text/plain": [
       "Index(['서울', '부산', '인천', '광주'], dtype='object')"
      ]
     },
     "execution_count": 14,
     "metadata": {},
     "output_type": "execute_result"
    }
   ],
   "source": [
    "# Series 인덱스 값 확인\n",
    "# 시리즈명(변수명).index\n",
    "\n",
    "population.index\n",
    "# dtype = 'object' => 문자열 의미"
   ]
  },
  {
   "cell_type": "code",
   "execution_count": 19,
   "id": "586170f8",
   "metadata": {},
   "outputs": [
    {
     "data": {
      "text/plain": [
       "도시\n",
       "서울    9904312\n",
       "부산    3448737\n",
       "인천    2890451\n",
       "광주    1466052\n",
       "Name: 인구수, dtype: int64"
      ]
     },
     "execution_count": 19,
     "metadata": {},
     "output_type": "execute_result"
    }
   ],
   "source": [
    "# Series 이름 지정\n",
    "# 사용이유?? => 이름을 지정해주면 시리즈를 직관적으로 이해할 수 있다\n",
    "\n",
    "# 시리즈명.name = '지어줄 이름'\n",
    "population.name = '인구수'\n",
    "population"
   ]
  },
  {
   "cell_type": "code",
   "execution_count": 17,
   "id": "f4360f16",
   "metadata": {},
   "outputs": [
    {
     "data": {
      "text/plain": [
       "도시\n",
       "서울    9904312\n",
       "부산    3448737\n",
       "인천    2890451\n",
       "광주    1466052\n",
       "Name: 인구수, dtype: int64"
      ]
     },
     "execution_count": 17,
     "metadata": {},
     "output_type": "execute_result"
    }
   ],
   "source": [
    "# Series Index에 이름 지정\n",
    "# 시리즈명.index.name = '지어줄 이름'\n",
    "\n",
    "population.index.name = '도시'\n",
    "population"
   ]
  },
  {
   "cell_type": "markdown",
   "id": "64ca05be",
   "metadata": {},
   "source": [
    "#### Series 데이터 구조의 연산\n",
    "- 요소별로 데이터 연산이 진행된다"
   ]
  },
  {
   "cell_type": "code",
   "execution_count": 21,
   "id": "a5ea02ba",
   "metadata": {},
   "outputs": [
    {
     "data": {
      "text/plain": [
       "도시\n",
       "서울    9.904312\n",
       "부산    3.448737\n",
       "인천    2.890451\n",
       "광주    1.466052\n",
       "Name: 인구수, dtype: float64"
      ]
     },
     "execution_count": 21,
     "metadata": {},
     "output_type": "execute_result"
    }
   ],
   "source": [
    "# Series 데이터 구조는 넘파이배열 기반 --> 요소별 연산이 가능하다!!!!\n",
    "population / 1000000"
   ]
  },
  {
   "cell_type": "markdown",
   "id": "9db38ef6",
   "metadata": {},
   "source": [
    "#### Series 인덱싱 & 슬라이싱"
   ]
  },
  {
   "cell_type": "code",
   "execution_count": null,
   "id": "f92076df",
   "metadata": {},
   "outputs": [],
   "source": []
  },
  {
   "cell_type": "code",
   "execution_count": null,
   "id": "50f95e9c",
   "metadata": {},
   "outputs": [],
   "source": []
  },
  {
   "cell_type": "code",
   "execution_count": null,
   "id": "67de2ade",
   "metadata": {},
   "outputs": [],
   "source": []
  },
  {
   "cell_type": "code",
   "execution_count": null,
   "id": "ba543e16",
   "metadata": {},
   "outputs": [],
   "source": []
  },
  {
   "cell_type": "code",
   "execution_count": null,
   "id": "197fd1dd",
   "metadata": {},
   "outputs": [],
   "source": []
  },
  {
   "cell_type": "code",
   "execution_count": null,
   "id": "a3723fea",
   "metadata": {},
   "outputs": [],
   "source": []
  },
  {
   "cell_type": "code",
   "execution_count": null,
   "id": "67edeedc",
   "metadata": {},
   "outputs": [],
   "source": []
  },
  {
   "cell_type": "code",
   "execution_count": null,
   "id": "a2acfdf5",
   "metadata": {},
   "outputs": [],
   "source": []
  },
  {
   "cell_type": "code",
   "execution_count": null,
   "id": "acee6eeb",
   "metadata": {},
   "outputs": [],
   "source": []
  },
  {
   "cell_type": "code",
   "execution_count": null,
   "id": "8a3d8532",
   "metadata": {},
   "outputs": [],
   "source": []
  },
  {
   "cell_type": "code",
   "execution_count": null,
   "id": "bee90b13",
   "metadata": {},
   "outputs": [],
   "source": []
  },
  {
   "cell_type": "code",
   "execution_count": null,
   "id": "96375b90",
   "metadata": {},
   "outputs": [],
   "source": []
  },
  {
   "cell_type": "code",
   "execution_count": null,
   "id": "1b3d4273",
   "metadata": {},
   "outputs": [],
   "source": []
  },
  {
   "cell_type": "code",
   "execution_count": null,
   "id": "2a71268b",
   "metadata": {},
   "outputs": [],
   "source": []
  },
  {
   "cell_type": "code",
   "execution_count": null,
   "id": "1d97cdeb",
   "metadata": {},
   "outputs": [],
   "source": []
  },
  {
   "cell_type": "code",
   "execution_count": null,
   "id": "92e44fe7",
   "metadata": {},
   "outputs": [],
   "source": []
  },
  {
   "cell_type": "code",
   "execution_count": null,
   "id": "818cc8ba",
   "metadata": {},
   "outputs": [],
   "source": []
  },
  {
   "cell_type": "code",
   "execution_count": null,
   "id": "a7e23754",
   "metadata": {},
   "outputs": [],
   "source": []
  },
  {
   "cell_type": "code",
   "execution_count": null,
   "id": "49069e59",
   "metadata": {},
   "outputs": [],
   "source": []
  },
  {
   "cell_type": "code",
   "execution_count": null,
   "id": "2dfc0615",
   "metadata": {},
   "outputs": [],
   "source": []
  },
  {
   "cell_type": "code",
   "execution_count": null,
   "id": "5edded8c",
   "metadata": {},
   "outputs": [],
   "source": []
  },
  {
   "cell_type": "code",
   "execution_count": null,
   "id": "5e10f8b2",
   "metadata": {},
   "outputs": [],
   "source": []
  },
  {
   "cell_type": "code",
   "execution_count": null,
   "id": "1c471738",
   "metadata": {},
   "outputs": [],
   "source": []
  },
  {
   "cell_type": "code",
   "execution_count": null,
   "id": "71769957",
   "metadata": {},
   "outputs": [],
   "source": []
  }
 ],
 "metadata": {
  "kernelspec": {
   "display_name": "Python 3 (ipykernel)",
   "language": "python",
   "name": "python3"
  },
  "language_info": {
   "codemirror_mode": {
    "name": "ipython",
    "version": 3
   },
   "file_extension": ".py",
   "mimetype": "text/x-python",
   "name": "python",
   "nbconvert_exporter": "python",
   "pygments_lexer": "ipython3",
   "version": "3.11.5"
  }
 },
 "nbformat": 4,
 "nbformat_minor": 5
}
