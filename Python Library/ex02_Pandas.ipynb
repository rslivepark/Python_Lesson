{
 "cells": [
  {
   "cell_type": "markdown",
   "id": "dacb9813",
   "metadata": {},
   "source": [
    "### Pandas\n",
    "- Panel Datas \n",
    "\n",
    "#### Pandas에서 제공하는 데이터 구조\n",
    "1. Series : 1차원\n",
    "- 인덱스(index)와 value\n",
    "- column name(컬럼명) 존재하지 않음\n",
    "\n",
    "2. DataFrame : 2차원\n",
    "- 행과 열을 가지는 표와 같은 형태\n",
    "- 서로 다른 자료형 저장 가능\n",
    "- 1차원의 시리즈가 모여 2차원의 데이터프레임 구조가 된다"
   ]
  },
  {
   "cell_type": "code",
   "execution_count": 2,
   "id": "ff20e282",
   "metadata": {},
   "outputs": [],
   "source": [
    "# Pandas 라이브러리 로딩(가져오기)\n",
    "\n",
    "import pandas as pd"
   ]
  },
  {
   "cell_type": "markdown",
   "id": "d4680559",
   "metadata": {},
   "source": [
    "### Series Data Structure"
   ]
  },
  {
   "cell_type": "code",
   "execution_count": null,
   "id": "e6073dc1",
   "metadata": {},
   "outputs": [],
   "source": [
    "# Series 생성하기 (리스트 활용)\n",
    "# 인덱스는 0부터 자동으로 부여된다\n",
    "\n",
    "population = pd.Series([9904312,3448737,2890451,1466052])\n",
    "print(population)"
   ]
  },
  {
   "cell_type": "code",
   "execution_count": null,
   "id": "5296998d",
   "metadata": {},
   "outputs": [],
   "source": [
    "# 인덱스 이름을 지정해서 Series 생성하기\n",
    "#  인덱스값과 데이터 value 개수가 같아야 함 (1:1로 대응되는 자료구조)\n",
    "\n",
    "population = pd.Series([9904312,3448737,2890451,1466052], \n",
    "                      index = [\"서울\", \"부산\", \"인천\", \"광주\"])\n",
    "print(population)"
   ]
  },
  {
   "cell_type": "markdown",
   "id": "38cf6cc1",
   "metadata": {},
   "source": [
    "#### Series 데이터 확인"
   ]
  },
  {
   "cell_type": "code",
   "execution_count": null,
   "id": "c409dbc5",
   "metadata": {},
   "outputs": [],
   "source": [
    "# Series 값 확인\n",
    "# 시리즈명(변수명).values\n",
    "\n",
    "population.values\n",
    "# Series의 데이터 values는 ndArray(넘파이 배열) 형태이다"
   ]
  },
  {
   "cell_type": "code",
   "execution_count": null,
   "id": "c3053116",
   "metadata": {},
   "outputs": [],
   "source": [
    "# Series 인덱스 값 확인\n",
    "# 시리즈명(변수명).index\n",
    "\n",
    "population.index\n",
    "# dtype = 'object' => 문자열 의미"
   ]
  },
  {
   "cell_type": "code",
   "execution_count": null,
   "id": "586170f8",
   "metadata": {},
   "outputs": [],
   "source": [
    "# Series 이름 지정\n",
    "# 사용이유?? => 이름을 지정해주면 시리즈를 직관적으로 이해할 수 있다\n",
    "\n",
    "# 시리즈명.name = '지어줄 이름'\n",
    "population.name = '인구수'\n",
    "population"
   ]
  },
  {
   "cell_type": "code",
   "execution_count": null,
   "id": "f4360f16",
   "metadata": {},
   "outputs": [],
   "source": [
    "# Series Index에 이름 지정\n",
    "# 시리즈명.index.name = '지어줄 이름'\n",
    "\n",
    "population.index.name = '도시'\n",
    "population"
   ]
  },
  {
   "cell_type": "markdown",
   "id": "64ca05be",
   "metadata": {},
   "source": [
    "#### Series 데이터 구조의 연산\n",
    "- 요소별로 데이터 연산이 진행된다"
   ]
  },
  {
   "cell_type": "code",
   "execution_count": null,
   "id": "a5ea02ba",
   "metadata": {},
   "outputs": [],
   "source": [
    "# Series 데이터 구조는 넘파이배열 기반 --> 요소별 연산이 가능하다!!!!\n",
    "population / 1000000"
   ]
  },
  {
   "cell_type": "markdown",
   "id": "9db38ef6",
   "metadata": {},
   "source": [
    "#### Series 인덱싱 & 슬라이싱"
   ]
  },
  {
   "cell_type": "code",
   "execution_count": null,
   "id": "f92076df",
   "metadata": {},
   "outputs": [],
   "source": [
    "population"
   ]
  },
  {
   "cell_type": "code",
   "execution_count": null,
   "id": "50f95e9c",
   "metadata": {},
   "outputs": [],
   "source": [
    "# 광주의 인구수 출력하기\n",
    "\n",
    "# 인덱스 번호 인덱싱\n",
    "print(population[3])\n",
    "\n",
    "# 인덱스명을 통해서도 인덱싱 가능!\n",
    "print(population['광주'])"
   ]
  },
  {
   "cell_type": "code",
   "execution_count": null,
   "id": "67de2ade",
   "metadata": {},
   "outputs": [],
   "source": [
    "# 인덱싱을 활용해서 여러 개의 데이터 추출\n",
    "# 서울, 광주, 부산 순으로 데이터 가져오기\n",
    "print(population[[0,3,1]])\n",
    "print(population[['서울','광주','부산']])"
   ]
  },
  {
   "cell_type": "markdown",
   "id": "7bd9e1db",
   "metadata": {},
   "source": [
    "#### 슬라이싱"
   ]
  },
  {
   "cell_type": "code",
   "execution_count": null,
   "id": "197fd1dd",
   "metadata": {},
   "outputs": [],
   "source": [
    "# Series명[시작인덱스:끝인덱스+1]\n",
    "# 인덱스 번호로 슬라이싱\n",
    "# 부산 ~ 인천\n",
    "print(population[1:3])\n",
    "\n",
    "# 인덱스 이름으로 슬라이싱 -> +1 개념이 없으므로 가져오고자 하는 이름 작성\n",
    "# 부산 ~ 인천\n",
    "print(population['부산' : '인천'])"
   ]
  },
  {
   "cell_type": "markdown",
   "id": "2092fa68",
   "metadata": {},
   "source": [
    "### Series 불리언 인덱싱\n",
    "- 원하는 조건에 해당하는 데이터를 가져올 때 사용\n",
    "- 시리즈명[조건]"
   ]
  },
  {
   "cell_type": "code",
   "execution_count": null,
   "id": "e73a00b5",
   "metadata": {},
   "outputs": [],
   "source": [
    "# 인구수가 250만 이상인 도시들만 출력해보기\n",
    "population >= 2500000 # 논리연산 결과임(boolean 자료형) 인덱싱 한 거 아님 ㅇㅇ\n",
    "population[population>=2500000]"
   ]
  },
  {
   "cell_type": "code",
   "execution_count": null,
   "id": "275a2cd0",
   "metadata": {},
   "outputs": [],
   "source": [
    "# 인구수가 250만 이상이면서 500만 이하인 도시 출력\n",
    "# and - &\n",
    "# or - |\n",
    "population[(population>=2500000) & (population<=500000)]"
   ]
  },
  {
   "cell_type": "markdown",
   "id": "74a9f9ba",
   "metadata": {},
   "source": [
    "### 딕셔너리 자료형 Series 생성\n",
    "- { key : value }\n",
    "- key 값은 index\n",
    "- value 값은 value "
   ]
  },
  {
   "cell_type": "markdown",
   "id": "8117d1d3",
   "metadata": {},
   "source": [
    "#### 포켓몬..."
   ]
  },
  {
   "cell_type": "code",
   "execution_count": 8,
   "id": "838b9d45",
   "metadata": {},
   "outputs": [
    {
     "data": {
      "text/plain": [
       "파이리    9631\n",
       "꼬부기    3383\n",
       "잠만보    1046\n",
       "오박사       3\n",
       "dtype: int64"
      ]
     },
     "execution_count": 8,
     "metadata": {},
     "output_type": "execute_result"
    }
   ],
   "source": [
    "# 포켓몬 : 능력치\n",
    "data = { \"파이리\"  : 9631, \n",
    "\"꼬부기\" : 3383,\n",
    " \"잠만보\" : 1046,\n",
    " \"오박사\" : 3\n",
    "}\n",
    "data\n",
    "\n",
    "pocketmon = pd.Series(data)\n",
    "pocketmon"
   ]
  },
  {
   "cell_type": "code",
   "execution_count": 7,
   "id": "eaba7651",
   "metadata": {},
   "outputs": [
    {
     "data": {
      "text/plain": [
       "리자드     9999\n",
       "어니부기    4500\n",
       "잠만보     3000\n",
       "오박사        5\n",
       "dtype: int64"
      ]
     },
     "execution_count": 7,
     "metadata": {},
     "output_type": "execute_result"
    }
   ],
   "source": [
    "# 레벨업한 데이터가 들어있는 pocketmon_up 만들기\n",
    "data2 = {'리자드' : 9999, \"어니부기\" : 4500, \"잠만보\" : 3000, \"오박사\" : 5}\n",
    "pocketmon_up = pd.Series(data2)\n",
    "pocketmon_up"
   ]
  },
  {
   "cell_type": "code",
   "execution_count": 10,
   "id": "f256b2ca",
   "metadata": {},
   "outputs": [
    {
     "data": {
      "text/plain": [
       "꼬부기        NaN\n",
       "리자드        NaN\n",
       "어니부기       NaN\n",
       "오박사        2.0\n",
       "잠만보     1954.0\n",
       "파이리        NaN\n",
       "dtype: float64"
      ]
     },
     "execution_count": 10,
     "metadata": {},
     "output_type": "execute_result"
    }
   ],
   "source": [
    "# 올라간 능력치 계산하기\n",
    "up = pocketmon_up - pocketmon\n",
    "up\n",
    "\n",
    "# 인덱스명이 다르면 Series 연산하게 되면 NaN (Not a Number=결측치) 출력"
   ]
  },
  {
   "cell_type": "markdown",
   "id": "0c970eca",
   "metadata": {},
   "source": [
    "- 결측치(NaN)가 있는 Series 데이터 처리하는 방법"
   ]
  },
  {
   "cell_type": "code",
   "execution_count": 16,
   "id": "67edeedc",
   "metadata": {},
   "outputs": [
    {
     "name": "stdout",
     "output_type": "stream",
     "text": [
      "오박사       2.0\n",
      "잠만보    1954.0\n",
      "dtype: float64\n"
     ]
    }
   ],
   "source": [
    "# 비어있지 않은 데이터들만 출력한다면??? -> notnull() 사용\n",
    "up.notnull()\n",
    "\n",
    "# 비어있지 않은 데이터만 인덱싱해서 출력 -> 불리언 인덱싱\n",
    "print(up[up.notnull()])"
   ]
  },
  {
   "cell_type": "code",
   "execution_count": 15,
   "id": "a2acfdf5",
   "metadata": {},
   "outputs": [
    {
     "name": "stdout",
     "output_type": "stream",
     "text": [
      "꼬부기    NaN\n",
      "리자드    NaN\n",
      "어니부기   NaN\n",
      "파이리    NaN\n",
      "dtype: float64\n"
     ]
    }
   ],
   "source": [
    "# 비어있는 데이터만 보고 싶다면??? -> isnull() 사용\n",
    "up.isnull()\n",
    "\n",
    "# 비어있는 데이터만 인덱싱해서 출력 -> 불리언인덱싱\n",
    "print(up[up.isnull()])"
   ]
  },
  {
   "cell_type": "code",
   "execution_count": 20,
   "id": "acee6eeb",
   "metadata": {},
   "outputs": [
    {
     "name": "stdout",
     "output_type": "stream",
     "text": [
      "리자드     9999\n",
      "어니부기    4500\n",
      "잠만보     3000\n",
      "오박사        5\n",
      "dtype: int64\n",
      "파이리    9631\n",
      "꼬부기    3383\n",
      "잠만보    1046\n",
      "오박사       3\n",
      "dtype: int64\n"
     ]
    }
   ],
   "source": [
    "# 레벨업해서 올라간 능력치의 증가율(%) 계산해보기\n",
    "# (올라간 데이터 - 원래 데이터) / 원래데이터 * 100\n",
    "print(pocketmon_up)\n",
    "print(pocketmon)\n",
    "\n",
    "ch = (pocketmon_up - pocketmon) / pocketmon * 100"
   ]
  },
  {
   "cell_type": "markdown",
   "id": "15c2efac",
   "metadata": {},
   "source": [
    "### Series 데이터 갱신, 추가, 삭제 방법"
   ]
  },
  {
   "cell_type": "code",
   "execution_count": 23,
   "id": "bee90b13",
   "metadata": {},
   "outputs": [
    {
     "data": {
      "text/plain": [
       "꼬부기            NaN\n",
       "리자드            NaN\n",
       "어니부기           NaN\n",
       "오박사      66.666667\n",
       "잠만보     186.806883\n",
       "파이리            NaN\n",
       "피카츄      55.000000\n",
       "dtype: float64"
      ]
     },
     "execution_count": 23,
     "metadata": {},
     "output_type": "execute_result"
    }
   ],
   "source": [
    "# Series 데이터 값 추가\n",
    "# 기존에 없던 인덱스 명칭 활용하여 value 추가 가능\n",
    "# Series명['추가하고 싶은 인덱스명'] = value\n",
    "\n",
    "ch['피카츄'] = 55\n",
    "ch"
   ]
  },
  {
   "cell_type": "code",
   "execution_count": 24,
   "id": "96375b90",
   "metadata": {},
   "outputs": [
    {
     "data": {
      "text/plain": [
       "꼬부기            NaN\n",
       "리자드            NaN\n",
       "어니부기           NaN\n",
       "오박사      30.000000\n",
       "잠만보     186.806883\n",
       "파이리            NaN\n",
       "피카츄      55.000000\n",
       "dtype: float64"
      ]
     },
     "execution_count": 24,
     "metadata": {},
     "output_type": "execute_result"
    }
   ],
   "source": [
    "# Series 데이터 값 수정\n",
    "# 기존에 있는 인덱스명을 활용하여 value 수정 가능\n",
    "# Series명['수정하고 싶은 인덱스명'] = value\n",
    "\n",
    "ch['오박사'] = 30\n",
    "ch"
   ]
  },
  {
   "cell_type": "code",
   "execution_count": 25,
   "id": "1b3d4273",
   "metadata": {},
   "outputs": [
    {
     "data": {
      "text/plain": [
       "꼬부기            NaN\n",
       "리자드            NaN\n",
       "어니부기           NaN\n",
       "잠만보     186.806883\n",
       "파이리            NaN\n",
       "피카츄      55.000000\n",
       "dtype: float64"
      ]
     },
     "execution_count": 25,
     "metadata": {},
     "output_type": "execute_result"
    }
   ],
   "source": [
    "# Series 데이터 값 삭제\n",
    "# del\n",
    "del ch['오박사']\n",
    "ch"
   ]
  },
  {
   "cell_type": "code",
   "execution_count": null,
   "id": "2a71268b",
   "metadata": {},
   "outputs": [],
   "source": []
  },
  {
   "cell_type": "code",
   "execution_count": null,
   "id": "1d97cdeb",
   "metadata": {},
   "outputs": [],
   "source": []
  },
  {
   "cell_type": "code",
   "execution_count": null,
   "id": "92e44fe7",
   "metadata": {},
   "outputs": [],
   "source": []
  },
  {
   "cell_type": "code",
   "execution_count": null,
   "id": "818cc8ba",
   "metadata": {},
   "outputs": [],
   "source": []
  },
  {
   "cell_type": "code",
   "execution_count": null,
   "id": "a7e23754",
   "metadata": {},
   "outputs": [],
   "source": []
  },
  {
   "cell_type": "code",
   "execution_count": null,
   "id": "49069e59",
   "metadata": {},
   "outputs": [],
   "source": []
  },
  {
   "cell_type": "code",
   "execution_count": null,
   "id": "2dfc0615",
   "metadata": {},
   "outputs": [],
   "source": []
  },
  {
   "cell_type": "code",
   "execution_count": null,
   "id": "5edded8c",
   "metadata": {},
   "outputs": [],
   "source": []
  },
  {
   "cell_type": "code",
   "execution_count": null,
   "id": "5e10f8b2",
   "metadata": {},
   "outputs": [],
   "source": []
  },
  {
   "cell_type": "code",
   "execution_count": null,
   "id": "1c471738",
   "metadata": {},
   "outputs": [],
   "source": []
  },
  {
   "cell_type": "code",
   "execution_count": null,
   "id": "71769957",
   "metadata": {},
   "outputs": [],
   "source": []
  }
 ],
 "metadata": {
  "kernelspec": {
   "display_name": "Python 3 (ipykernel)",
   "language": "python",
   "name": "python3"
  },
  "language_info": {
   "codemirror_mode": {
    "name": "ipython",
    "version": 3
   },
   "file_extension": ".py",
   "mimetype": "text/x-python",
   "name": "python",
   "nbconvert_exporter": "python",
   "pygments_lexer": "ipython3",
   "version": "3.11.5"
  }
 },
 "nbformat": 4,
 "nbformat_minor": 5
}
