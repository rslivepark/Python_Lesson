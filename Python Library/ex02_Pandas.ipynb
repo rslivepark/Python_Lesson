{
 "cells": [
  {
   "cell_type": "markdown",
   "id": "dacb9813",
   "metadata": {},
   "source": [
    "### Pandas\n",
    "- Panel Datas \n",
    "\n",
    "#### Pandas에서 제공하는 데이터 구조\n",
    "1. Series : 1차원\n",
    "- 인덱스(index)와 value\n",
    "- column name(컬럼명) 존재하지 않음\n",
    "\n",
    "2. DataFrame : 2차원\n",
    "- 행과 열을 가지는 표와 같은 형태\n",
    "- 서로 다른 자료형 저장 가능\n",
    "- 1차원의 시리즈가 모여 2차원의 데이터프레임 구조가 된다"
   ]
  },
  {
   "cell_type": "code",
   "execution_count": 42,
   "id": "ff20e282",
   "metadata": {},
   "outputs": [],
   "source": [
    "# Pandas 라이브러리 로딩(가져오기)\n",
    "\n",
    "import pandas as pd"
   ]
  },
  {
   "cell_type": "markdown",
   "id": "d4680559",
   "metadata": {},
   "source": [
    "### Series Data Structure"
   ]
  },
  {
   "cell_type": "code",
   "execution_count": null,
   "id": "e6073dc1",
   "metadata": {},
   "outputs": [],
   "source": [
    "# Series 생성하기 (리스트 활용)\n",
    "# 인덱스는 0부터 자동으로 부여된다\n",
    "\n",
    "population = pd.Series([9904312,3448737,2890451,1466052])\n",
    "print(population)"
   ]
  },
  {
   "cell_type": "code",
   "execution_count": null,
   "id": "5296998d",
   "metadata": {},
   "outputs": [],
   "source": [
    "# 인덱스 이름을 지정해서 Series 생성하기\n",
    "#  인덱스값과 데이터 value 개수가 같아야 함 (1:1로 대응되는 자료구조)\n",
    "\n",
    "population = pd.Series([9904312,3448737,2890451,1466052], \n",
    "                      index = [\"서울\", \"부산\", \"인천\", \"광주\"])\n",
    "print(population)"
   ]
  },
  {
   "cell_type": "markdown",
   "id": "38cf6cc1",
   "metadata": {},
   "source": [
    "#### Series 데이터 확인"
   ]
  },
  {
   "cell_type": "code",
   "execution_count": null,
   "id": "c409dbc5",
   "metadata": {},
   "outputs": [],
   "source": [
    "# Series 값 확인\n",
    "# 시리즈명(변수명).values\n",
    "\n",
    "population.values\n",
    "# Series의 데이터 values는 ndArray(넘파이 배열) 형태이다"
   ]
  },
  {
   "cell_type": "code",
   "execution_count": null,
   "id": "c3053116",
   "metadata": {},
   "outputs": [],
   "source": [
    "# Series 인덱스 값 확인\n",
    "# 시리즈명(변수명).index\n",
    "\n",
    "population.index\n",
    "# dtype = 'object' => 문자열 의미"
   ]
  },
  {
   "cell_type": "code",
   "execution_count": null,
   "id": "586170f8",
   "metadata": {},
   "outputs": [],
   "source": [
    "# Series 이름 지정\n",
    "# 사용이유?? => 이름을 지정해주면 시리즈를 직관적으로 이해할 수 있다\n",
    "\n",
    "# 시리즈명.name = '지어줄 이름'\n",
    "population.name = '인구수'\n",
    "population"
   ]
  },
  {
   "cell_type": "code",
   "execution_count": null,
   "id": "f4360f16",
   "metadata": {},
   "outputs": [],
   "source": [
    "# Series Index에 이름 지정\n",
    "# 시리즈명.index.name = '지어줄 이름'\n",
    "\n",
    "population.index.name = '도시'\n",
    "population"
   ]
  },
  {
   "cell_type": "markdown",
   "id": "64ca05be",
   "metadata": {},
   "source": [
    "#### Series 데이터 구조의 연산\n",
    "- 요소별로 데이터 연산이 진행된다"
   ]
  },
  {
   "cell_type": "code",
   "execution_count": null,
   "id": "a5ea02ba",
   "metadata": {},
   "outputs": [],
   "source": [
    "# Series 데이터 구조는 넘파이배열 기반 --> 요소별 연산이 가능하다!!!!\n",
    "population / 1000000"
   ]
  },
  {
   "cell_type": "markdown",
   "id": "9db38ef6",
   "metadata": {},
   "source": [
    "#### Series 인덱싱 & 슬라이싱"
   ]
  },
  {
   "cell_type": "code",
   "execution_count": null,
   "id": "f92076df",
   "metadata": {},
   "outputs": [],
   "source": [
    "population"
   ]
  },
  {
   "cell_type": "code",
   "execution_count": null,
   "id": "50f95e9c",
   "metadata": {},
   "outputs": [],
   "source": [
    "# 광주의 인구수 출력하기\n",
    "\n",
    "# 인덱스 번호 인덱싱\n",
    "print(population[3])\n",
    "\n",
    "# 인덱스명을 통해서도 인덱싱 가능!\n",
    "print(population['광주'])"
   ]
  },
  {
   "cell_type": "code",
   "execution_count": null,
   "id": "67de2ade",
   "metadata": {},
   "outputs": [],
   "source": [
    "# 인덱싱을 활용해서 여러 개의 데이터 추출\n",
    "# 서울, 광주, 부산 순으로 데이터 가져오기\n",
    "print(population[[0,3,1]])\n",
    "print(population[['서울','광주','부산']])"
   ]
  },
  {
   "cell_type": "markdown",
   "id": "1072abfa",
   "metadata": {},
   "source": [
    "#### 슬라이싱"
   ]
  },
  {
   "cell_type": "code",
   "execution_count": null,
   "id": "197fd1dd",
   "metadata": {},
   "outputs": [],
   "source": [
    "# Series명[시작인덱스:끝인덱스+1]\n",
    "# 인덱스 번호로 슬라이싱\n",
    "# 부산 ~ 인천\n",
    "print(population[1:3])\n",
    "\n",
    "# 인덱스 이름으로 슬라이싱 -> +1 개념이 없으므로 가져오고자 하는 이름 작성\n",
    "# 부산 ~ 인천\n",
    "print(population['부산' : '인천'])"
   ]
  },
  {
   "cell_type": "markdown",
   "id": "33058e15",
   "metadata": {},
   "source": [
    "### Series 불리언 인덱싱\n",
    "- 원하는 조건에 해당하는 데이터를 가져올 때 사용\n",
    "- 시리즈명[조건]"
   ]
  },
  {
   "cell_type": "code",
   "execution_count": null,
   "id": "e5120372",
   "metadata": {},
   "outputs": [],
   "source": [
    "# 인구수가 250만 이상인 도시들만 출력해보기\n",
    "population >= 2500000 # 논리연산 결과임(boolean 자료형) 인덱싱 한 거 아님 ㅇㅇ\n",
    "population[population>=2500000]"
   ]
  },
  {
   "cell_type": "code",
   "execution_count": null,
   "id": "b05448b0",
   "metadata": {},
   "outputs": [],
   "source": [
    "# 인구수가 250만 이상이면서 500만 이하인 도시 출력\n",
    "# and - &\n",
    "# or - |\n",
    "population[(population>=2500000) & (population<=500000)]"
   ]
  },
  {
   "cell_type": "markdown",
   "id": "600e745e",
   "metadata": {},
   "source": [
    "### 딕셔너리 자료형 Series 생성\n",
    "- { key : value }\n",
    "- key 값은 index\n",
    "- value 값은 value "
   ]
  },
  {
   "cell_type": "markdown",
   "id": "d47033fa",
   "metadata": {},
   "source": [
    "#### 포켓몬..."
   ]
  },
  {
   "cell_type": "code",
   "execution_count": null,
   "id": "71bc388c",
   "metadata": {},
   "outputs": [],
   "source": [
    "# 포켓몬 : 능력치\n",
    "data = { \"파이리\"  : 9631, \n",
    "\"꼬부기\" : 3383,\n",
    " \"잠만보\" : 1046,\n",
    " \"오박사\" : 3\n",
    "}\n",
    "data\n",
    "\n",
    "pocketmon = pd.Series(data)\n",
    "pocketmon"
   ]
  },
  {
   "cell_type": "code",
   "execution_count": null,
   "id": "e8c7e910",
   "metadata": {},
   "outputs": [],
   "source": [
    "# 레벨업한 데이터가 들어있는 pocketmon_up 만들기\n",
    "data2 = {'리자드' : 9999, \"어니부기\" : 4500, \"잠만보\" : 3000, \"오박사\" : 5}\n",
    "pocketmon_up = pd.Series(data2)\n",
    "pocketmon_up"
   ]
  },
  {
   "cell_type": "code",
   "execution_count": null,
   "id": "d747a526",
   "metadata": {},
   "outputs": [],
   "source": [
    "# 올라간 능력치 계산하기\n",
    "up = pocketmon_up - pocketmon\n",
    "up\n",
    "\n",
    "# 인덱스명이 다르면 Series 연산하게 되면 NaN (Not a Number=결측치) 출력"
   ]
  },
  {
   "cell_type": "markdown",
   "id": "72c7b04b",
   "metadata": {},
   "source": [
    "- 결측치(NaN)가 있는 Series 데이터 처리하는 방법"
   ]
  },
  {
   "cell_type": "code",
   "execution_count": null,
   "id": "67edeedc",
   "metadata": {},
   "outputs": [],
   "source": [
    "# 비어있지 않은 데이터들만 출력한다면??? -> notnull() 사용\n",
    "up.notnull()\n",
    "\n",
    "# 비어있지 않은 데이터만 인덱싱해서 출력 -> 불리언 인덱싱\n",
    "print(up[up.notnull()])"
   ]
  },
  {
   "cell_type": "code",
   "execution_count": null,
   "id": "a2acfdf5",
   "metadata": {},
   "outputs": [],
   "source": [
    "# 비어있는 데이터만 보고 싶다면??? -> isnull() 사용\n",
    "up.isnull()\n",
    "\n",
    "# 비어있는 데이터만 인덱싱해서 출력 -> 불리언인덱싱\n",
    "print(up[up.isnull()])"
   ]
  },
  {
   "cell_type": "code",
   "execution_count": null,
   "id": "acee6eeb",
   "metadata": {},
   "outputs": [],
   "source": [
    "# 레벨업해서 올라간 능력치의 증가율(%) 계산해보기\n",
    "# (올라간 데이터 - 원래 데이터) / 원래데이터 * 100\n",
    "print(pocketmon_up)\n",
    "print(pocketmon)\n",
    "\n",
    "ch = (pocketmon_up - pocketmon) / pocketmon * 100"
   ]
  },
  {
   "cell_type": "markdown",
   "id": "5f5b81a9",
   "metadata": {},
   "source": [
    "### Series 데이터 갱신, 추가, 삭제 방법"
   ]
  },
  {
   "cell_type": "code",
   "execution_count": null,
   "id": "bee90b13",
   "metadata": {},
   "outputs": [],
   "source": [
    "# Series 데이터 값 추가\n",
    "# 기존에 없던 인덱스 명칭 활용하여 value 추가 가능\n",
    "# Series명['추가하고 싶은 인덱스명'] = value\n",
    "\n",
    "ch['피카츄'] = 55\n",
    "ch"
   ]
  },
  {
   "cell_type": "code",
   "execution_count": null,
   "id": "96375b90",
   "metadata": {},
   "outputs": [],
   "source": [
    "# Series 데이터 값 수정\n",
    "# 기존에 있는 인덱스명을 활용하여 value 수정 가능\n",
    "# Series명['수정하고 싶은 인덱스명'] = value\n",
    "\n",
    "ch['오박사'] = 30\n",
    "ch"
   ]
  },
  {
   "cell_type": "code",
   "execution_count": null,
   "id": "1b3d4273",
   "metadata": {},
   "outputs": [],
   "source": [
    "# Series 데이터 값 삭제\n",
    "# del\n",
    "del ch['오박사']\n",
    "ch"
   ]
  },
  {
   "cell_type": "code",
   "execution_count": null,
   "id": "2a71268b",
   "metadata": {},
   "outputs": [],
   "source": [
    "# 인덱스 이름 수정하는 방법\n",
    "# ch.rename({'파이리': '뮤츠'})\n",
    "# 데이터 자체에는 변화 없음. 데이터 변경하려면 재대입 필요ㅇㅇ"
   ]
  },
  {
   "cell_type": "markdown",
   "id": "3bb0e378",
   "metadata": {},
   "source": [
    "#### DataFrame\n",
    "- 행, 열로 구성된 2차원 데이터 구조(엑셀 표 형태)\n",
    "- 1차원의 Series들이 모여 2차원이 된 형태"
   ]
  },
  {
   "cell_type": "code",
   "execution_count": null,
   "id": "49069e59",
   "metadata": {},
   "outputs": [],
   "source": [
    "# 딕셔너리 자료형으로 DataFrame 생성\n",
    "\n",
    "# 딕셔너리 생성\n",
    "data = {\"2015\" : [9904312, 3448737 , 2890451, 2446052],\n",
    "              \"2010\" : [9631482, 3393191, 2632035, 2431774]}\n",
    "\n",
    "# key -> 컬럼명(열이름)\n",
    "# value -> value(데이터)\n",
    "# 인덱스는 자동으로 지정됨\n",
    "\n",
    "# 데이터 프레임 생성\n",
    "df = pd.DataFrame(data, index=['서울', '부산', '인천', '광주'])  # df : dataframe\n",
    "df"
   ]
  },
  {
   "cell_type": "code",
   "execution_count": null,
   "id": "2dfc0615",
   "metadata": {},
   "outputs": [],
   "source": [
    "# 리스트 자료형으로 DataFrame 생성\n",
    "# 데이터프레임에 들어가는 모든 값들을 일일이 지정해줘야 함\n",
    "\n",
    "# value가 될 리스트 2차원으로 만들기\n",
    "data1 = [[9668465,3391946,2942828,1450062],\n",
    "                [10312545,3567910,2758296,1454636]]\n",
    "\n",
    "# index가 될 리스트\n",
    "ind = ['2020', '2010']\n",
    "\n",
    "# 컬럼명이 될 리스트\n",
    "col = ['서울', '부산', '인천', '광주']\n",
    "\n",
    "df1 = pd.DataFrame(data1, index = ind, columns = col)\n",
    "df1"
   ]
  },
  {
   "cell_type": "code",
   "execution_count": null,
   "id": "0f2c89d5",
   "metadata": {},
   "outputs": [],
   "source": [
    "# 데이터프레임 전치시키기 - 행, 열 위치를 바꿔줌(Transpose)\n",
    "# 전치시킨 후 다시 변수에 재대입 해주어야 한다\n",
    "\n",
    "df1 = df1.T\n",
    "df1"
   ]
  },
  {
   "cell_type": "markdown",
   "id": "5e68f622",
   "metadata": {},
   "source": [
    "### 데이터프레임 구조 확인\n",
    "- values : 값, 데이터 확인\n",
    "- index : 인덱스 확인\n",
    "- columns : 컬럼명 확인"
   ]
  },
  {
   "cell_type": "code",
   "execution_count": null,
   "id": "1c8ce903",
   "metadata": {},
   "outputs": [],
   "source": [
    "df.values"
   ]
  },
  {
   "cell_type": "code",
   "execution_count": null,
   "id": "88db196e",
   "metadata": {},
   "outputs": [],
   "source": [
    "df.index"
   ]
  },
  {
   "cell_type": "code",
   "execution_count": null,
   "id": "8c8d213a",
   "metadata": {},
   "outputs": [],
   "source": [
    "df.columns"
   ]
  },
  {
   "cell_type": "markdown",
   "id": "300901d2",
   "metadata": {},
   "source": [
    "### DataFrame 인덱싱, 슬라이싱"
   ]
  },
  {
   "cell_type": "code",
   "execution_count": null,
   "id": "ea7e9d96",
   "metadata": {},
   "outputs": [],
   "source": [
    "# DataFrame 열 인덱싱\n",
    "df['2015'] # 1차원 형태 인덱싱\n",
    "df[['2015']] # 2차원 형태로 인덱싱\n",
    "\n",
    "# Series 형태로 출력됨\n",
    "# DataFrame 은 여러개의 Series로 구성이 되어 있기 때문"
   ]
  },
  {
   "cell_type": "code",
   "execution_count": null,
   "id": "ff3f857f",
   "metadata": {},
   "outputs": [],
   "source": [
    "# 두 개의 컬럼 출력하기\n",
    "\n",
    "# 2010, 2015 순서대로 가져오기\n",
    "df[['2010', '2015']] # df['2010', '2015'] -> error 발생"
   ]
  },
  {
   "cell_type": "markdown",
   "id": "27e7f8af",
   "metadata": {},
   "source": [
    "### DataFrame 행, 열 데이터 추가, 수정, 삭제"
   ]
  },
  {
   "cell_type": "markdown",
   "id": "c0efe29f",
   "metadata": {},
   "source": [
    "#### 추가"
   ]
  },
  {
   "cell_type": "code",
   "execution_count": null,
   "id": "69fc2bea",
   "metadata": {},
   "outputs": [],
   "source": [
    "df['2005'] = [9762546,3512547,2517680,1456016]\n",
    "df"
   ]
  },
  {
   "cell_type": "markdown",
   "id": "c24ead5a",
   "metadata": {},
   "source": [
    "#### 삭제\n",
    "- drop() 메소드\n",
    "- 삭제한 결과를 변수명에 재대입 해줘야 결과값이 저장된다"
   ]
  },
  {
   "cell_type": "code",
   "execution_count": null,
   "id": "64274041",
   "metadata": {},
   "outputs": [],
   "source": [
    "# df.drop('삭제할 인덱스명') => 행 삭제..\n",
    "\n",
    "# df.drop('부산')\n",
    "\n",
    "# inplace : 변경값을 저장할 때 사용 -제자리에, ~할 준비가 되어있는 \n",
    "# inplace = True : 변경값을 저장하겠다\n",
    "#                 False : 변경값을 저장하지 않겠다 ( 기본값)\n",
    "\n",
    "# df.drop('부산', inplace = True)\n",
    "df"
   ]
  },
  {
   "cell_type": "code",
   "execution_count": null,
   "id": "2fa2f7ac",
   "metadata": {},
   "outputs": [],
   "source": [
    "# 2005년도 열 데이터 삭제\n",
    "# drop() 메소드 axis 기본값은 0 : 행방향\n",
    "# 열방향으로 삭제하고 싶을 때는 축 설정을 해주어야 한다 (axis = 1)\n",
    "\n",
    "df.drop('2005', axis = 1)"
   ]
  },
  {
   "cell_type": "markdown",
   "id": "9562e481",
   "metadata": {},
   "source": [
    "#### 수정"
   ]
  },
  {
   "cell_type": "code",
   "execution_count": null,
   "id": "0643c97e",
   "metadata": {},
   "outputs": [],
   "source": [
    "# 컬럼 이름 수정하기\n",
    "# rename(columns = { '수정하고 싶은 데이터': '수정할 데이터'}) \n",
    "\n",
    "df.rename(columns= { '2010': '2000' }, inplace = True) # 값을 저장하고 싶다면 inplace = True 설정해준다"
   ]
  },
  {
   "cell_type": "code",
   "execution_count": null,
   "id": "5edded8c",
   "metadata": {},
   "outputs": [],
   "source": [
    "# 인덱스 이름 변경하기\n",
    "\n",
    "# rename(index = { '수정하고 싶은 데이터': '수정할 데이터'}) \n",
    "\n",
    "df.rename(index= { '광주': '대전' }, inplace = True)\n",
    "df"
   ]
  },
  {
   "cell_type": "code",
   "execution_count": null,
   "id": "5e10f8b2",
   "metadata": {},
   "outputs": [],
   "source": [
    "data3 = {'2020' : [9668465,3391946,2942828,1450062],\n",
    "                 '2010' : [10312545,3567910,2758296,1454636],\n",
    "                 '2005' : [9762546,3512547,2517680,1456016]}\n",
    "\n",
    "# DataFrame 생성과 동시에 인덱스 지정\n",
    "df3 = pd.DataFrame(data3, index = ['서울','부산','인천','광주'])\n",
    "df3"
   ]
  },
  {
   "cell_type": "code",
   "execution_count": null,
   "id": "781832b5",
   "metadata": {},
   "outputs": [],
   "source": [
    "# dataframe은 슬라이싱 -> 행, 인덱싱 -> 열 기준"
   ]
  },
  {
   "cell_type": "code",
   "execution_count": null,
   "id": "e1eef6f5",
   "metadata": {},
   "outputs": [],
   "source": [
    "# 행 슬라이싱\n",
    "# 0~2행 슬라이싱\n",
    "df3[0:3]"
   ]
  },
  {
   "cell_type": "code",
   "execution_count": null,
   "id": "d5f2df98",
   "metadata": {},
   "outputs": [],
   "source": [
    "# 인덱스 명칭으로 슬라이싱\n",
    "df3['서울' : '인천']"
   ]
  },
  {
   "cell_type": "markdown",
   "id": "d4bb11b7",
   "metadata": {},
   "source": [
    "- df[] : 인덱싱은 column으로만 인덱싱 가능\n",
    "- df[ : ] : 슬라이싱은 index로만 슬라이싱 가능"
   ]
  },
  {
   "cell_type": "markdown",
   "id": "e1a02992",
   "metadata": {},
   "source": [
    "### 행과 열 단위로 인덱싱, 슬라이싱을 하는 인덱서\n",
    "\n",
    "#### loc/iloc 인덱서 \n",
    "- loc 인덱서 : 인덱스/컬럼명 사용해서 데이터 추출\n",
    "    df명.loc[] \n",
    "    \n",
    "- iloc인덱서 : 인덱스/컬럼 번호 사용해서 데이터 추출\n",
    "    df명.iloc[] <br>\n",
    "( * iloc : integer location)"
   ]
  },
  {
   "cell_type": "code",
   "execution_count": null,
   "id": "7b59b147",
   "metadata": {},
   "outputs": [],
   "source": [
    "df3.loc[ '서울': '부산' ]"
   ]
  },
  {
   "cell_type": "code",
   "execution_count": null,
   "id": "44f6b169",
   "metadata": {},
   "outputs": [],
   "source": [
    "# 부산~인천까지(행), 2020~2010(열) 데이터 슬라이싱 -> loc[]\n",
    "df3.loc['부산':'인천', '2020':'2010']"
   ]
  },
  {
   "cell_type": "code",
   "execution_count": null,
   "id": "0885351c",
   "metadata": {},
   "outputs": [],
   "source": [
    "# 인덱스/컬럼 번호 사용해서 슬라이싱 -> iloc[]\n",
    "# 부산~ 인천(행),  2010~2005(열)\n",
    "df3.iloc[1:3, 1:3]"
   ]
  },
  {
   "cell_type": "markdown",
   "id": "291902a1",
   "metadata": {},
   "source": [
    "### DataFrame 실습\n",
    "- 도시별 인구수 데이터\n",
    "- population.csv"
   ]
  },
  {
   "cell_type": "code",
   "execution_count": 76,
   "id": "c14f759c",
   "metadata": {},
   "outputs": [
    {
     "data": {
      "text/html": [
       "<div>\n",
       "<style scoped>\n",
       "    .dataframe tbody tr th:only-of-type {\n",
       "        vertical-align: middle;\n",
       "    }\n",
       "\n",
       "    .dataframe tbody tr th {\n",
       "        vertical-align: top;\n",
       "    }\n",
       "\n",
       "    .dataframe thead th {\n",
       "        text-align: right;\n",
       "    }\n",
       "</style>\n",
       "<table border=\"1\" class=\"dataframe\">\n",
       "  <thead>\n",
       "    <tr style=\"text-align: right;\">\n",
       "      <th></th>\n",
       "      <th>지역</th>\n",
       "      <th>2020</th>\n",
       "      <th>2015</th>\n",
       "      <th>2010</th>\n",
       "      <th>2005</th>\n",
       "    </tr>\n",
       "    <tr>\n",
       "      <th>도시</th>\n",
       "      <th></th>\n",
       "      <th></th>\n",
       "      <th></th>\n",
       "      <th></th>\n",
       "      <th></th>\n",
       "    </tr>\n",
       "  </thead>\n",
       "  <tbody>\n",
       "    <tr>\n",
       "      <th>서울</th>\n",
       "      <td>수도권</td>\n",
       "      <td>9668465</td>\n",
       "      <td>10022181.0</td>\n",
       "      <td>10312545.0</td>\n",
       "      <td>10167344</td>\n",
       "    </tr>\n",
       "    <tr>\n",
       "      <th>부산</th>\n",
       "      <td>경상권</td>\n",
       "      <td>3391946</td>\n",
       "      <td>NaN</td>\n",
       "      <td>NaN</td>\n",
       "      <td>3628293</td>\n",
       "    </tr>\n",
       "    <tr>\n",
       "      <th>인천</th>\n",
       "      <td>수도권</td>\n",
       "      <td>2942828</td>\n",
       "      <td>2925815.0</td>\n",
       "      <td>NaN</td>\n",
       "      <td>2600495</td>\n",
       "    </tr>\n",
       "    <tr>\n",
       "      <th>광주</th>\n",
       "      <td>전라권</td>\n",
       "      <td>1450062</td>\n",
       "      <td>1474636.0</td>\n",
       "      <td>1454636.0</td>\n",
       "      <td>1401745</td>\n",
       "    </tr>\n",
       "    <tr>\n",
       "      <th>대구</th>\n",
       "      <td>경상권</td>\n",
       "      <td>2418436</td>\n",
       "      <td>2466052.0</td>\n",
       "      <td>2431774.0</td>\n",
       "      <td>2456016</td>\n",
       "    </tr>\n",
       "  </tbody>\n",
       "</table>\n",
       "</div>"
      ],
      "text/plain": [
       "     지역     2020        2015        2010      2005\n",
       "도시                                                \n",
       "서울  수도권  9668465  10022181.0  10312545.0  10167344\n",
       "부산  경상권  3391946         NaN         NaN   3628293\n",
       "인천  수도권  2942828   2925815.0         NaN   2600495\n",
       "광주  전라권  1450062   1474636.0   1454636.0   1401745\n",
       "대구  경상권  2418436   2466052.0   2431774.0   2456016"
      ]
     },
     "execution_count": 76,
     "metadata": {},
     "output_type": "execute_result"
    }
   ],
   "source": [
    "# 데이터 불러오기\n",
    "pop = pd.read_csv('population.csv', index_col = '도시')\n",
    "pop"
   ]
  },
  {
   "cell_type": "markdown",
   "id": "7938c7e8",
   "metadata": {},
   "source": [
    "#### 데이터프레임 정렬"
   ]
  },
  {
   "cell_type": "code",
   "execution_count": null,
   "id": "7d5250bc",
   "metadata": {},
   "outputs": [],
   "source": [
    "# 인덱스 기준으로 정렬 : df명.sort_index()\n",
    "# 기본 오름차순 정렬(가나다/abc/1234)\n",
    "# 내림차순으로 변경 : ascending = False\n",
    "pop.sort_index(ascending=False)"
   ]
  },
  {
   "cell_type": "code",
   "execution_count": null,
   "id": "c5037734",
   "metadata": {},
   "outputs": [],
   "source": [
    "# 값을 기준으로 정렬하는 방법\n",
    "# df명.sort_values(by = '컬럼명')\n",
    "\n",
    "pop.sort_values(by = '2010')"
   ]
  },
  {
   "cell_type": "code",
   "execution_count": null,
   "id": "fdbb9e57",
   "metadata": {
    "scrolled": true
   },
   "outputs": [],
   "source": [
    "# 여러 컬럼을 통해 정렬 진행\n",
    "# 지역을 기준으로 정렬하고 그 다음에 2010년 정렬된다\n",
    "pop.sort_values(by = ['지역','2010']) # [선정렬, 후정렬]"
   ]
  },
  {
   "cell_type": "markdown",
   "id": "c3120d9e",
   "metadata": {},
   "source": [
    "### DataFrame 실습2\n",
    "- 반별 과목 점수 데이터"
   ]
  },
  {
   "cell_type": "code",
   "execution_count": 2,
   "id": "bc297d40",
   "metadata": {},
   "outputs": [
    {
     "data": {
      "text/html": [
       "<div>\n",
       "<style scoped>\n",
       "    .dataframe tbody tr th:only-of-type {\n",
       "        vertical-align: middle;\n",
       "    }\n",
       "\n",
       "    .dataframe tbody tr th {\n",
       "        vertical-align: top;\n",
       "    }\n",
       "\n",
       "    .dataframe thead th {\n",
       "        text-align: right;\n",
       "    }\n",
       "</style>\n",
       "<table border=\"1\" class=\"dataframe\">\n",
       "  <thead>\n",
       "    <tr style=\"text-align: right;\">\n",
       "      <th></th>\n",
       "      <th>1반</th>\n",
       "      <th>2반</th>\n",
       "      <th>3반</th>\n",
       "      <th>4반</th>\n",
       "    </tr>\n",
       "    <tr>\n",
       "      <th>과목</th>\n",
       "      <th></th>\n",
       "      <th></th>\n",
       "      <th></th>\n",
       "      <th></th>\n",
       "    </tr>\n",
       "  </thead>\n",
       "  <tbody>\n",
       "    <tr>\n",
       "      <th>파이썬</th>\n",
       "      <td>45</td>\n",
       "      <td>44</td>\n",
       "      <td>73</td>\n",
       "      <td>39</td>\n",
       "    </tr>\n",
       "    <tr>\n",
       "      <th>DB</th>\n",
       "      <td>76</td>\n",
       "      <td>92</td>\n",
       "      <td>45</td>\n",
       "      <td>69</td>\n",
       "    </tr>\n",
       "    <tr>\n",
       "      <th>자바</th>\n",
       "      <td>47</td>\n",
       "      <td>92</td>\n",
       "      <td>45</td>\n",
       "      <td>69</td>\n",
       "    </tr>\n",
       "    <tr>\n",
       "      <th>크롤링</th>\n",
       "      <td>92</td>\n",
       "      <td>81</td>\n",
       "      <td>85</td>\n",
       "      <td>40</td>\n",
       "    </tr>\n",
       "    <tr>\n",
       "      <th>Web</th>\n",
       "      <td>11</td>\n",
       "      <td>79</td>\n",
       "      <td>47</td>\n",
       "      <td>26</td>\n",
       "    </tr>\n",
       "  </tbody>\n",
       "</table>\n",
       "</div>"
      ],
      "text/plain": [
       "     1반  2반  3반  4반\n",
       "과목                 \n",
       "파이썬  45  44  73  39\n",
       "DB   76  92  45  69\n",
       "자바   47  92  45  69\n",
       "크롤링  92  81  85  40\n",
       "Web  11  79  47  26"
      ]
     },
     "execution_count": 2,
     "metadata": {},
     "output_type": "execute_result"
    }
   ],
   "source": [
    "# score 데이터 가져오기 (과목 컬럼을 인덱스로 설정)\n",
    "score = pd.read_csv('score.csv', encoding='euc_kr', index_col = '과목') #  encoding='cp949'\n",
    "score"
   ]
  },
  {
   "cell_type": "code",
   "execution_count": 3,
   "id": "1c471738",
   "metadata": {},
   "outputs": [
    {
     "data": {
      "text/plain": [
       "1반    271\n",
       "2반    388\n",
       "3반    295\n",
       "4반    243\n",
       "dtype: int64"
      ]
     },
     "execution_count": 3,
     "metadata": {},
     "output_type": "execute_result"
    }
   ],
   "source": [
    "# 반별 합계 구하기\n",
    "# sum()\n",
    "# axis = 0 (기본값) : 행끼리 더하기\n",
    "score.sum()"
   ]
  },
  {
   "cell_type": "code",
   "execution_count": 4,
   "id": "71769957",
   "metadata": {},
   "outputs": [
    {
     "data": {
      "text/plain": [
       "과목\n",
       "파이썬    201\n",
       "DB     282\n",
       "자바     253\n",
       "크롤링    298\n",
       "Web    163\n",
       "dtype: int64"
      ]
     },
     "execution_count": 4,
     "metadata": {},
     "output_type": "execute_result"
    }
   ],
   "source": [
    "# 과목별 합계 구하기\n",
    "# 열끼리 더하기\n",
    "# axis = 1\n",
    "\n",
    "score.sum(axis=1)"
   ]
  },
  {
   "cell_type": "code",
   "execution_count": null,
   "id": "6049ea04",
   "metadata": {},
   "outputs": [],
   "source": [
    "# 과목별 총합 데이터 score 변수에 추가 -> ' 합계' 컬럼 생성"
   ]
  },
  {
   "cell_type": "code",
   "execution_count": 5,
   "id": "9899e3e5",
   "metadata": {},
   "outputs": [
    {
     "data": {
      "text/html": [
       "<div>\n",
       "<style scoped>\n",
       "    .dataframe tbody tr th:only-of-type {\n",
       "        vertical-align: middle;\n",
       "    }\n",
       "\n",
       "    .dataframe tbody tr th {\n",
       "        vertical-align: top;\n",
       "    }\n",
       "\n",
       "    .dataframe thead th {\n",
       "        text-align: right;\n",
       "    }\n",
       "</style>\n",
       "<table border=\"1\" class=\"dataframe\">\n",
       "  <thead>\n",
       "    <tr style=\"text-align: right;\">\n",
       "      <th></th>\n",
       "      <th>1반</th>\n",
       "      <th>2반</th>\n",
       "      <th>3반</th>\n",
       "      <th>4반</th>\n",
       "      <th>합계</th>\n",
       "    </tr>\n",
       "    <tr>\n",
       "      <th>과목</th>\n",
       "      <th></th>\n",
       "      <th></th>\n",
       "      <th></th>\n",
       "      <th></th>\n",
       "      <th></th>\n",
       "    </tr>\n",
       "  </thead>\n",
       "  <tbody>\n",
       "    <tr>\n",
       "      <th>파이썬</th>\n",
       "      <td>45</td>\n",
       "      <td>44</td>\n",
       "      <td>73</td>\n",
       "      <td>39</td>\n",
       "      <td>201</td>\n",
       "    </tr>\n",
       "    <tr>\n",
       "      <th>DB</th>\n",
       "      <td>76</td>\n",
       "      <td>92</td>\n",
       "      <td>45</td>\n",
       "      <td>69</td>\n",
       "      <td>282</td>\n",
       "    </tr>\n",
       "    <tr>\n",
       "      <th>자바</th>\n",
       "      <td>47</td>\n",
       "      <td>92</td>\n",
       "      <td>45</td>\n",
       "      <td>69</td>\n",
       "      <td>253</td>\n",
       "    </tr>\n",
       "    <tr>\n",
       "      <th>크롤링</th>\n",
       "      <td>92</td>\n",
       "      <td>81</td>\n",
       "      <td>85</td>\n",
       "      <td>40</td>\n",
       "      <td>298</td>\n",
       "    </tr>\n",
       "    <tr>\n",
       "      <th>Web</th>\n",
       "      <td>11</td>\n",
       "      <td>79</td>\n",
       "      <td>47</td>\n",
       "      <td>26</td>\n",
       "      <td>163</td>\n",
       "    </tr>\n",
       "  </tbody>\n",
       "</table>\n",
       "</div>"
      ],
      "text/plain": [
       "     1반  2반  3반  4반   합계\n",
       "과목                      \n",
       "파이썬  45  44  73  39  201\n",
       "DB   76  92  45  69  282\n",
       "자바   47  92  45  69  253\n",
       "크롤링  92  81  85  40  298\n",
       "Web  11  79  47  26  163"
      ]
     },
     "execution_count": 5,
     "metadata": {},
     "output_type": "execute_result"
    }
   ],
   "source": [
    "score['합계'] = score.sum(axis=1)\n",
    "score"
   ]
  },
  {
   "cell_type": "code",
   "execution_count": 6,
   "id": "5dae01b4",
   "metadata": {},
   "outputs": [
    {
     "data": {
      "text/html": [
       "<div>\n",
       "<style scoped>\n",
       "    .dataframe tbody tr th:only-of-type {\n",
       "        vertical-align: middle;\n",
       "    }\n",
       "\n",
       "    .dataframe tbody tr th {\n",
       "        vertical-align: top;\n",
       "    }\n",
       "\n",
       "    .dataframe thead th {\n",
       "        text-align: right;\n",
       "    }\n",
       "</style>\n",
       "<table border=\"1\" class=\"dataframe\">\n",
       "  <thead>\n",
       "    <tr style=\"text-align: right;\">\n",
       "      <th></th>\n",
       "      <th>1반</th>\n",
       "      <th>2반</th>\n",
       "      <th>3반</th>\n",
       "      <th>4반</th>\n",
       "      <th>합계</th>\n",
       "      <th>평균</th>\n",
       "    </tr>\n",
       "    <tr>\n",
       "      <th>과목</th>\n",
       "      <th></th>\n",
       "      <th></th>\n",
       "      <th></th>\n",
       "      <th></th>\n",
       "      <th></th>\n",
       "      <th></th>\n",
       "    </tr>\n",
       "  </thead>\n",
       "  <tbody>\n",
       "    <tr>\n",
       "      <th>파이썬</th>\n",
       "      <td>45</td>\n",
       "      <td>44</td>\n",
       "      <td>73</td>\n",
       "      <td>39</td>\n",
       "      <td>201</td>\n",
       "      <td>80.4</td>\n",
       "    </tr>\n",
       "    <tr>\n",
       "      <th>DB</th>\n",
       "      <td>76</td>\n",
       "      <td>92</td>\n",
       "      <td>45</td>\n",
       "      <td>69</td>\n",
       "      <td>282</td>\n",
       "      <td>112.8</td>\n",
       "    </tr>\n",
       "    <tr>\n",
       "      <th>자바</th>\n",
       "      <td>47</td>\n",
       "      <td>92</td>\n",
       "      <td>45</td>\n",
       "      <td>69</td>\n",
       "      <td>253</td>\n",
       "      <td>101.2</td>\n",
       "    </tr>\n",
       "    <tr>\n",
       "      <th>크롤링</th>\n",
       "      <td>92</td>\n",
       "      <td>81</td>\n",
       "      <td>85</td>\n",
       "      <td>40</td>\n",
       "      <td>298</td>\n",
       "      <td>119.2</td>\n",
       "    </tr>\n",
       "    <tr>\n",
       "      <th>Web</th>\n",
       "      <td>11</td>\n",
       "      <td>79</td>\n",
       "      <td>47</td>\n",
       "      <td>26</td>\n",
       "      <td>163</td>\n",
       "      <td>65.2</td>\n",
       "    </tr>\n",
       "  </tbody>\n",
       "</table>\n",
       "</div>"
      ],
      "text/plain": [
       "     1반  2반  3반  4반   합계     평균\n",
       "과목                             \n",
       "파이썬  45  44  73  39  201   80.4\n",
       "DB   76  92  45  69  282  112.8\n",
       "자바   47  92  45  69  253  101.2\n",
       "크롤링  92  81  85  40  298  119.2\n",
       "Web  11  79  47  26  163   65.2"
      ]
     },
     "execution_count": 6,
     "metadata": {},
     "output_type": "execute_result"
    }
   ],
   "source": [
    "# 과목별 평균구하기\n",
    "# 평균 : mean()\n",
    "# 평균 컬럼 생성하기 (합계를 제외하고 계산되어야 함)\n",
    "score['평균'] = score.mean(axis=1)\n",
    "score"
   ]
  },
  {
   "cell_type": "code",
   "execution_count": 7,
   "id": "5ab2ac92",
   "metadata": {},
   "outputs": [],
   "source": [
    " score2 = score.iloc[0:, 0:4 ].mean(axis=1)"
   ]
  },
  {
   "cell_type": "code",
   "execution_count": 8,
   "id": "bc66e0e1",
   "metadata": {},
   "outputs": [
    {
     "data": {
      "text/html": [
       "<div>\n",
       "<style scoped>\n",
       "    .dataframe tbody tr th:only-of-type {\n",
       "        vertical-align: middle;\n",
       "    }\n",
       "\n",
       "    .dataframe tbody tr th {\n",
       "        vertical-align: top;\n",
       "    }\n",
       "\n",
       "    .dataframe thead th {\n",
       "        text-align: right;\n",
       "    }\n",
       "</style>\n",
       "<table border=\"1\" class=\"dataframe\">\n",
       "  <thead>\n",
       "    <tr style=\"text-align: right;\">\n",
       "      <th></th>\n",
       "      <th>1반</th>\n",
       "      <th>2반</th>\n",
       "      <th>3반</th>\n",
       "      <th>4반</th>\n",
       "      <th>합계</th>\n",
       "      <th>평균</th>\n",
       "    </tr>\n",
       "    <tr>\n",
       "      <th>과목</th>\n",
       "      <th></th>\n",
       "      <th></th>\n",
       "      <th></th>\n",
       "      <th></th>\n",
       "      <th></th>\n",
       "      <th></th>\n",
       "    </tr>\n",
       "  </thead>\n",
       "  <tbody>\n",
       "    <tr>\n",
       "      <th>파이썬</th>\n",
       "      <td>45</td>\n",
       "      <td>44</td>\n",
       "      <td>73</td>\n",
       "      <td>39</td>\n",
       "      <td>201</td>\n",
       "      <td>50.25</td>\n",
       "    </tr>\n",
       "    <tr>\n",
       "      <th>DB</th>\n",
       "      <td>76</td>\n",
       "      <td>92</td>\n",
       "      <td>45</td>\n",
       "      <td>69</td>\n",
       "      <td>282</td>\n",
       "      <td>70.50</td>\n",
       "    </tr>\n",
       "    <tr>\n",
       "      <th>자바</th>\n",
       "      <td>47</td>\n",
       "      <td>92</td>\n",
       "      <td>45</td>\n",
       "      <td>69</td>\n",
       "      <td>253</td>\n",
       "      <td>63.25</td>\n",
       "    </tr>\n",
       "    <tr>\n",
       "      <th>크롤링</th>\n",
       "      <td>92</td>\n",
       "      <td>81</td>\n",
       "      <td>85</td>\n",
       "      <td>40</td>\n",
       "      <td>298</td>\n",
       "      <td>74.50</td>\n",
       "    </tr>\n",
       "    <tr>\n",
       "      <th>Web</th>\n",
       "      <td>11</td>\n",
       "      <td>79</td>\n",
       "      <td>47</td>\n",
       "      <td>26</td>\n",
       "      <td>163</td>\n",
       "      <td>40.75</td>\n",
       "    </tr>\n",
       "  </tbody>\n",
       "</table>\n",
       "</div>"
      ],
      "text/plain": [
       "     1반  2반  3반  4반   합계     평균\n",
       "과목                             \n",
       "파이썬  45  44  73  39  201  50.25\n",
       "DB   76  92  45  69  282  70.50\n",
       "자바   47  92  45  69  253  63.25\n",
       "크롤링  92  81  85  40  298  74.50\n",
       "Web  11  79  47  26  163  40.75"
      ]
     },
     "execution_count": 8,
     "metadata": {},
     "output_type": "execute_result"
    }
   ],
   "source": [
    "score['평균'] = score2\n",
    "score"
   ]
  },
  {
   "cell_type": "code",
   "execution_count": 15,
   "id": "fc5ba716",
   "metadata": {},
   "outputs": [
    {
     "data": {
      "text/html": [
       "<div>\n",
       "<style scoped>\n",
       "    .dataframe tbody tr th:only-of-type {\n",
       "        vertical-align: middle;\n",
       "    }\n",
       "\n",
       "    .dataframe tbody tr th {\n",
       "        vertical-align: top;\n",
       "    }\n",
       "\n",
       "    .dataframe thead th {\n",
       "        text-align: right;\n",
       "    }\n",
       "</style>\n",
       "<table border=\"1\" class=\"dataframe\">\n",
       "  <thead>\n",
       "    <tr style=\"text-align: right;\">\n",
       "      <th></th>\n",
       "      <th>1반</th>\n",
       "      <th>2반</th>\n",
       "      <th>3반</th>\n",
       "      <th>4반</th>\n",
       "      <th>합계</th>\n",
       "      <th>평균</th>\n",
       "    </tr>\n",
       "    <tr>\n",
       "      <th>과목</th>\n",
       "      <th></th>\n",
       "      <th></th>\n",
       "      <th></th>\n",
       "      <th></th>\n",
       "      <th></th>\n",
       "      <th></th>\n",
       "    </tr>\n",
       "  </thead>\n",
       "  <tbody>\n",
       "    <tr>\n",
       "      <th>파이썬</th>\n",
       "      <td>45.0</td>\n",
       "      <td>44.0</td>\n",
       "      <td>73.0</td>\n",
       "      <td>39.0</td>\n",
       "      <td>201.0</td>\n",
       "      <td>50.25</td>\n",
       "    </tr>\n",
       "    <tr>\n",
       "      <th>DB</th>\n",
       "      <td>76.0</td>\n",
       "      <td>92.0</td>\n",
       "      <td>45.0</td>\n",
       "      <td>69.0</td>\n",
       "      <td>282.0</td>\n",
       "      <td>70.50</td>\n",
       "    </tr>\n",
       "    <tr>\n",
       "      <th>자바</th>\n",
       "      <td>47.0</td>\n",
       "      <td>92.0</td>\n",
       "      <td>45.0</td>\n",
       "      <td>69.0</td>\n",
       "      <td>253.0</td>\n",
       "      <td>63.25</td>\n",
       "    </tr>\n",
       "    <tr>\n",
       "      <th>크롤링</th>\n",
       "      <td>92.0</td>\n",
       "      <td>81.0</td>\n",
       "      <td>85.0</td>\n",
       "      <td>40.0</td>\n",
       "      <td>298.0</td>\n",
       "      <td>74.50</td>\n",
       "    </tr>\n",
       "    <tr>\n",
       "      <th>Web</th>\n",
       "      <td>11.0</td>\n",
       "      <td>79.0</td>\n",
       "      <td>47.0</td>\n",
       "      <td>26.0</td>\n",
       "      <td>163.0</td>\n",
       "      <td>40.75</td>\n",
       "    </tr>\n",
       "    <tr>\n",
       "      <th>반평균</th>\n",
       "      <td>54.2</td>\n",
       "      <td>77.6</td>\n",
       "      <td>59.0</td>\n",
       "      <td>48.6</td>\n",
       "      <td>239.4</td>\n",
       "      <td>59.85</td>\n",
       "    </tr>\n",
       "  </tbody>\n",
       "</table>\n",
       "</div>"
      ],
      "text/plain": [
       "       1반    2반    3반    4반     합계     평균\n",
       "과목                                       \n",
       "파이썬  45.0  44.0  73.0  39.0  201.0  50.25\n",
       "DB   76.0  92.0  45.0  69.0  282.0  70.50\n",
       "자바   47.0  92.0  45.0  69.0  253.0  63.25\n",
       "크롤링  92.0  81.0  85.0  40.0  298.0  74.50\n",
       "Web  11.0  79.0  47.0  26.0  163.0  40.75\n",
       "반평균  54.2  77.6  59.0  48.6  239.4  59.85"
      ]
     },
     "execution_count": 15,
     "metadata": {},
     "output_type": "execute_result"
    }
   ],
   "source": [
    "# 반별 평균 구하고 '반평균' 행추가\n",
    "score.loc['반평균']= score.iloc[0:, 0: ].mean()\n",
    "score"
   ]
  },
  {
   "cell_type": "code",
   "execution_count": 19,
   "id": "22989157",
   "metadata": {},
   "outputs": [
    {
     "name": "stdout",
     "output_type": "stream",
     "text": [
      "1반     92.0\n",
      "2반     92.0\n",
      "3반     85.0\n",
      "4반     69.0\n",
      "합계    298.0\n",
      "평균     74.5\n",
      "dtype: float64\n",
      "\n",
      "1반     11.00\n",
      "2반     44.00\n",
      "3반     45.00\n",
      "4반     26.00\n",
      "합계    163.00\n",
      "평균     40.75\n",
      "dtype: float64\n"
     ]
    }
   ],
   "source": [
    "# 반별 가장 높은/낮은 점수 구하기 \n",
    "# 가장 큰값 : max()\n",
    "# 가장 작은 값 : min()\n",
    "print(score.max())\n",
    "print(\"\")\n",
    "print(score.min())"
   ]
  },
  {
   "cell_type": "code",
   "execution_count": 20,
   "id": "e2d30e7f",
   "metadata": {},
   "outputs": [
    {
     "name": "stdout",
     "output_type": "stream",
     "text": [
      "과목\n",
      "파이썬    201.0\n",
      "DB     282.0\n",
      "자바     253.0\n",
      "크롤링    298.0\n",
      "Web    163.0\n",
      "반평균    239.4\n",
      "dtype: float64\n",
      "\n",
      "과목\n",
      "파이썬    39.0\n",
      "DB     45.0\n",
      "자바     45.0\n",
      "크롤링    40.0\n",
      "Web    11.0\n",
      "반평균    48.6\n",
      "dtype: float64\n"
     ]
    }
   ],
   "source": [
    "print(score.max(axis=1))\n",
    "print(\"\")\n",
    "print(score.min(axis=1))"
   ]
  },
  {
   "cell_type": "code",
   "execution_count": 32,
   "id": "3f7898d5",
   "metadata": {},
   "outputs": [
    {
     "data": {
      "text/plain": [
       "과목\n",
       "파이썬    39.0\n",
       "DB     45.0\n",
       "자바     45.0\n",
       "크롤링    40.0\n",
       "Web    11.0\n",
       "dtype: float64"
      ]
     },
     "execution_count": 32,
     "metadata": {},
     "output_type": "execute_result"
    }
   ],
   "source": [
    "# 합계, 반평균 등 알고싶지 않은 데이터까지 포함되어 있는 상태\n",
    "# 과목별 최대, 최소값만 구하기\n",
    "score_max=score.loc['파이썬':'Web', '1반':'4반'].max(axis=1)\n",
    "score_min=score.loc['파이썬':'Web', '1반':'4반'].min(axis=1)\n",
    "score_min"
   ]
  },
  {
   "cell_type": "code",
   "execution_count": 33,
   "id": "edd080a4",
   "metadata": {},
   "outputs": [
    {
     "name": "stdout",
     "output_type": "stream",
     "text": [
      "과목\n",
      "파이썬    34.0\n",
      "DB     47.0\n",
      "자바     47.0\n",
      "크롤링    52.0\n",
      "Web    68.0\n",
      "dtype: float64\n"
     ]
    }
   ],
   "source": [
    "# 과목별 최댓값/최솟값의 차이\n",
    "print(score_max-score_min)"
   ]
  },
  {
   "cell_type": "markdown",
   "id": "f4599fc8",
   "metadata": {},
   "source": [
    "### 카테고리 생성하기(범주)\n",
    "- 카테고리컬 데이터"
   ]
  },
  {
   "cell_type": "code",
   "execution_count": 40,
   "id": "55a1b87c",
   "metadata": {},
   "outputs": [
    {
     "name": "stdout",
     "output_type": "stream",
     "text": [
      "[NaN, '미성년자', '미성년자', '미성년자', '청년', ..., '청년', '청년', NaN, '중년', '노년']\n",
      "Length: 13\n",
      "Categories (4, object): ['미성년자' < '청년' < '중년' < '노년']\n"
     ]
    }
   ],
   "source": [
    "# 나이 데이터로 카테고리 생성하기\n",
    "\n",
    "# 1. 데이터 필요\n",
    "ages = [0,2,10,15,21,23,37,61,20,41,100,52,78]\n",
    "\n",
    "# 2. 범주(나눠줄 기준)\n",
    "bins = [0,19,47,60,99]\n",
    "\n",
    "# 구간\n",
    "# 초과 ~ 이하\n",
    "# 1~19 : 미성년자\n",
    "# 20~47 : 청년\n",
    "# 48~60 : 중년\n",
    "# 61-99 : 노년\n",
    "\n",
    "# 3. 카테고리 범주 명칭(이름)\n",
    "labels = [\"미성년자\", \"청년\", \"중년\", \"노년\"]\n",
    "\n",
    "cate = pd.cut(ages, bins, labels =labels)\n",
    "print(cate)"
   ]
  },
  {
   "cell_type": "markdown",
   "id": "1440f7db",
   "metadata": {},
   "source": [
    "1. 데이터의 카테고리화된 각각의 결과들 출력\n",
    "2. 데이터의 길이(개수)\n",
    "3. 범주의 개수"
   ]
  },
  {
   "cell_type": "code",
   "execution_count": 41,
   "id": "ddf1c5af",
   "metadata": {},
   "outputs": [
    {
     "data": {
      "text/plain": [
       "Index(['미성년자', '청년', '중년', '노년'], dtype='object')"
      ]
     },
     "execution_count": 41,
     "metadata": {},
     "output_type": "execute_result"
    }
   ],
   "source": [
    "# 카테고리만 보고 싶을 때\n",
    "# 변수명.categories\n",
    "cate.categories"
   ]
  },
  {
   "cell_type": "code",
   "execution_count": 47,
   "id": "3aa1c6eb",
   "metadata": {},
   "outputs": [
    {
     "data": {
      "text/html": [
       "<div>\n",
       "<style scoped>\n",
       "    .dataframe tbody tr th:only-of-type {\n",
       "        vertical-align: middle;\n",
       "    }\n",
       "\n",
       "    .dataframe tbody tr th {\n",
       "        vertical-align: top;\n",
       "    }\n",
       "\n",
       "    .dataframe thead th {\n",
       "        text-align: right;\n",
       "    }\n",
       "</style>\n",
       "<table border=\"1\" class=\"dataframe\">\n",
       "  <thead>\n",
       "    <tr style=\"text-align: right;\">\n",
       "      <th></th>\n",
       "      <th>나이</th>\n",
       "    </tr>\n",
       "  </thead>\n",
       "  <tbody>\n",
       "    <tr>\n",
       "      <th>0</th>\n",
       "      <td>0</td>\n",
       "    </tr>\n",
       "    <tr>\n",
       "      <th>1</th>\n",
       "      <td>2</td>\n",
       "    </tr>\n",
       "    <tr>\n",
       "      <th>2</th>\n",
       "      <td>10</td>\n",
       "    </tr>\n",
       "    <tr>\n",
       "      <th>3</th>\n",
       "      <td>15</td>\n",
       "    </tr>\n",
       "    <tr>\n",
       "      <th>4</th>\n",
       "      <td>21</td>\n",
       "    </tr>\n",
       "    <tr>\n",
       "      <th>5</th>\n",
       "      <td>23</td>\n",
       "    </tr>\n",
       "    <tr>\n",
       "      <th>6</th>\n",
       "      <td>37</td>\n",
       "    </tr>\n",
       "    <tr>\n",
       "      <th>7</th>\n",
       "      <td>61</td>\n",
       "    </tr>\n",
       "    <tr>\n",
       "      <th>8</th>\n",
       "      <td>20</td>\n",
       "    </tr>\n",
       "    <tr>\n",
       "      <th>9</th>\n",
       "      <td>41</td>\n",
       "    </tr>\n",
       "    <tr>\n",
       "      <th>10</th>\n",
       "      <td>100</td>\n",
       "    </tr>\n",
       "    <tr>\n",
       "      <th>11</th>\n",
       "      <td>52</td>\n",
       "    </tr>\n",
       "    <tr>\n",
       "      <th>12</th>\n",
       "      <td>78</td>\n",
       "    </tr>\n",
       "  </tbody>\n",
       "</table>\n",
       "</div>"
      ],
      "text/plain": [
       "     나이\n",
       "0     0\n",
       "1     2\n",
       "2    10\n",
       "3    15\n",
       "4    21\n",
       "5    23\n",
       "6    37\n",
       "7    61\n",
       "8    20\n",
       "9    41\n",
       "10  100\n",
       "11   52\n",
       "12   78"
      ]
     },
     "execution_count": 47,
     "metadata": {},
     "output_type": "execute_result"
    }
   ],
   "source": [
    "# ages 데이터를 DataFrame으로 생성/컬럼명 -> '나이'\n",
    "\n",
    "\n",
    "age_df = pd.DataFrame(ages, columns = ['나이'])\n",
    "age_df"
   ]
  },
  {
   "cell_type": "code",
   "execution_count": 48,
   "id": "06e82480",
   "metadata": {},
   "outputs": [
    {
     "data": {
      "text/html": [
       "<div>\n",
       "<style scoped>\n",
       "    .dataframe tbody tr th:only-of-type {\n",
       "        vertical-align: middle;\n",
       "    }\n",
       "\n",
       "    .dataframe tbody tr th {\n",
       "        vertical-align: top;\n",
       "    }\n",
       "\n",
       "    .dataframe thead th {\n",
       "        text-align: right;\n",
       "    }\n",
       "</style>\n",
       "<table border=\"1\" class=\"dataframe\">\n",
       "  <thead>\n",
       "    <tr style=\"text-align: right;\">\n",
       "      <th></th>\n",
       "      <th>나이</th>\n",
       "      <th>연령대</th>\n",
       "    </tr>\n",
       "  </thead>\n",
       "  <tbody>\n",
       "    <tr>\n",
       "      <th>0</th>\n",
       "      <td>0</td>\n",
       "      <td>NaN</td>\n",
       "    </tr>\n",
       "    <tr>\n",
       "      <th>1</th>\n",
       "      <td>2</td>\n",
       "      <td>미성년자</td>\n",
       "    </tr>\n",
       "    <tr>\n",
       "      <th>2</th>\n",
       "      <td>10</td>\n",
       "      <td>미성년자</td>\n",
       "    </tr>\n",
       "    <tr>\n",
       "      <th>3</th>\n",
       "      <td>15</td>\n",
       "      <td>미성년자</td>\n",
       "    </tr>\n",
       "    <tr>\n",
       "      <th>4</th>\n",
       "      <td>21</td>\n",
       "      <td>청년</td>\n",
       "    </tr>\n",
       "    <tr>\n",
       "      <th>5</th>\n",
       "      <td>23</td>\n",
       "      <td>청년</td>\n",
       "    </tr>\n",
       "    <tr>\n",
       "      <th>6</th>\n",
       "      <td>37</td>\n",
       "      <td>청년</td>\n",
       "    </tr>\n",
       "    <tr>\n",
       "      <th>7</th>\n",
       "      <td>61</td>\n",
       "      <td>노년</td>\n",
       "    </tr>\n",
       "    <tr>\n",
       "      <th>8</th>\n",
       "      <td>20</td>\n",
       "      <td>청년</td>\n",
       "    </tr>\n",
       "    <tr>\n",
       "      <th>9</th>\n",
       "      <td>41</td>\n",
       "      <td>청년</td>\n",
       "    </tr>\n",
       "    <tr>\n",
       "      <th>10</th>\n",
       "      <td>100</td>\n",
       "      <td>NaN</td>\n",
       "    </tr>\n",
       "    <tr>\n",
       "      <th>11</th>\n",
       "      <td>52</td>\n",
       "      <td>중년</td>\n",
       "    </tr>\n",
       "    <tr>\n",
       "      <th>12</th>\n",
       "      <td>78</td>\n",
       "      <td>노년</td>\n",
       "    </tr>\n",
       "  </tbody>\n",
       "</table>\n",
       "</div>"
      ],
      "text/plain": [
       "     나이   연령대\n",
       "0     0   NaN\n",
       "1     2  미성년자\n",
       "2    10  미성년자\n",
       "3    15  미성년자\n",
       "4    21    청년\n",
       "5    23    청년\n",
       "6    37    청년\n",
       "7    61    노년\n",
       "8    20    청년\n",
       "9    41    청년\n",
       "10  100   NaN\n",
       "11   52    중년\n",
       "12   78    노년"
      ]
     },
     "execution_count": 48,
     "metadata": {},
     "output_type": "execute_result"
    }
   ],
   "source": [
    "# age_df에 '연령대' 컬럼 추가\n",
    "age_df['연령대'] = cate\n",
    "age_df"
   ]
  },
  {
   "cell_type": "code",
   "execution_count": 50,
   "id": "582f5be8",
   "metadata": {},
   "outputs": [
    {
     "data": {
      "text/plain": [
       "연령대\n",
       "청년      5\n",
       "미성년자    3\n",
       "노년      2\n",
       "중년      1\n",
       "Name: count, dtype: int64"
      ]
     },
     "execution_count": 50,
     "metadata": {},
     "output_type": "execute_result"
    }
   ],
   "source": [
    "# 연령대별 개수 확인\n",
    "# 세어주고싶은데이터.value_counts()\n",
    "age_df['연령대'].value_counts() #NaN 값 포함xx"
   ]
  },
  {
   "cell_type": "markdown",
   "id": "281a15b6",
   "metadata": {},
   "source": [
    "### 병합(데이터 합치기)\n",
    "1. merge() \n",
    "- 두 개의 DataFrame을 합칠 때 \"특정 컬럼\"을 기준으로 합치는 메소드\n",
    "- \"병합\"이라는 뜻을 가짐"
   ]
  },
  {
   "cell_type": "code",
   "execution_count": 51,
   "id": "59aac1c1",
   "metadata": {},
   "outputs": [],
   "source": [
    "# 사람 정보 데이터 생성\n",
    "data1 = {\n",
    "    '이름': ['홍길동','이순신','신사임당'],\n",
    "    '나이': ['23','55','48'],\n",
    "    '성별':['남','남','여']\n",
    "}\n",
    "\n",
    "# 영화를 보고 매긴 평점 정보\n",
    "data2 = {\n",
    "    '이름': ['홍길동','홍길동','홍길동','신사임당','장보고'],\n",
    "    '영화': ['터미네이터','비긴어게인','살인의추억','비긴어게인','살인의추억'],\n",
    "    '평점':['5','2','4','5','3']\n",
    "}"
   ]
  },
  {
   "cell_type": "code",
   "execution_count": 53,
   "id": "e73debb6",
   "metadata": {},
   "outputs": [
    {
     "data": {
      "text/html": [
       "<div>\n",
       "<style scoped>\n",
       "    .dataframe tbody tr th:only-of-type {\n",
       "        vertical-align: middle;\n",
       "    }\n",
       "\n",
       "    .dataframe tbody tr th {\n",
       "        vertical-align: top;\n",
       "    }\n",
       "\n",
       "    .dataframe thead th {\n",
       "        text-align: right;\n",
       "    }\n",
       "</style>\n",
       "<table border=\"1\" class=\"dataframe\">\n",
       "  <thead>\n",
       "    <tr style=\"text-align: right;\">\n",
       "      <th></th>\n",
       "      <th>이름</th>\n",
       "      <th>나이</th>\n",
       "      <th>성별</th>\n",
       "    </tr>\n",
       "  </thead>\n",
       "  <tbody>\n",
       "    <tr>\n",
       "      <th>0</th>\n",
       "      <td>홍길동</td>\n",
       "      <td>23</td>\n",
       "      <td>남</td>\n",
       "    </tr>\n",
       "    <tr>\n",
       "      <th>1</th>\n",
       "      <td>이순신</td>\n",
       "      <td>55</td>\n",
       "      <td>남</td>\n",
       "    </tr>\n",
       "    <tr>\n",
       "      <th>2</th>\n",
       "      <td>신사임당</td>\n",
       "      <td>48</td>\n",
       "      <td>여</td>\n",
       "    </tr>\n",
       "  </tbody>\n",
       "</table>\n",
       "</div>"
      ],
      "text/plain": [
       "     이름  나이 성별\n",
       "0   홍길동  23  남\n",
       "1   이순신  55  남\n",
       "2  신사임당  48  여"
      ]
     },
     "execution_count": 53,
     "metadata": {},
     "output_type": "execute_result"
    }
   ],
   "source": [
    "H_info = pd.DataFrame(data1)\n",
    "H_info"
   ]
  },
  {
   "cell_type": "code",
   "execution_count": 55,
   "id": "7b761910",
   "metadata": {},
   "outputs": [
    {
     "data": {
      "text/html": [
       "<div>\n",
       "<style scoped>\n",
       "    .dataframe tbody tr th:only-of-type {\n",
       "        vertical-align: middle;\n",
       "    }\n",
       "\n",
       "    .dataframe tbody tr th {\n",
       "        vertical-align: top;\n",
       "    }\n",
       "\n",
       "    .dataframe thead th {\n",
       "        text-align: right;\n",
       "    }\n",
       "</style>\n",
       "<table border=\"1\" class=\"dataframe\">\n",
       "  <thead>\n",
       "    <tr style=\"text-align: right;\">\n",
       "      <th></th>\n",
       "      <th>이름</th>\n",
       "      <th>영화</th>\n",
       "      <th>평점</th>\n",
       "    </tr>\n",
       "  </thead>\n",
       "  <tbody>\n",
       "    <tr>\n",
       "      <th>0</th>\n",
       "      <td>홍길동</td>\n",
       "      <td>터미네이터</td>\n",
       "      <td>5</td>\n",
       "    </tr>\n",
       "    <tr>\n",
       "      <th>1</th>\n",
       "      <td>홍길동</td>\n",
       "      <td>비긴어게인</td>\n",
       "      <td>2</td>\n",
       "    </tr>\n",
       "    <tr>\n",
       "      <th>2</th>\n",
       "      <td>홍길동</td>\n",
       "      <td>살인의추억</td>\n",
       "      <td>4</td>\n",
       "    </tr>\n",
       "    <tr>\n",
       "      <th>3</th>\n",
       "      <td>신사임당</td>\n",
       "      <td>비긴어게인</td>\n",
       "      <td>5</td>\n",
       "    </tr>\n",
       "    <tr>\n",
       "      <th>4</th>\n",
       "      <td>장보고</td>\n",
       "      <td>살인의추억</td>\n",
       "      <td>3</td>\n",
       "    </tr>\n",
       "  </tbody>\n",
       "</table>\n",
       "</div>"
      ],
      "text/plain": [
       "     이름     영화 평점\n",
       "0   홍길동  터미네이터  5\n",
       "1   홍길동  비긴어게인  2\n",
       "2   홍길동  살인의추억  4\n",
       "3  신사임당  비긴어게인  5\n",
       "4   장보고  살인의추억  3"
      ]
     },
     "execution_count": 55,
     "metadata": {},
     "output_type": "execute_result"
    }
   ],
   "source": [
    "R_info = pd.DataFrame(data2)\n",
    "R_info"
   ]
  },
  {
   "attachments": {
    "image.png": {
     "image/png": "[encoded data removed]"
    }
   },
   "cell_type": "markdown",
   "id": "06ed62e9",
   "metadata": {},
   "source": [
    "![image.png](attachment:image.png)"
   ]
  },
  {
   "cell_type": "code",
   "execution_count": 59,
   "id": "9f4e1d56",
   "metadata": {},
   "outputs": [
    {
     "data": {
      "text/html": [
       "<div>\n",
       "<style scoped>\n",
       "    .dataframe tbody tr th:only-of-type {\n",
       "        vertical-align: middle;\n",
       "    }\n",
       "\n",
       "    .dataframe tbody tr th {\n",
       "        vertical-align: top;\n",
       "    }\n",
       "\n",
       "    .dataframe thead th {\n",
       "        text-align: right;\n",
       "    }\n",
       "</style>\n",
       "<table border=\"1\" class=\"dataframe\">\n",
       "  <thead>\n",
       "    <tr style=\"text-align: right;\">\n",
       "      <th></th>\n",
       "      <th>이름</th>\n",
       "      <th>나이</th>\n",
       "      <th>성별</th>\n",
       "      <th>영화</th>\n",
       "      <th>평점</th>\n",
       "    </tr>\n",
       "  </thead>\n",
       "  <tbody>\n",
       "    <tr>\n",
       "      <th>0</th>\n",
       "      <td>홍길동</td>\n",
       "      <td>23</td>\n",
       "      <td>남</td>\n",
       "      <td>터미네이터</td>\n",
       "      <td>5</td>\n",
       "    </tr>\n",
       "    <tr>\n",
       "      <th>1</th>\n",
       "      <td>홍길동</td>\n",
       "      <td>23</td>\n",
       "      <td>남</td>\n",
       "      <td>비긴어게인</td>\n",
       "      <td>2</td>\n",
       "    </tr>\n",
       "    <tr>\n",
       "      <th>2</th>\n",
       "      <td>홍길동</td>\n",
       "      <td>23</td>\n",
       "      <td>남</td>\n",
       "      <td>살인의추억</td>\n",
       "      <td>4</td>\n",
       "    </tr>\n",
       "    <tr>\n",
       "      <th>3</th>\n",
       "      <td>신사임당</td>\n",
       "      <td>48</td>\n",
       "      <td>여</td>\n",
       "      <td>비긴어게인</td>\n",
       "      <td>5</td>\n",
       "    </tr>\n",
       "  </tbody>\n",
       "</table>\n",
       "</div>"
      ],
      "text/plain": [
       "     이름  나이 성별     영화 평점\n",
       "0   홍길동  23  남  터미네이터  5\n",
       "1   홍길동  23  남  비긴어게인  2\n",
       "2   홍길동  23  남  살인의추억  4\n",
       "3  신사임당  48  여  비긴어게인  5"
      ]
     },
     "execution_count": 59,
     "metadata": {},
     "output_type": "execute_result"
    }
   ],
   "source": [
    "pd.merge(H_info, R_info, on = '이름', how = 'inner') # 교집합...\n",
    "# merge(왼쪽 테이블, 오른쪽 테이블, on=\"기준컬럼명\", how=\"방식\")"
   ]
  },
  {
   "cell_type": "code",
   "execution_count": 58,
   "id": "1104bf90",
   "metadata": {},
   "outputs": [
    {
     "data": {
      "text/html": [
       "<div>\n",
       "<style scoped>\n",
       "    .dataframe tbody tr th:only-of-type {\n",
       "        vertical-align: middle;\n",
       "    }\n",
       "\n",
       "    .dataframe tbody tr th {\n",
       "        vertical-align: top;\n",
       "    }\n",
       "\n",
       "    .dataframe thead th {\n",
       "        text-align: right;\n",
       "    }\n",
       "</style>\n",
       "<table border=\"1\" class=\"dataframe\">\n",
       "  <thead>\n",
       "    <tr style=\"text-align: right;\">\n",
       "      <th></th>\n",
       "      <th>이름</th>\n",
       "      <th>나이</th>\n",
       "      <th>성별</th>\n",
       "      <th>영화</th>\n",
       "      <th>평점</th>\n",
       "    </tr>\n",
       "  </thead>\n",
       "  <tbody>\n",
       "    <tr>\n",
       "      <th>0</th>\n",
       "      <td>홍길동</td>\n",
       "      <td>23</td>\n",
       "      <td>남</td>\n",
       "      <td>터미네이터</td>\n",
       "      <td>5</td>\n",
       "    </tr>\n",
       "    <tr>\n",
       "      <th>1</th>\n",
       "      <td>홍길동</td>\n",
       "      <td>23</td>\n",
       "      <td>남</td>\n",
       "      <td>비긴어게인</td>\n",
       "      <td>2</td>\n",
       "    </tr>\n",
       "    <tr>\n",
       "      <th>2</th>\n",
       "      <td>홍길동</td>\n",
       "      <td>23</td>\n",
       "      <td>남</td>\n",
       "      <td>살인의추억</td>\n",
       "      <td>4</td>\n",
       "    </tr>\n",
       "    <tr>\n",
       "      <th>3</th>\n",
       "      <td>이순신</td>\n",
       "      <td>55</td>\n",
       "      <td>남</td>\n",
       "      <td>NaN</td>\n",
       "      <td>NaN</td>\n",
       "    </tr>\n",
       "    <tr>\n",
       "      <th>4</th>\n",
       "      <td>신사임당</td>\n",
       "      <td>48</td>\n",
       "      <td>여</td>\n",
       "      <td>비긴어게인</td>\n",
       "      <td>5</td>\n",
       "    </tr>\n",
       "  </tbody>\n",
       "</table>\n",
       "</div>"
      ],
      "text/plain": [
       "     이름  나이 성별     영화   평점\n",
       "0   홍길동  23  남  터미네이터    5\n",
       "1   홍길동  23  남  비긴어게인    2\n",
       "2   홍길동  23  남  살인의추억    4\n",
       "3   이순신  55  남    NaN  NaN\n",
       "4  신사임당  48  여  비긴어게인    5"
      ]
     },
     "execution_count": 58,
     "metadata": {},
     "output_type": "execute_result"
    }
   ],
   "source": [
    "pd.merge(H_info, R_info, on = '이름', how = 'left')"
   ]
  },
  {
   "cell_type": "code",
   "execution_count": 60,
   "id": "8ff32fd3",
   "metadata": {},
   "outputs": [
    {
     "data": {
      "text/html": [
       "<div>\n",
       "<style scoped>\n",
       "    .dataframe tbody tr th:only-of-type {\n",
       "        vertical-align: middle;\n",
       "    }\n",
       "\n",
       "    .dataframe tbody tr th {\n",
       "        vertical-align: top;\n",
       "    }\n",
       "\n",
       "    .dataframe thead th {\n",
       "        text-align: right;\n",
       "    }\n",
       "</style>\n",
       "<table border=\"1\" class=\"dataframe\">\n",
       "  <thead>\n",
       "    <tr style=\"text-align: right;\">\n",
       "      <th></th>\n",
       "      <th>이름</th>\n",
       "      <th>나이</th>\n",
       "      <th>성별</th>\n",
       "      <th>영화</th>\n",
       "      <th>평점</th>\n",
       "    </tr>\n",
       "  </thead>\n",
       "  <tbody>\n",
       "    <tr>\n",
       "      <th>0</th>\n",
       "      <td>홍길동</td>\n",
       "      <td>23</td>\n",
       "      <td>남</td>\n",
       "      <td>터미네이터</td>\n",
       "      <td>5</td>\n",
       "    </tr>\n",
       "    <tr>\n",
       "      <th>1</th>\n",
       "      <td>홍길동</td>\n",
       "      <td>23</td>\n",
       "      <td>남</td>\n",
       "      <td>비긴어게인</td>\n",
       "      <td>2</td>\n",
       "    </tr>\n",
       "    <tr>\n",
       "      <th>2</th>\n",
       "      <td>홍길동</td>\n",
       "      <td>23</td>\n",
       "      <td>남</td>\n",
       "      <td>살인의추억</td>\n",
       "      <td>4</td>\n",
       "    </tr>\n",
       "    <tr>\n",
       "      <th>3</th>\n",
       "      <td>이순신</td>\n",
       "      <td>55</td>\n",
       "      <td>남</td>\n",
       "      <td>NaN</td>\n",
       "      <td>NaN</td>\n",
       "    </tr>\n",
       "    <tr>\n",
       "      <th>4</th>\n",
       "      <td>신사임당</td>\n",
       "      <td>48</td>\n",
       "      <td>여</td>\n",
       "      <td>비긴어게인</td>\n",
       "      <td>5</td>\n",
       "    </tr>\n",
       "    <tr>\n",
       "      <th>5</th>\n",
       "      <td>장보고</td>\n",
       "      <td>NaN</td>\n",
       "      <td>NaN</td>\n",
       "      <td>살인의추억</td>\n",
       "      <td>3</td>\n",
       "    </tr>\n",
       "  </tbody>\n",
       "</table>\n",
       "</div>"
      ],
      "text/plain": [
       "     이름   나이   성별     영화   평점\n",
       "0   홍길동   23    남  터미네이터    5\n",
       "1   홍길동   23    남  비긴어게인    2\n",
       "2   홍길동   23    남  살인의추억    4\n",
       "3   이순신   55    남    NaN  NaN\n",
       "4  신사임당   48    여  비긴어게인    5\n",
       "5   장보고  NaN  NaN  살인의추억    3"
      ]
     },
     "execution_count": 60,
     "metadata": {},
     "output_type": "execute_result"
    }
   ],
   "source": [
    "pd.merge(H_info, R_info, on = '이름', how = 'outer') # 합집합..."
   ]
  },
  {
   "cell_type": "markdown",
   "id": "99681eb3",
   "metadata": {},
   "source": [
    "### Concat()\n",
    "- 두 개의 DataFrame을 합칠 때 사용 \"축의 방향\" 기준으로 병합하는 메소드\n",
    "- \"이어붙이다\"라는 뜻을 가짐"
   ]
  },
  {
   "cell_type": "code",
   "execution_count": 61,
   "id": "498071a2",
   "metadata": {},
   "outputs": [],
   "source": [
    "df1 = pd.DataFrame({'A':['A0','A1','A2','A3'],\n",
    "                   'B':['B0','B1','B2','B3'],\n",
    "                   'C':['C0','C1','C2','C3']},\n",
    "                            index = [0,1,2,3])\n",
    "\n",
    "df2 = pd.DataFrame({'A':['A4','A5','A6','A7'],\n",
    "                                        'B':['B4','B5','B6','B7'],\n",
    "                                        'C':['C4','C5','C6','C7']},\n",
    "                                                      index= [4,5,6,7])\n",
    "\n",
    "df3 = pd.DataFrame({'A':['A8','A9','A10','A11'],\n",
    "                                        'B':['B8','B9','B10','B11'],\n",
    "                                        'C':['C8','C9','C10','C11']},\n",
    "                                                      index= [8,9,10,11])"
   ]
  },
  {
   "cell_type": "code",
   "execution_count": 65,
   "id": "7b18968b",
   "metadata": {},
   "outputs": [
    {
     "data": {
      "text/html": [
       "<div>\n",
       "<style scoped>\n",
       "    .dataframe tbody tr th:only-of-type {\n",
       "        vertical-align: middle;\n",
       "    }\n",
       "\n",
       "    .dataframe tbody tr th {\n",
       "        vertical-align: top;\n",
       "    }\n",
       "\n",
       "    .dataframe thead th {\n",
       "        text-align: right;\n",
       "    }\n",
       "</style>\n",
       "<table border=\"1\" class=\"dataframe\">\n",
       "  <thead>\n",
       "    <tr style=\"text-align: right;\">\n",
       "      <th></th>\n",
       "      <th>A</th>\n",
       "      <th>B</th>\n",
       "      <th>C</th>\n",
       "    </tr>\n",
       "  </thead>\n",
       "  <tbody>\n",
       "    <tr>\n",
       "      <th>0</th>\n",
       "      <td>A0</td>\n",
       "      <td>B0</td>\n",
       "      <td>C0</td>\n",
       "    </tr>\n",
       "    <tr>\n",
       "      <th>1</th>\n",
       "      <td>A1</td>\n",
       "      <td>B1</td>\n",
       "      <td>C1</td>\n",
       "    </tr>\n",
       "    <tr>\n",
       "      <th>2</th>\n",
       "      <td>A2</td>\n",
       "      <td>B2</td>\n",
       "      <td>C2</td>\n",
       "    </tr>\n",
       "    <tr>\n",
       "      <th>3</th>\n",
       "      <td>A3</td>\n",
       "      <td>B3</td>\n",
       "      <td>C3</td>\n",
       "    </tr>\n",
       "  </tbody>\n",
       "</table>\n",
       "</div>"
      ],
      "text/plain": [
       "    A   B   C\n",
       "0  A0  B0  C0\n",
       "1  A1  B1  C1\n",
       "2  A2  B2  C2\n",
       "3  A3  B3  C3"
      ]
     },
     "execution_count": 65,
     "metadata": {},
     "output_type": "execute_result"
    }
   ],
   "source": [
    "df1"
   ]
  },
  {
   "cell_type": "code",
   "execution_count": 66,
   "id": "4fa37255",
   "metadata": {},
   "outputs": [
    {
     "data": {
      "text/html": [
       "<div>\n",
       "<style scoped>\n",
       "    .dataframe tbody tr th:only-of-type {\n",
       "        vertical-align: middle;\n",
       "    }\n",
       "\n",
       "    .dataframe tbody tr th {\n",
       "        vertical-align: top;\n",
       "    }\n",
       "\n",
       "    .dataframe thead th {\n",
       "        text-align: right;\n",
       "    }\n",
       "</style>\n",
       "<table border=\"1\" class=\"dataframe\">\n",
       "  <thead>\n",
       "    <tr style=\"text-align: right;\">\n",
       "      <th></th>\n",
       "      <th>A</th>\n",
       "      <th>B</th>\n",
       "      <th>C</th>\n",
       "    </tr>\n",
       "  </thead>\n",
       "  <tbody>\n",
       "    <tr>\n",
       "      <th>4</th>\n",
       "      <td>A4</td>\n",
       "      <td>B4</td>\n",
       "      <td>C4</td>\n",
       "    </tr>\n",
       "    <tr>\n",
       "      <th>5</th>\n",
       "      <td>A5</td>\n",
       "      <td>B5</td>\n",
       "      <td>C5</td>\n",
       "    </tr>\n",
       "    <tr>\n",
       "      <th>6</th>\n",
       "      <td>A6</td>\n",
       "      <td>B6</td>\n",
       "      <td>C6</td>\n",
       "    </tr>\n",
       "    <tr>\n",
       "      <th>7</th>\n",
       "      <td>A7</td>\n",
       "      <td>B7</td>\n",
       "      <td>C7</td>\n",
       "    </tr>\n",
       "  </tbody>\n",
       "</table>\n",
       "</div>"
      ],
      "text/plain": [
       "    A   B   C\n",
       "4  A4  B4  C4\n",
       "5  A5  B5  C5\n",
       "6  A6  B6  C6\n",
       "7  A7  B7  C7"
      ]
     },
     "execution_count": 66,
     "metadata": {},
     "output_type": "execute_result"
    }
   ],
   "source": [
    "df2"
   ]
  },
  {
   "cell_type": "code",
   "execution_count": 67,
   "id": "b686f32d",
   "metadata": {},
   "outputs": [
    {
     "data": {
      "text/html": [
       "<div>\n",
       "<style scoped>\n",
       "    .dataframe tbody tr th:only-of-type {\n",
       "        vertical-align: middle;\n",
       "    }\n",
       "\n",
       "    .dataframe tbody tr th {\n",
       "        vertical-align: top;\n",
       "    }\n",
       "\n",
       "    .dataframe thead th {\n",
       "        text-align: right;\n",
       "    }\n",
       "</style>\n",
       "<table border=\"1\" class=\"dataframe\">\n",
       "  <thead>\n",
       "    <tr style=\"text-align: right;\">\n",
       "      <th></th>\n",
       "      <th>A</th>\n",
       "      <th>B</th>\n",
       "      <th>C</th>\n",
       "    </tr>\n",
       "  </thead>\n",
       "  <tbody>\n",
       "    <tr>\n",
       "      <th>8</th>\n",
       "      <td>A8</td>\n",
       "      <td>B8</td>\n",
       "      <td>C8</td>\n",
       "    </tr>\n",
       "    <tr>\n",
       "      <th>9</th>\n",
       "      <td>A9</td>\n",
       "      <td>B9</td>\n",
       "      <td>C9</td>\n",
       "    </tr>\n",
       "    <tr>\n",
       "      <th>10</th>\n",
       "      <td>A10</td>\n",
       "      <td>B10</td>\n",
       "      <td>C10</td>\n",
       "    </tr>\n",
       "    <tr>\n",
       "      <th>11</th>\n",
       "      <td>A11</td>\n",
       "      <td>B11</td>\n",
       "      <td>C11</td>\n",
       "    </tr>\n",
       "  </tbody>\n",
       "</table>\n",
       "</div>"
      ],
      "text/plain": [
       "      A    B    C\n",
       "8    A8   B8   C8\n",
       "9    A9   B9   C9\n",
       "10  A10  B10  C10\n",
       "11  A11  B11  C11"
      ]
     },
     "execution_count": 67,
     "metadata": {},
     "output_type": "execute_result"
    }
   ],
   "source": [
    "df3"
   ]
  },
  {
   "cell_type": "code",
   "execution_count": 71,
   "id": "2a0dc34a",
   "metadata": {},
   "outputs": [
    {
     "data": {
      "text/html": [
       "<div>\n",
       "<style scoped>\n",
       "    .dataframe tbody tr th:only-of-type {\n",
       "        vertical-align: middle;\n",
       "    }\n",
       "\n",
       "    .dataframe tbody tr th {\n",
       "        vertical-align: top;\n",
       "    }\n",
       "\n",
       "    .dataframe thead th {\n",
       "        text-align: right;\n",
       "    }\n",
       "</style>\n",
       "<table border=\"1\" class=\"dataframe\">\n",
       "  <thead>\n",
       "    <tr style=\"text-align: right;\">\n",
       "      <th></th>\n",
       "      <th>A</th>\n",
       "      <th>B</th>\n",
       "      <th>C</th>\n",
       "    </tr>\n",
       "  </thead>\n",
       "  <tbody>\n",
       "    <tr>\n",
       "      <th>0</th>\n",
       "      <td>A0</td>\n",
       "      <td>B0</td>\n",
       "      <td>C0</td>\n",
       "    </tr>\n",
       "    <tr>\n",
       "      <th>1</th>\n",
       "      <td>A1</td>\n",
       "      <td>B1</td>\n",
       "      <td>C1</td>\n",
       "    </tr>\n",
       "    <tr>\n",
       "      <th>2</th>\n",
       "      <td>A2</td>\n",
       "      <td>B2</td>\n",
       "      <td>C2</td>\n",
       "    </tr>\n",
       "    <tr>\n",
       "      <th>3</th>\n",
       "      <td>A3</td>\n",
       "      <td>B3</td>\n",
       "      <td>C3</td>\n",
       "    </tr>\n",
       "    <tr>\n",
       "      <th>4</th>\n",
       "      <td>A4</td>\n",
       "      <td>B4</td>\n",
       "      <td>C4</td>\n",
       "    </tr>\n",
       "    <tr>\n",
       "      <th>5</th>\n",
       "      <td>A5</td>\n",
       "      <td>B5</td>\n",
       "      <td>C5</td>\n",
       "    </tr>\n",
       "    <tr>\n",
       "      <th>6</th>\n",
       "      <td>A6</td>\n",
       "      <td>B6</td>\n",
       "      <td>C6</td>\n",
       "    </tr>\n",
       "    <tr>\n",
       "      <th>7</th>\n",
       "      <td>A7</td>\n",
       "      <td>B7</td>\n",
       "      <td>C7</td>\n",
       "    </tr>\n",
       "    <tr>\n",
       "      <th>8</th>\n",
       "      <td>A8</td>\n",
       "      <td>B8</td>\n",
       "      <td>C8</td>\n",
       "    </tr>\n",
       "    <tr>\n",
       "      <th>9</th>\n",
       "      <td>A9</td>\n",
       "      <td>B9</td>\n",
       "      <td>C9</td>\n",
       "    </tr>\n",
       "    <tr>\n",
       "      <th>10</th>\n",
       "      <td>A10</td>\n",
       "      <td>B10</td>\n",
       "      <td>C10</td>\n",
       "    </tr>\n",
       "    <tr>\n",
       "      <th>11</th>\n",
       "      <td>A11</td>\n",
       "      <td>B11</td>\n",
       "      <td>C11</td>\n",
       "    </tr>\n",
       "  </tbody>\n",
       "</table>\n",
       "</div>"
      ],
      "text/plain": [
       "      A    B    C\n",
       "0    A0   B0   C0\n",
       "1    A1   B1   C1\n",
       "2    A2   B2   C2\n",
       "3    A3   B3   C3\n",
       "4    A4   B4   C4\n",
       "5    A5   B5   C5\n",
       "6    A6   B6   C6\n",
       "7    A7   B7   C7\n",
       "8    A8   B8   C8\n",
       "9    A9   B9   C9\n",
       "10  A10  B10  C10\n",
       "11  A11  B11  C11"
      ]
     },
     "execution_count": 71,
     "metadata": {},
     "output_type": "execute_result"
    }
   ],
   "source": [
    "# concat()을 사용해서 DataFrame 병합\n",
    "# df1, df2, df3 병합하기\n",
    "# 컬럼명이 동일하면 겹쳐서 출력\n",
    "\n",
    "pd.concat([df1, df2, df3])"
   ]
  },
  {
   "cell_type": "code",
   "execution_count": 72,
   "id": "9e22fa8b",
   "metadata": {},
   "outputs": [
    {
     "data": {
      "text/html": [
       "<div>\n",
       "<style scoped>\n",
       "    .dataframe tbody tr th:only-of-type {\n",
       "        vertical-align: middle;\n",
       "    }\n",
       "\n",
       "    .dataframe tbody tr th {\n",
       "        vertical-align: top;\n",
       "    }\n",
       "\n",
       "    .dataframe thead th {\n",
       "        text-align: right;\n",
       "    }\n",
       "</style>\n",
       "<table border=\"1\" class=\"dataframe\">\n",
       "  <thead>\n",
       "    <tr style=\"text-align: right;\">\n",
       "      <th></th>\n",
       "      <th>A</th>\n",
       "      <th>B</th>\n",
       "      <th>C</th>\n",
       "      <th>A</th>\n",
       "      <th>B</th>\n",
       "      <th>C</th>\n",
       "      <th>A</th>\n",
       "      <th>B</th>\n",
       "      <th>C</th>\n",
       "    </tr>\n",
       "  </thead>\n",
       "  <tbody>\n",
       "    <tr>\n",
       "      <th>0</th>\n",
       "      <td>A0</td>\n",
       "      <td>B0</td>\n",
       "      <td>C0</td>\n",
       "      <td>NaN</td>\n",
       "      <td>NaN</td>\n",
       "      <td>NaN</td>\n",
       "      <td>NaN</td>\n",
       "      <td>NaN</td>\n",
       "      <td>NaN</td>\n",
       "    </tr>\n",
       "    <tr>\n",
       "      <th>1</th>\n",
       "      <td>A1</td>\n",
       "      <td>B1</td>\n",
       "      <td>C1</td>\n",
       "      <td>NaN</td>\n",
       "      <td>NaN</td>\n",
       "      <td>NaN</td>\n",
       "      <td>NaN</td>\n",
       "      <td>NaN</td>\n",
       "      <td>NaN</td>\n",
       "    </tr>\n",
       "    <tr>\n",
       "      <th>2</th>\n",
       "      <td>A2</td>\n",
       "      <td>B2</td>\n",
       "      <td>C2</td>\n",
       "      <td>NaN</td>\n",
       "      <td>NaN</td>\n",
       "      <td>NaN</td>\n",
       "      <td>NaN</td>\n",
       "      <td>NaN</td>\n",
       "      <td>NaN</td>\n",
       "    </tr>\n",
       "    <tr>\n",
       "      <th>3</th>\n",
       "      <td>A3</td>\n",
       "      <td>B3</td>\n",
       "      <td>C3</td>\n",
       "      <td>NaN</td>\n",
       "      <td>NaN</td>\n",
       "      <td>NaN</td>\n",
       "      <td>NaN</td>\n",
       "      <td>NaN</td>\n",
       "      <td>NaN</td>\n",
       "    </tr>\n",
       "    <tr>\n",
       "      <th>4</th>\n",
       "      <td>NaN</td>\n",
       "      <td>NaN</td>\n",
       "      <td>NaN</td>\n",
       "      <td>A4</td>\n",
       "      <td>B4</td>\n",
       "      <td>C4</td>\n",
       "      <td>NaN</td>\n",
       "      <td>NaN</td>\n",
       "      <td>NaN</td>\n",
       "    </tr>\n",
       "    <tr>\n",
       "      <th>5</th>\n",
       "      <td>NaN</td>\n",
       "      <td>NaN</td>\n",
       "      <td>NaN</td>\n",
       "      <td>A5</td>\n",
       "      <td>B5</td>\n",
       "      <td>C5</td>\n",
       "      <td>NaN</td>\n",
       "      <td>NaN</td>\n",
       "      <td>NaN</td>\n",
       "    </tr>\n",
       "    <tr>\n",
       "      <th>6</th>\n",
       "      <td>NaN</td>\n",
       "      <td>NaN</td>\n",
       "      <td>NaN</td>\n",
       "      <td>A6</td>\n",
       "      <td>B6</td>\n",
       "      <td>C6</td>\n",
       "      <td>NaN</td>\n",
       "      <td>NaN</td>\n",
       "      <td>NaN</td>\n",
       "    </tr>\n",
       "    <tr>\n",
       "      <th>7</th>\n",
       "      <td>NaN</td>\n",
       "      <td>NaN</td>\n",
       "      <td>NaN</td>\n",
       "      <td>A7</td>\n",
       "      <td>B7</td>\n",
       "      <td>C7</td>\n",
       "      <td>NaN</td>\n",
       "      <td>NaN</td>\n",
       "      <td>NaN</td>\n",
       "    </tr>\n",
       "    <tr>\n",
       "      <th>8</th>\n",
       "      <td>NaN</td>\n",
       "      <td>NaN</td>\n",
       "      <td>NaN</td>\n",
       "      <td>NaN</td>\n",
       "      <td>NaN</td>\n",
       "      <td>NaN</td>\n",
       "      <td>A8</td>\n",
       "      <td>B8</td>\n",
       "      <td>C8</td>\n",
       "    </tr>\n",
       "    <tr>\n",
       "      <th>9</th>\n",
       "      <td>NaN</td>\n",
       "      <td>NaN</td>\n",
       "      <td>NaN</td>\n",
       "      <td>NaN</td>\n",
       "      <td>NaN</td>\n",
       "      <td>NaN</td>\n",
       "      <td>A9</td>\n",
       "      <td>B9</td>\n",
       "      <td>C9</td>\n",
       "    </tr>\n",
       "    <tr>\n",
       "      <th>10</th>\n",
       "      <td>NaN</td>\n",
       "      <td>NaN</td>\n",
       "      <td>NaN</td>\n",
       "      <td>NaN</td>\n",
       "      <td>NaN</td>\n",
       "      <td>NaN</td>\n",
       "      <td>A10</td>\n",
       "      <td>B10</td>\n",
       "      <td>C10</td>\n",
       "    </tr>\n",
       "    <tr>\n",
       "      <th>11</th>\n",
       "      <td>NaN</td>\n",
       "      <td>NaN</td>\n",
       "      <td>NaN</td>\n",
       "      <td>NaN</td>\n",
       "      <td>NaN</td>\n",
       "      <td>NaN</td>\n",
       "      <td>A11</td>\n",
       "      <td>B11</td>\n",
       "      <td>C11</td>\n",
       "    </tr>\n",
       "  </tbody>\n",
       "</table>\n",
       "</div>"
      ],
      "text/plain": [
       "      A    B    C    A    B    C    A    B    C\n",
       "0    A0   B0   C0  NaN  NaN  NaN  NaN  NaN  NaN\n",
       "1    A1   B1   C1  NaN  NaN  NaN  NaN  NaN  NaN\n",
       "2    A2   B2   C2  NaN  NaN  NaN  NaN  NaN  NaN\n",
       "3    A3   B3   C3  NaN  NaN  NaN  NaN  NaN  NaN\n",
       "4   NaN  NaN  NaN   A4   B4   C4  NaN  NaN  NaN\n",
       "5   NaN  NaN  NaN   A5   B5   C5  NaN  NaN  NaN\n",
       "6   NaN  NaN  NaN   A6   B6   C6  NaN  NaN  NaN\n",
       "7   NaN  NaN  NaN   A7   B7   C7  NaN  NaN  NaN\n",
       "8   NaN  NaN  NaN  NaN  NaN  NaN   A8   B8   C8\n",
       "9   NaN  NaN  NaN  NaN  NaN  NaN   A9   B9   C9\n",
       "10  NaN  NaN  NaN  NaN  NaN  NaN  A10  B10  C10\n",
       "11  NaN  NaN  NaN  NaN  NaN  NaN  A11  B11  C11"
      ]
     },
     "execution_count": 72,
     "metadata": {},
     "output_type": "execute_result"
    }
   ],
   "source": [
    "# 행 방향으로 병합 : axis = 0 (기본값) (책을 쌓아가는 개념)\n",
    "# 열 방향으로 병합 : axis= 1 (책을 꽂는 개념)\n",
    "pd.concat([df1, df2, df3], axis = 1)\n"
   ]
  },
  {
   "cell_type": "code",
   "execution_count": 73,
   "id": "b273b3c5",
   "metadata": {},
   "outputs": [
    {
     "data": {
      "text/html": [
       "<div>\n",
       "<style scoped>\n",
       "    .dataframe tbody tr th:only-of-type {\n",
       "        vertical-align: middle;\n",
       "    }\n",
       "\n",
       "    .dataframe tbody tr th {\n",
       "        vertical-align: top;\n",
       "    }\n",
       "\n",
       "    .dataframe thead th {\n",
       "        text-align: right;\n",
       "    }\n",
       "</style>\n",
       "<table border=\"1\" class=\"dataframe\">\n",
       "  <thead>\n",
       "    <tr style=\"text-align: right;\">\n",
       "      <th></th>\n",
       "      <th>B</th>\n",
       "      <th>D</th>\n",
       "      <th>F</th>\n",
       "    </tr>\n",
       "  </thead>\n",
       "  <tbody>\n",
       "    <tr>\n",
       "      <th>2</th>\n",
       "      <td>B2</td>\n",
       "      <td>D2</td>\n",
       "      <td>F2</td>\n",
       "    </tr>\n",
       "    <tr>\n",
       "      <th>3</th>\n",
       "      <td>B3</td>\n",
       "      <td>D3</td>\n",
       "      <td>F3</td>\n",
       "    </tr>\n",
       "    <tr>\n",
       "      <th>6</th>\n",
       "      <td>B6</td>\n",
       "      <td>D6</td>\n",
       "      <td>F6</td>\n",
       "    </tr>\n",
       "    <tr>\n",
       "      <th>7</th>\n",
       "      <td>B7</td>\n",
       "      <td>D7</td>\n",
       "      <td>F7</td>\n",
       "    </tr>\n",
       "  </tbody>\n",
       "</table>\n",
       "</div>"
      ],
      "text/plain": [
       "    B   D   F\n",
       "2  B2  D2  F2\n",
       "3  B3  D3  F3\n",
       "6  B6  D6  F6\n",
       "7  B7  D7  F7"
      ]
     },
     "execution_count": 73,
     "metadata": {},
     "output_type": "execute_result"
    }
   ],
   "source": [
    "df4 = pd.DataFrame({'B':['B2','B3','B6','B7'],\n",
    "                                        'D':['D2','D3','D6','D7'],\n",
    "                                        'F':['F2','F3','F6','F7']},\n",
    "                                                   index = [2,3,6,7])\n",
    "df4"
   ]
  },
  {
   "cell_type": "code",
   "execution_count": 75,
   "id": "526a8de3",
   "metadata": {},
   "outputs": [
    {
     "data": {
      "text/html": [
       "<div>\n",
       "<style scoped>\n",
       "    .dataframe tbody tr th:only-of-type {\n",
       "        vertical-align: middle;\n",
       "    }\n",
       "\n",
       "    .dataframe tbody tr th {\n",
       "        vertical-align: top;\n",
       "    }\n",
       "\n",
       "    .dataframe thead th {\n",
       "        text-align: right;\n",
       "    }\n",
       "</style>\n",
       "<table border=\"1\" class=\"dataframe\">\n",
       "  <thead>\n",
       "    <tr style=\"text-align: right;\">\n",
       "      <th></th>\n",
       "      <th>A</th>\n",
       "      <th>B</th>\n",
       "      <th>C</th>\n",
       "      <th>B</th>\n",
       "      <th>D</th>\n",
       "      <th>F</th>\n",
       "    </tr>\n",
       "  </thead>\n",
       "  <tbody>\n",
       "    <tr>\n",
       "      <th>0</th>\n",
       "      <td>A0</td>\n",
       "      <td>B0</td>\n",
       "      <td>C0</td>\n",
       "      <td>NaN</td>\n",
       "      <td>NaN</td>\n",
       "      <td>NaN</td>\n",
       "    </tr>\n",
       "    <tr>\n",
       "      <th>1</th>\n",
       "      <td>A1</td>\n",
       "      <td>B1</td>\n",
       "      <td>C1</td>\n",
       "      <td>NaN</td>\n",
       "      <td>NaN</td>\n",
       "      <td>NaN</td>\n",
       "    </tr>\n",
       "    <tr>\n",
       "      <th>2</th>\n",
       "      <td>A2</td>\n",
       "      <td>B2</td>\n",
       "      <td>C2</td>\n",
       "      <td>B2</td>\n",
       "      <td>D2</td>\n",
       "      <td>F2</td>\n",
       "    </tr>\n",
       "    <tr>\n",
       "      <th>3</th>\n",
       "      <td>A3</td>\n",
       "      <td>B3</td>\n",
       "      <td>C3</td>\n",
       "      <td>B3</td>\n",
       "      <td>D3</td>\n",
       "      <td>F3</td>\n",
       "    </tr>\n",
       "    <tr>\n",
       "      <th>6</th>\n",
       "      <td>NaN</td>\n",
       "      <td>NaN</td>\n",
       "      <td>NaN</td>\n",
       "      <td>B6</td>\n",
       "      <td>D6</td>\n",
       "      <td>F6</td>\n",
       "    </tr>\n",
       "    <tr>\n",
       "      <th>7</th>\n",
       "      <td>NaN</td>\n",
       "      <td>NaN</td>\n",
       "      <td>NaN</td>\n",
       "      <td>B7</td>\n",
       "      <td>D7</td>\n",
       "      <td>F7</td>\n",
       "    </tr>\n",
       "  </tbody>\n",
       "</table>\n",
       "</div>"
      ],
      "text/plain": [
       "     A    B    C    B    D    F\n",
       "0   A0   B0   C0  NaN  NaN  NaN\n",
       "1   A1   B1   C1  NaN  NaN  NaN\n",
       "2   A2   B2   C2   B2   D2   F2\n",
       "3   A3   B3   C3   B3   D3   F3\n",
       "6  NaN  NaN  NaN   B6   D6   F6\n",
       "7  NaN  NaN  NaN   B7   D7   F7"
      ]
     },
     "execution_count": 75,
     "metadata": {},
     "output_type": "execute_result"
    }
   ],
   "source": [
    "# 열끼리 병합하기(df1, df4)\n",
    "# 같은 인덱스명은 겹쳐서 출력\n",
    "\n",
    "pd.concat([df1, df4], axis=1)"
   ]
  }
 ],
 "metadata": {
  "kernelspec": {
   "display_name": "Python 3 (ipykernel)",
   "language": "python",
   "name": "python3"
  },
  "language_info": {
   "codemirror_mode": {
    "name": "ipython",
    "version": 3
   },
   "file_extension": ".py",
   "mimetype": "text/x-python",
   "name": "python",
   "nbconvert_exporter": "python",
   "pygments_lexer": "ipython3",
   "version": "3.11.5"
  }
 },
 "nbformat": 4,
 "nbformat_minor": 5
}
