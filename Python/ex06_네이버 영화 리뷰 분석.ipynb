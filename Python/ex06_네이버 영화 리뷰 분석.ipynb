{
 "cells": [
  {
   "cell_type": "markdown",
   "id": "b45bb137",
   "metadata": {},
   "source": [
    "### pickle 라이브러리를 활용한 for문 예제"
   ]
  },
  {
   "cell_type": "markdown",
   "id": "923fd592",
   "metadata": {},
   "source": [
    "##### pickle 라이브러리란?\n",
    "- 파이썬에서 제공하는 기본 모듈\n",
    "- 파이썬의 객체 형ㅌ를 그대로 유지하면서 파일을 저장하고 불러올 때 사용\n",
    "- 바이너리 형태로 저장 (0, 1 이진수로 구성)"
   ]
  },
  {
   "cell_type": "code",
   "execution_count": 2,
   "id": "9b46d1e6",
   "metadata": {},
   "outputs": [],
   "source": [
    "# pickle library 활용하여 데이터 로드\n",
    "import pickle\n",
    "\n",
    "# < open pickle file >\n",
    "# 'wb' : write binary 모드 (읽고 쓰기 가능)\n",
    "# 'rb' : read binary 모드 (읽기 가능)\n",
    "\n",
    "# with문을 활용해서 파일 불러와서 데이터 확인\n",
    "with open('movie_review.pkl', 'rb') as f:\n",
    "    movie = pickle.load(f)"
   ]
  },
  {
   "cell_type": "code",
   "execution_count": null,
   "id": "627753d7",
   "metadata": {},
   "outputs": [],
   "source": [
    "movie"
   ]
  },
  {
   "cell_type": "markdown",
   "id": "2dcb46ed",
   "metadata": {},
   "source": [
    "### Step!\n",
    "1. 전체 데이터의 개수 확인\n",
    "2. 리뷰만 출력\n",
    "3. 리뷰 길이 최대값 / 리뷰 내용\n",
    "4. 긍정리뷰 - 1 / 부정리뷰 - 0 개수 확인 "
   ]
  },
  {
   "cell_type": "code",
   "execution_count": null,
   "id": "fcd00c17",
   "metadata": {},
   "outputs": [],
   "source": [
    "# 전체 리뷰 데이터 개수 확인\n",
    "len(movie)"
   ]
  },
  {
   "cell_type": "code",
   "execution_count": null,
   "id": "caac04bc",
   "metadata": {},
   "outputs": [],
   "source": [
    "# 리뷰만 출력\n",
    "\n",
    "for k in movie:\n",
    "    print(k[0])    "
   ]
  },
  {
   "cell_type": "code",
   "execution_count": null,
   "id": "0c7e2049",
   "metadata": {},
   "outputs": [],
   "source": [
    "# 리뷰 길이 최댓값 리뷰의 내용\n",
    "#  1. 리뷰 최대 길이\n",
    "max_len = len(movie[0][0])\n",
    "\n",
    "# 2\n",
    "max_content = '' ##  내용을 담을 변수\n",
    "\n",
    "# 1\n",
    "for i in movie:\n",
    "    r_len = len(i[0]) ## 길이를 담을 변수 \n",
    "    \n",
    "    if r_len > max_len :\n",
    "        max_len = r_len \n",
    "        max_content = i\n",
    "print(f'리뷰의 최대 길이는 {max_len} 입니다')\n",
    "print(max_content[0])\n"
   ]
  },
  {
   "cell_type": "code",
   "execution_count": null,
   "id": "f7baee9e",
   "metadata": {},
   "outputs": [],
   "source": [
    "# 3-1 리뷰의 최솟값과 내용\n",
    "\n",
    "# 1. 리뷰 최소 길이 \n",
    "min_len = len(movie[0][0])\n",
    "min_content = \"\"\n",
    "\n",
    "for i in movie:\n",
    "    r_len = len(i[0]) ## 변수 생성하고 이용하는게 어려움.......\n",
    "    \n",
    "    if(min_len > r_len):\n",
    "        min_len = r_len\n",
    "        min_content = i\n",
    "print(f'리뷰의 최소 길이는 {min_len}입니다')\n",
    "print(min_content[0])"
   ]
  },
  {
   "cell_type": "code",
   "execution_count": null,
   "id": "33372a88",
   "metadata": {},
   "outputs": [],
   "source": [
    "# 4 postive = movie[0][1]\n",
    "neg_cnt = 0\n",
    "pos_cnt = 0\n",
    "\n",
    "# 긍정리뷰 - 1 / 부정리뷰 - 0\n",
    "for i in movie:\n",
    "    if i[1] == 0:\n",
    "        neg_cnt += 1\n",
    "    else:\n",
    "        pos_cnt += 1\n",
    "\n",
    "print(f'긍정리뷰 {pos_cnt}\\n부정리뷰 {neg_cnt}')\n",
    "        "
   ]
  },
  {
   "cell_type": "code",
   "execution_count": 5,
   "id": "1bff1513",
   "metadata": {},
   "outputs": [
    {
     "name": "stdout",
     "output_type": "stream",
     "text": [
      "검색할 데이터 입력 >> 와\n",
      "'와'가 포함된 리뷰는 234개 입니다.\n"
     ]
    }
   ],
   "source": [
    "# 5 특정 문자가 포함된 리뷰 개수\n",
    "cnt = 0\n",
    "s = input('검색할 데이터 입력 >> ')\n",
    "\n",
    "for i in movie:\n",
    "    if s in i[0]:\n",
    "        cnt += 1\n",
    "\n",
    "print(f'\\'{s}\\'가 포함된 리뷰는 {cnt}개 입니다.')"
   ]
  },
  {
   "cell_type": "code",
   "execution_count": 16,
   "id": "f93481fa",
   "metadata": {},
   "outputs": [
    {
     "name": "stdout",
     "output_type": "stream",
     "text": [
      "리뷰의 평균길이 : 35.4866\n"
     ]
    }
   ],
   "source": [
    "# 6 리뷰의 길이의 평균 값\n",
    "# 전체 리뷰 길이의 평균값 구하기\n",
    "# 평균 = 총 리뷰 길이 / 총 리뷰 개수 \n",
    "total = 0\n",
    "\n",
    "\n",
    "for i in movie:\n",
    "    total += len(i[0])\n",
    "\n",
    "print(f'리뷰의 평균길이 : {total / len(movie)}')"
   ]
  },
  {
   "cell_type": "code",
   "execution_count": null,
   "id": "681a3e0a",
   "metadata": {},
   "outputs": [],
   "source": []
  }
 ],
 "metadata": {
  "kernelspec": {
   "display_name": "Python 3 (ipykernel)",
   "language": "python",
   "name": "python3"
  },
  "language_info": {
   "codemirror_mode": {
    "name": "ipython",
    "version": 3
   },
   "file_extension": ".py",
   "mimetype": "text/x-python",
   "name": "python",
   "nbconvert_exporter": "python",
   "pygments_lexer": "ipython3",
   "version": "3.11.5"
  }
 },
 "nbformat": 4,
 "nbformat_minor": 5
}
