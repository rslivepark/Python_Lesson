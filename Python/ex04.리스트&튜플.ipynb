{
 "cells": [
  {
   "cell_type": "markdown",
   "id": "31fd6935",
   "metadata": {},
   "source": [
    "### 리스트(list)\n",
    "- 많은 양의 데이터를 관리할 때 사용 / 여러 개의 데이터를 하나로 묶어서 관리\n",
    "- 자료형의 구분없이 하나로 묶어줄 수 있음(배열과의 차이점)\n",
    "- 순서가 있다 == 인덱스 번호 존재한다 (0번부터 순차적으로 번호 부여)\n",
    "- 대괄호[]를 사용하여 생성되며, 리스트 내부 값은 콤마(,)로 구분\n",
    "- 추가, 수정, 삭제 only list 기능 튜플엔 없음 => 재대입필요한가???"
   ]
  },
  {
   "cell_type": "code",
   "execution_count": null,
   "id": "0135f08f",
   "metadata": {},
   "outputs": [],
   "source": [
    "# 리스트 생성하기\n",
    "list1 = [1,2,3,4,5]\n",
    "list1\n",
    "# 출력결과가 대괄호라면 리스트 자료구조라고 생각하면 됨 ㅇㅇ"
   ]
  },
  {
   "cell_type": "code",
   "execution_count": null,
   "id": "9ccd2d95",
   "metadata": {},
   "outputs": [],
   "source": [
    "# 데이터 타입 확인하기\n",
    "print(type(list1))"
   ]
  },
  {
   "cell_type": "code",
   "execution_count": null,
   "id": "d41686a6",
   "metadata": {},
   "outputs": [],
   "source": [
    "# 서로 다른 자료형도 묶을 수 있다\n",
    "list2 = ['경근', '종찬', 5, 6]\n",
    "list2"
   ]
  },
  {
   "cell_type": "code",
   "execution_count": null,
   "id": "57e543c4",
   "metadata": {},
   "outputs": [],
   "source": [
    "# 리스트 안에 또 다른 리스트 넣는 것도 가능\n",
    "list3 = ['현민', 5656, ['재현', '고봉', 222]]\n",
    "list3"
   ]
  },
  {
   "cell_type": "markdown",
   "id": "188374a2",
   "metadata": {},
   "source": [
    "### 리스트 인덱싱, 슬라이싱\n",
    "- 인덱싱 : 하나의 데이터를 인덱스번호를 통해서 가져오는 것\n",
    "- 슬라이싱 : 여러 개의 데이터를 가져올 때, 범위를 주어 자르는 개념"
   ]
  },
  {
   "cell_type": "code",
   "execution_count": null,
   "id": "286601fd",
   "metadata": {},
   "outputs": [],
   "source": [
    "food_list = ['짜장면', '샌드위치', '치킨', '떡볶이', ['김','치','찌','개']]"
   ]
  },
  {
   "cell_type": "code",
   "execution_count": null,
   "id": "7ab80013",
   "metadata": {},
   "outputs": [],
   "source": [
    "# 치킨출력\n",
    "# 인덱싱방법 : 리스트명[인덱스번호]\n",
    "food_list[2]\n"
   ]
  },
  {
   "cell_type": "code",
   "execution_count": null,
   "id": "c22aa4d6",
   "metadata": {},
   "outputs": [],
   "source": [
    "# ['김','치','찌','개'] 데이터 출력하기\n",
    "temp = food_list[4]\n",
    "temp"
   ]
  },
  {
   "cell_type": "code",
   "execution_count": null,
   "id": "bd2cd60e",
   "metadata": {},
   "outputs": [],
   "source": [
    "temp = food_list[4]"
   ]
  },
  {
   "cell_type": "code",
   "execution_count": null,
   "id": "a2ac225b",
   "metadata": {},
   "outputs": [],
   "source": [
    "# '치'라는 글자 가져오기\n",
    "# 1번 방법\n",
    "temp[1]\n",
    "# 2번 방법\n",
    "food_list[4][1]"
   ]
  },
  {
   "cell_type": "code",
   "execution_count": null,
   "id": "f5b4a7cd",
   "metadata": {},
   "outputs": [],
   "source": [
    "# 리스트 슬라이싱\n",
    "# 리스트명 [시작인덱스 : 끝인덱스+1]\n",
    "num_list = [0,1,2,3,4,5,6,7,8,9,10]"
   ]
  },
  {
   "cell_type": "code",
   "execution_count": null,
   "id": "d4ca4c2c",
   "metadata": {},
   "outputs": [],
   "source": [
    "# 1. 4,5,6 가져오기\n",
    "print(num_list[4:7])\n",
    "\n",
    "# 2. 0,1,2,3,4,5 가져오기\n",
    "print(num_list[0:6])\n",
    "\n",
    "# 3. 6,7,8,9,10 가져오기\n",
    "print(num_list[6:11]) # print(num_list[-5:])\n",
    "\n",
    "# 전체데이터\n",
    "print(num_list[:])"
   ]
  },
  {
   "cell_type": "code",
   "execution_count": null,
   "id": "402c7688",
   "metadata": {},
   "outputs": [],
   "source": [
    "# 리스트 더하기\n",
    "# 문자열 더하기와 같다 \n",
    "list4 = [1,2,3]\n",
    "list5 = [4,5,6]\n",
    "print(list4 + list5)"
   ]
  },
  {
   "cell_type": "code",
   "execution_count": null,
   "id": "7a800e41",
   "metadata": {},
   "outputs": [],
   "source": [
    "# 리스트 더하기(산술연산 수행)\n",
    "print(list4[0] + list5[0])\n",
    "print(list4[1] + list5[1])\n",
    "print(list4[2] + list5[2])"
   ]
  },
  {
   "cell_type": "code",
   "execution_count": null,
   "id": "a7a6ee8e",
   "metadata": {},
   "outputs": [],
   "source": [
    "# 리스트 반복하기(*)\n",
    "list4 = [1,2,3]\n",
    "list4 * 3"
   ]
  },
  {
   "cell_type": "markdown",
   "id": "e059319e",
   "metadata": {},
   "source": [
    "### 리스트 관련 함수"
   ]
  },
  {
   "cell_type": "markdown",
   "id": "e83bf692",
   "metadata": {},
   "source": [
    "### 1.리스트 값 추가(append)\n",
    "- 리스트의 맨 뒤에 값 추가\n",
    "- 리스트명.append(추가하고 싶은 값)"
   ]
  },
  {
   "cell_type": "code",
   "execution_count": null,
   "id": "28c5479d",
   "metadata": {},
   "outputs": [],
   "source": [
    "list5 = [0,1,2,3,4,5]\n",
    "list5"
   ]
  },
  {
   "cell_type": "code",
   "execution_count": null,
   "id": "947eea4d",
   "metadata": {},
   "outputs": [],
   "source": [
    "list5.append(6)\n",
    "print(list5) # 계속 입력하면 맨 뒤에 6이 계속 추가됨"
   ]
  },
  {
   "cell_type": "code",
   "execution_count": null,
   "id": "5566a77e",
   "metadata": {},
   "outputs": [],
   "source": [
    "# append 함수를 통해서 리스트 안에 리스트 넣기\n",
    "list5.append([1,2,3])\n",
    "print(list5)"
   ]
  },
  {
   "cell_type": "code",
   "execution_count": null,
   "id": "cc8f480e",
   "metadata": {},
   "outputs": [],
   "source": [
    "# 빈 리스트에 append 값 추가\n",
    "list1 = []"
   ]
  },
  {
   "cell_type": "code",
   "execution_count": null,
   "id": "ccb8a68a",
   "metadata": {},
   "outputs": [],
   "source": [
    "list1.append(3)"
   ]
  },
  {
   "cell_type": "code",
   "execution_count": null,
   "id": "3342cdf8",
   "metadata": {},
   "outputs": [],
   "source": [
    "# 1. f_list 생성\n",
    "f_list = ['사과', '포도', ['수박','멜론'], '복숭아', '딸기', '오렌지']\n",
    "\n",
    "# 2. '사과', '수박', '오렌지' 인덱싱 후 각각 변수에 담아주기\n",
    "apple = f_list[0]\n",
    "watermelon = f_list[2][0]\n",
    "orange = f_list[-1]\n",
    "\n",
    "# 3. choice_list라는 빈 리스트 만들기\n",
    "choice_list = []\n",
    "\n",
    "# 4. append 함수 활용해서 choic_list에 값 담아주기\n",
    "choice_list.append(apple)\n",
    "choice_list.append(watermelon)\n",
    "choice_list.append(orange)\n",
    "choice_list"
   ]
  },
  {
   "cell_type": "markdown",
   "id": "aed687b3",
   "metadata": {},
   "source": [
    "#### insert() 함수\n",
    "- 인덱스 위치에 값 추가 (원하는 위치에 원하는 값 추가)\n",
    "- 리스트명.insert(인덱스번호, 값)"
   ]
  },
  {
   "cell_type": "code",
   "execution_count": null,
   "id": "f20c23b8",
   "metadata": {},
   "outputs": [],
   "source": [
    "list6 = ['a', 'b', 'c']\n",
    "\n",
    "# 내가 넣고 싶은 값이 인덱스 번호에 들어가게 된다\n",
    "list6.insert(1 , 'A')\n",
    "list6"
   ]
  },
  {
   "cell_type": "code",
   "execution_count": null,
   "id": "314488c3",
   "metadata": {},
   "outputs": [],
   "source": [
    "# shift + -  셀 나누기\n",
    "# shift + m 셀 합치기"
   ]
  },
  {
   "cell_type": "code",
   "execution_count": null,
   "id": "f74d61ba",
   "metadata": {},
   "outputs": [],
   "source": [
    "music_list = [['Hype Boy', 'NewJeans'], ['LOVE DIVE', '아이브'], ['사건의 지평선', '윤하']]\n",
    "loc = int(input(\"인덱스 위치 입력 >> \"))\n",
    "song = input('노래 제목 입력 >> ')\n",
    "singer = input('가수 입력 >> ')\n",
    "\n",
    "\n",
    "music_list.insert(loc, [song, singer])\n",
    "print(music_list)\n"
   ]
  },
  {
   "cell_type": "code",
   "execution_count": null,
   "id": "fa66f43d",
   "metadata": {},
   "outputs": [],
   "source": [
    "# 1. 음악리스트 만들기\n",
    "music_list = [['Hype Boy', 'NewJeans'], ['LOVE DIVE', '아이브'], ['사건의 지평선', '윤하']]\n",
    "\n",
    "# 2. 노래와 가수가 들어가 위치값 입력받기\n",
    "loc = int(input(\"인덱스 위치 입력: \"))\n",
    "\n",
    "# 3. 노래제목 입력받기\n",
    "song = input(\"노래 제목 입력: \")\n",
    "\n",
    "# 4. 가수이름 입력받기\n",
    "singer = input(\"노래 제목 입력: \")\n",
    "\n",
    "# 5. insert 함수를 사용하여 해당위치에 노래, 가수 데이터 삽입\n",
    "music_list.insert(loc, [song, singer])\n",
    "print(music_list)\n",
    "\n"
   ]
  },
  {
   "cell_type": "markdown",
   "id": "17d8c258",
   "metadata": {},
   "source": [
    "### 리스트 값 수정하는 방법\n",
    "- 리스트명[수정하고 싶은 인덱스 번호] = 값"
   ]
  },
  {
   "cell_type": "code",
   "execution_count": null,
   "id": "b6ea4c50",
   "metadata": {},
   "outputs": [],
   "source": [
    "# 'A'라는 문자를 'ㄱ'으로 변경, 수정\n",
    "list6 = ['a', 'b', 'A', 'c']\n",
    "list6\n",
    "list6[2] = 'ㄱ'\n",
    "list6"
   ]
  },
  {
   "cell_type": "markdown",
   "id": "d6f92d36",
   "metadata": {},
   "source": [
    "### 리스트 값 삭제(del, remove)\n",
    "- del 리스트명[인덱스번호]\n",
    "- 리스트명.remove(값)\n",
    "- 두 개의 차이점은 del은 인덱스 번호를 통해서 삭제 <br>remove는 안에 있는 값을 통해서 삭제"
   ]
  },
  {
   "cell_type": "code",
   "execution_count": null,
   "id": "6cbdac81",
   "metadata": {},
   "outputs": [],
   "source": [
    "# del 리스트명[인덱스번호]\n",
    "del list6[1]\n",
    "list6"
   ]
  },
  {
   "cell_type": "code",
   "execution_count": null,
   "id": "91576032",
   "metadata": {},
   "outputs": [],
   "source": [
    "# 리스트명.remove(값)\n",
    "list6.remove('ㄱ')\n",
    "list6"
   ]
  },
  {
   "cell_type": "markdown",
   "id": "64f618d1",
   "metadata": {},
   "source": [
    "### 정렬"
   ]
  },
  {
   "cell_type": "code",
   "execution_count": null,
   "id": "f8969265",
   "metadata": {},
   "outputs": [],
   "source": [
    "list7 = [2, 45, 2, 12, 400, 12, 66, 89]\n",
    "\n",
    "# 정렬하는 방법\n",
    "# 리스트명.sort() -> 오름차순 정렬이 기본\n",
    "list7.sort()\n",
    "list7"
   ]
  },
  {
   "cell_type": "code",
   "execution_count": null,
   "id": "1e7889c7",
   "metadata": {},
   "outputs": [],
   "source": [
    "list7 = [2, 45, 2, 12, 400, 12, 66, 89]\n",
    "# reverse -> 현재 값들의 위치를 뒤집어서 보여준다\n",
    "list7.reverse()\n",
    "list7"
   ]
  },
  {
   "cell_type": "code",
   "execution_count": null,
   "id": "28357a92",
   "metadata": {},
   "outputs": [],
   "source": [
    "# 내림차순 정렬은 sort로 정렬한 뒤 reverse로 뒤집어준다\n",
    "list7 = [2, 45, 2, 12, 400, 12, 66, 89]\n",
    "list7.sort()\n",
    "list7.reverse()\n",
    "list7"
   ]
  },
  {
   "cell_type": "markdown",
   "id": "35fbf418",
   "metadata": {},
   "source": [
    "### 기타함수들\n",
    "- index(값) : 데이터(값)의 위치값(인덱스번호)를 알려준다\n",
    "- pop() : 리스트의 가장 마지막 값을 보여주고 제거\n",
    "- len() : 리스트의 길이(요소 개수)를 알려주는 함수"
   ]
  },
  {
   "cell_type": "code",
   "execution_count": null,
   "id": "45e5a537",
   "metadata": {
    "scrolled": true
   },
   "outputs": [],
   "source": [
    "# 리스트명.index(값) : 내가 원하는 데이터(값)의 위치를 알려주는 기능\n",
    "list8 = ['준혁', '영주','임규', '고봉']\n",
    "list8.index('임규')"
   ]
  },
  {
   "cell_type": "code",
   "execution_count": null,
   "id": "6cb3e94e",
   "metadata": {},
   "outputs": [],
   "source": [
    "# 리스트명.pop() : 리스트의 가장 마지막 값을 출력 후 제거\n",
    "list8.pop()"
   ]
  },
  {
   "cell_type": "code",
   "execution_count": null,
   "id": "06d77df3",
   "metadata": {},
   "outputs": [],
   "source": [
    "# len() : 리스트 내의 요소 개수를 확인\n",
    "len(list8)"
   ]
  },
  {
   "cell_type": "markdown",
   "id": "d482f4f4",
   "metadata": {},
   "source": [
    "### 튜플\n",
    "- 파이썬 자료구조 중 하나\n",
    "- 순서가 있는 집합 (인덱싱, 슬라이싱 가능)\n",
    "- <b>소괄호()</b> 사용해서 생성\n",
    "- 추가, 수정, 삭제 불가능\n",
    "- 주민등록번호, 아이디 저장..."
   ]
  },
  {
   "cell_type": "code",
   "execution_count": null,
   "id": "a134cd79",
   "metadata": {},
   "outputs": [],
   "source": [
    "tuple1 = (1,2,3,('경근', '종찬'), 4, 5, 6)\n",
    "tuple1"
   ]
  },
  {
   "cell_type": "code",
   "execution_count": null,
   "id": "c088d737",
   "metadata": {},
   "outputs": [],
   "source": [
    "# 추가, 수정, 삭제 불가능\n",
    "# tuple1[2] = 5"
   ]
  },
  {
   "cell_type": "markdown",
   "id": "0d4ad933",
   "metadata": {},
   "source": [
    "### 리스트, 튜플에서 사용되는 in, not in 연산자\n",
    "- in : 찾고자 하는 값이 포함되어 있으면 True 출력\n",
    "- not in : 찾고자 하는 값이 포함되어 있지 않으면 True 출력"
   ]
  },
  {
   "cell_type": "code",
   "execution_count": null,
   "id": "4e3242f5",
   "metadata": {},
   "outputs": [],
   "source": [
    "s1 = '종찬씨는 오늘도 샌드위치를 먹습니다'"
   ]
  },
  {
   "cell_type": "code",
   "execution_count": null,
   "id": "64bccc76",
   "metadata": {},
   "outputs": [],
   "source": [
    "'샌드위치' in s1"
   ]
  },
  {
   "cell_type": "code",
   "execution_count": null,
   "id": "9084df3e",
   "metadata": {},
   "outputs": [],
   "source": [
    "1 in [1,2,3] # <- 1이 [1,2,3] 안에 있는가?"
   ]
  },
  {
   "cell_type": "code",
   "execution_count": null,
   "id": "245028ca",
   "metadata": {},
   "outputs": [],
   "source": [
    "1 not in [1,2,3] # <-1이 [1,2,3] 안에 없는가?"
   ]
  },
  {
   "cell_type": "code",
   "execution_count": null,
   "id": "1a8ee900",
   "metadata": {},
   "outputs": [],
   "source": [
    "# 문제 조건문, in , not in\n",
    "\n",
    "# 1. lst 리스트 생성\n",
    "lst = ['딸기','바나나', '수박', '체리', '포도']\n",
    "\n",
    "# 2. 검색할 과일 입력받기 -> input()\n",
    "fruit = input(\"검색할 문자를 입력하세요 >> \")\n",
    "\n",
    "\n",
    "# 3. 조건문과 in, not in 연산자 활용해서 조건에 따른 실행문장 만들기\n",
    "# 3-1. 입력받은 데이터가 어떤 인덱스 번호를 가지는지 적용하기 -> index() \n",
    "\n",
    "if fruit in lst:\n",
    "    num = lst.index(fruit)\n",
    "    print(f'{fruit}은/는 리스트에 {num}번째 인덱스에 들어있습니다.')\n",
    "else:\n",
    "    print(f'{fruit}은/는 리스트에 들어있지 않습니다.')"
   ]
  },
  {
   "cell_type": "code",
   "execution_count": null,
   "id": "1965af38",
   "metadata": {},
   "outputs": [],
   "source": [
    "# 문자열에 입력한 글자가 몇 개 포함되어 있는지 출력\n",
    "name = \"Hi, My name is Eunseon\"\n",
    "\n",
    "# 1. 검색할 문자 입력받기\n",
    "char = input(\"검색할 문자를 입력하세요>> \")\n",
    "\n",
    "# 2. 조건문과 in , not in 연산자 사용하여 특정문자가 들어있는지 판별\n",
    "if char not in name:\n",
    "     print(f'\"{char}\"는 문자열에 들어있지 않습니다.')\n",
    "else:\n",
    "    # 3. 들어있다면 몇 번 들어있는지 출력하기 -> count()\n",
    "    cnt = name.count(char)\n",
    "    print(f'\"{char}\"는 문자열에 {cnt}번 들어있습니다.')"
   ]
  }
 ],
 "metadata": {
  "kernelspec": {
   "display_name": "Python 3 (ipykernel)",
   "language": "python",
   "name": "python3"
  },
  "language_info": {
   "codemirror_mode": {
    "name": "ipython",
    "version": 3
   },
   "file_extension": ".py",
   "mimetype": "text/x-python",
   "name": "python",
   "nbconvert_exporter": "python",
   "pygments_lexer": "ipython3",
   "version": "3.11.5"
  }
 },
 "nbformat": 4,
 "nbformat_minor": 5
}
