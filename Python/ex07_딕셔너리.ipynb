{
 "cells": [
  {
   "cell_type": "markdown",
   "id": "7553655f",
   "metadata": {},
   "source": [
    "### 딕셔너리"
   ]
  },
  {
   "cell_type": "code",
   "execution_count": 11,
   "id": "05047076",
   "metadata": {},
   "outputs": [],
   "source": [
    "# 딕셔너리 -> {key : value, key : value, key : value, ...}\n",
    "a = {} # 빈 딕셔너리 ok\n",
    "b = { \"name\": \"nameValue\" } # 이름 정보를 담은 딕셔너리 선언\n",
    "c = {1: 'name', 2:23} # 다양한 자료형 딕셔너리 선언\n",
    "d = {'name' : ['경근', '종찬', '현민']} # value 값으로 리스트(=가변 속성) 담을 수 있음"
   ]
  },
  {
   "cell_type": "code",
   "execution_count": 12,
   "id": "89b186dd",
   "metadata": {},
   "outputs": [
    {
     "name": "stdout",
     "output_type": "stream",
     "text": [
      "{} {'name': 'nameValue'} {1: 'name', 2: 23}\n",
      "<class 'dict'>\n"
     ]
    }
   ],
   "source": [
    "print(a, b, c)\n",
    "print(type(d))"
   ]
  },
  {
   "cell_type": "code",
   "execution_count": 19,
   "id": "3b66a7df",
   "metadata": {},
   "outputs": [
    {
     "name": "stdout",
     "output_type": "stream",
     "text": [
      "은선\n"
     ]
    }
   ],
   "source": [
    "dic1 = {'name':'은선',\n",
    "        'age' : 20, # key에 작은따옴표 써줘야됨!!\n",
    "        'phone' : '010-9872-3251'}\n",
    "print(dic1) "
   ]
  },
  {
   "cell_type": "markdown",
   "id": "2aa7a862",
   "metadata": {},
   "source": [
    "### 딕셔너리 값 가져오기\n",
    "- 딕셔너리변수명['key값']\n",
    "- 딕셔너리명.get('key값')"
   ]
  },
  {
   "cell_type": "code",
   "execution_count": null,
   "id": "db4a72e2",
   "metadata": {},
   "outputs": [],
   "source": [
    "# dic1에서 이름('은선') 접근하기\n",
    "dic1['name'] # 작은따옴표 써주자\n",
    "\n",
    "# 핸드폰번호 접근하기\n",
    "dic1['phone']"
   ]
  },
  {
   "cell_type": "code",
   "execution_count": 25,
   "id": "df4c2c0f",
   "metadata": {},
   "outputs": [
    {
     "data": {
      "text/plain": [
       "20"
      ]
     },
     "execution_count": 25,
     "metadata": {},
     "output_type": "execute_result"
    }
   ],
   "source": [
    "# get 함수를 나이에 접근하기\n",
    "dic1.get('age')"
   ]
  },
  {
   "cell_type": "markdown",
   "id": "e50c8235",
   "metadata": {},
   "source": [
    "#### 딕셔너리 주의사항"
   ]
  },
  {
   "cell_type": "code",
   "execution_count": 28,
   "id": "a0233beb",
   "metadata": {},
   "outputs": [],
   "source": [
    "# 없는 키 값에 접근하게 되면 KeyError 발생\n",
    "# dic1['birthday']"
   ]
  },
  {
   "cell_type": "code",
   "execution_count": 32,
   "id": "15371499",
   "metadata": {},
   "outputs": [
    {
     "data": {
      "text/plain": [
       "{'name': '경근'}"
      ]
     },
     "execution_count": 32,
     "metadata": {},
     "output_type": "execute_result"
    }
   ],
   "source": [
    "# key값 중복시키기 >> 나중에 선언된 key-value 쌍만 남겨두게 된다\n",
    "dic_name = {'name':'현민',\n",
    "            'name':'경근'}\n",
    "dic_name"
   ]
  },
  {
   "cell_type": "code",
   "execution_count": 36,
   "id": "1786b4b1",
   "metadata": {},
   "outputs": [],
   "source": [
    "# 리스트는 key값으로 사용할 수 없다\n",
    "# 리스트는 가변적이기 때문에 key로 사용할 수 없다.\n",
    "# dic_list = {[1,2,3]: 'hi'}\n",
    "\n",
    "# 튜플은 key값으로 사용할 수 있다\n",
    "# 튜플은 불변적이기 때문에 key값으로 사용가능\n",
    "dic_tuple = {(1,2,3) : 'hi'}\n",
    "dic_tuple"
   ]
  },
  {
   "cell_type": "markdown",
   "id": "0b607fb1",
   "metadata": {},
   "source": [
    "### 딕셔너리 값 추가\n",
    "- 새로운 키 : 새로운 value"
   ]
  },
  {
   "cell_type": "code",
   "execution_count": 39,
   "id": "138a7cf8",
   "metadata": {},
   "outputs": [
    {
     "data": {
      "text/plain": [
       "{'name': '은선', 'age': 20, 'phone': '010-9872-3251'}"
      ]
     },
     "execution_count": 39,
     "metadata": {},
     "output_type": "execute_result"
    }
   ],
   "source": [
    "dic1"
   ]
  },
  {
   "cell_type": "code",
   "execution_count": 42,
   "id": "8c4ff4a8",
   "metadata": {},
   "outputs": [
    {
     "data": {
      "text/plain": [
       "{'name': '은선', 'age': 20, 'phone': '010-9872-3251', 'birth': '01/05'}"
      ]
     },
     "execution_count": 42,
     "metadata": {},
     "output_type": "execute_result"
    }
   ],
   "source": [
    "# birthday라는 key값 추가하기\n",
    "# 없는 key값에 접근한 후 value값 대입\n",
    "dic1['birth'] = '01/05'\n",
    "dic1"
   ]
  },
  {
   "cell_type": "code",
   "execution_count": 51,
   "id": "46c68903",
   "metadata": {},
   "outputs": [
    {
     "data": {
      "text/plain": [
       "{'노래제목': '아무노래', '가수': '지코', '날짜': '2020.01.03'}"
      ]
     },
     "execution_count": 51,
     "metadata": {},
     "output_type": "execute_result"
    }
   ],
   "source": [
    "dic_test = {'노래제목' : '아무노래'}\n",
    "# 추가\n",
    "dic_test['가수'] = '지코'\n",
    "dic_test['날짜'] = '2020.01.03'\n",
    "dic_test"
   ]
  },
  {
   "cell_type": "markdown",
   "id": "3bc04d35",
   "metadata": {},
   "source": [
    "### 딕셔너리 관련 함수"
   ]
  },
  {
   "cell_type": "code",
   "execution_count": 54,
   "id": "32098f53",
   "metadata": {},
   "outputs": [
    {
     "data": {
      "text/plain": [
       "dict_keys(['name', 'age', 'phone', 'birth'])"
      ]
     },
     "execution_count": 54,
     "metadata": {},
     "output_type": "execute_result"
    }
   ],
   "source": [
    "# 키 값을 확인하기\n",
    "dic1.keys()"
   ]
  },
  {
   "cell_type": "code",
   "execution_count": 56,
   "id": "795066de",
   "metadata": {},
   "outputs": [
    {
     "data": {
      "text/plain": [
       "['은선', 20, '010-9872-3251', '01/05']"
      ]
     },
     "execution_count": 56,
     "metadata": {},
     "output_type": "execute_result"
    }
   ],
   "source": [
    "# value 값 확인하기\n",
    "# dic_values라는 객체 반환\n",
    "dic1.values()\n",
    "list(dic1.values()) # 형변환 하고 싶으면 앞에 list 붙여준다"
   ]
  },
  {
   "cell_type": "code",
   "execution_count": 61,
   "id": "c278daf8",
   "metadata": {},
   "outputs": [
    {
     "name": "stdout",
     "output_type": "stream",
     "text": [
      "name 은선\n",
      "은선\n",
      "age 20\n",
      "20\n",
      "phone 010-9872-3251\n",
      "010-9872-3251\n",
      "birth 01/05\n",
      "01/05\n"
     ]
    }
   ],
   "source": [
    "# items() : key-value 한 번에 출력하는 함수 // 반복문과 주로 같이 쓰임\n",
    "dic1.items()\n",
    "for key, value in dic1.items():\n",
    "    print(key, value) # key, value 출력\n",
    "    print(value) # value만 출력"
   ]
  },
  {
   "cell_type": "code",
   "execution_count": 64,
   "id": "ba127f8d",
   "metadata": {},
   "outputs": [
    {
     "data": {
      "text/plain": [
       "{'이름': ['송찬호', '이수환', '박수현'],\n",
       " 'Python': [90, 100, 85],\n",
       " 'Java': [100, 80, 90],\n",
       " 'html/css': [85, 75, 95]}"
      ]
     },
     "execution_count": 64,
     "metadata": {},
     "output_type": "execute_result"
    }
   ],
   "source": [
    "# value 값이 여러개인 경우 딕셔너리 생성하기\n",
    "score_dict = { '이름': ['송찬호', '이수환', '박수현'],\n",
    "             'Python': [90, 100, 85],\n",
    "             'Java': [100, 80, 90],\n",
    "              'html/css': [85, 75, 95]\n",
    "             }\n",
    "score_dict"
   ]
  },
  {
   "cell_type": "markdown",
   "id": "fdb78790",
   "metadata": {},
   "source": [
    "#### Python의 평균 구하기"
   ]
  },
  {
   "cell_type": "code",
   "execution_count": 65,
   "id": "f9c5f6a4",
   "metadata": {},
   "outputs": [
    {
     "data": {
      "text/plain": [
       "6"
      ]
     },
     "execution_count": 65,
     "metadata": {},
     "output_type": "execute_result"
    }
   ],
   "source": [
    "# sum() : 리스트에서 총합을 구하는 함수\n",
    "sum([1,2,3])"
   ]
  },
  {
   "cell_type": "code",
   "execution_count": 113,
   "id": "3e7ca775",
   "metadata": {},
   "outputs": [
    {
     "name": "stdout",
     "output_type": "stream",
     "text": [
      "Python 평균 : 91.66666666666667\n"
     ]
    }
   ],
   "source": [
    "# values의 리스트..\n",
    "\n",
    "# 값 가져오기\n",
    "a = sum(score_dict['Python'])\n",
    "b = len(score_dict['Python'])       \n",
    "c = a / b \n",
    "print(f'Python 평균 : {c}')"
   ]
  },
  {
   "cell_type": "code",
   "execution_count": 116,
   "id": "5dd538e1",
   "metadata": {},
   "outputs": [
    {
     "name": "stdout",
     "output_type": "stream",
     "text": [
      "Java 평균 : 90.0\n"
     ]
    }
   ],
   "source": [
    "# 각 과목의 평균점수 구하기\n",
    "a = sum(score_dict['Java'])\n",
    "b = len(score_dict['Java'])       \n",
    "c = round((a / b) ,1)\n",
    "print(f'Java 평균 : {c}')"
   ]
  },
  {
   "cell_type": "code",
   "execution_count": 115,
   "id": "e03b4915",
   "metadata": {},
   "outputs": [
    {
     "name": "stdout",
     "output_type": "stream",
     "text": [
      "html/css 평균 : 85.0\n"
     ]
    }
   ],
   "source": [
    "a = sum(score_dict['html/css'])\n",
    "b = len(score_dict['html/css'])       \n",
    "c = round((a / b) ,1)\n",
    "print(f'html/css 평균 : {c}')"
   ]
  },
  {
   "cell_type": "code",
   "execution_count": 143,
   "id": "141da029",
   "metadata": {},
   "outputs": [
    {
     "name": "stdout",
     "output_type": "stream",
     "text": [
      "Python 평균 : 91.66666666666667\n",
      "Java 평균 : 90.0\n",
      "html/css 평균 : 85.0\n"
     ]
    }
   ],
   "source": [
    "for i in list(score_dict.keys())[1:]:\n",
    "    avg = sum(score_dict[i]) / len(score_dict[i])\n",
    "    print(f'{i} 평균 : {avg}')\n",
    "# 1 . 리스트 형 변환\n",
    "# 2. 슬라이싱\n"
   ]
  },
  {
   "cell_type": "markdown",
   "id": "5c220465",
   "metadata": {},
   "source": [
    "### 딕셔너리 값 삭제"
   ]
  },
  {
   "cell_type": "code",
   "execution_count": 146,
   "id": "68d9ce24",
   "metadata": {},
   "outputs": [
    {
     "data": {
      "text/plain": [
       "{'name': '은선', 'phone': '010-9872-3251', 'birth': '01/05'}"
      ]
     },
     "execution_count": 146,
     "metadata": {},
     "output_type": "execute_result"
    }
   ],
   "source": [
    "# del 키워드\n",
    "del dic1['age']\n",
    "dic1"
   ]
  },
  {
   "cell_type": "code",
   "execution_count": 149,
   "id": "11df34e3",
   "metadata": {},
   "outputs": [
    {
     "data": {
      "text/plain": [
       "{}"
      ]
     },
     "execution_count": 149,
     "metadata": {},
     "output_type": "execute_result"
    }
   ],
   "source": [
    "# key, value 쌍 모두 지우기 -> 딕셔너리명.clear()\n",
    "dic1.clear()\n",
    "dic1"
   ]
  }
 ],
 "metadata": {
  "kernelspec": {
   "display_name": "Python 3 (ipykernel)",
   "language": "python",
   "name": "python3"
  },
  "language_info": {
   "codemirror_mode": {
    "name": "ipython",
    "version": 3
   },
   "file_extension": ".py",
   "mimetype": "text/x-python",
   "name": "python",
   "nbconvert_exporter": "python",
   "pygments_lexer": "ipython3",
   "version": "3.11.5"
  }
 },
 "nbformat": 4,
 "nbformat_minor": 5
}
