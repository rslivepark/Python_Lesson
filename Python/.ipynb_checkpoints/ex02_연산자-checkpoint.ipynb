{
 "cells": [
  {
   "cell_type": "markdown",
   "id": "14491183",
   "metadata": {},
   "source": [
    "### 산술연산자"
   ]
  },
  {
   "cell_type": "code",
   "execution_count": null,
   "id": "1623ceeb",
   "metadata": {},
   "outputs": [],
   "source": [
    "# 숫자 연산\n",
    "num1 = 10\n",
    "num2 = 7\n",
    "\n",
    "print(num1+num2)\n",
    "print(num1/num2) # / 나누기\n",
    "print(num1//num2) # //몫\n",
    "print(num1%num2) # %나머지"
   ]
  },
  {
   "cell_type": "code",
   "execution_count": null,
   "id": "0123c421",
   "metadata": {},
   "outputs": [],
   "source": [
    "# 문자열 더하기 (문자열 연결 연산자)\n",
    "str1 = '안녕'\n",
    "str2 = '하세요!'\n",
    "print(str1+str2)\n",
    "#print(str1-str2) 불가\n"
   ]
  },
  {
   "cell_type": "code",
   "execution_count": null,
   "id": "66ce7410",
   "metadata": {},
   "outputs": [],
   "source": [
    "str1 = '10'\n",
    "str2 = '7'\n",
    "print(str1 + str2)"
   ]
  },
  {
   "cell_type": "code",
   "execution_count": null,
   "id": "6e04ced2",
   "metadata": {},
   "outputs": [],
   "source": [
    "# 숫자와 문자 더하기 >> XX\n",
    "num1 = 10 # int 정수 자료형\n",
    "str2 = '7' # str 문자 자료형\n",
    "print(num1 + int(str2))\n",
    "print(str(num1) + str2)"
   ]
  },
  {
   "cell_type": "markdown",
   "id": "7cb099d9",
   "metadata": {},
   "source": [
    "### 문자열 반복 연산자 * (애스터리스크)\n",
    "- 문자열에 *(애스터리스크)를 하면 문자열을 반복한다"
   ]
  },
  {
   "cell_type": "code",
   "execution_count": null,
   "id": "a8a9a6da",
   "metadata": {},
   "outputs": [],
   "source": [
    "# 문자열 * 숫자\n",
    "print('안녕'*5)"
   ]
  },
  {
   "cell_type": "code",
   "execution_count": null,
   "id": "5ea237eb",
   "metadata": {},
   "outputs": [],
   "source": [
    "# 문자열 입력 함수 : input() //입력받은 값 문자열로 인식\n",
    "input(\"값을 입력해주세요\")"
   ]
  },
  {
   "cell_type": "code",
   "execution_count": null,
   "id": "228b04c7",
   "metadata": {},
   "outputs": [],
   "source": [
    "num1 = int(input('첫번째 값 입력'))\n",
    "num2 = int(input('두번째 값 입력'))\n",
    "\n",
    "print(\"더하기 결과 : \", num1 + num2)\n",
    "print(\"빼기 결과 : \",num1 - num2)\n",
    "print(\"곱하기 결과 : \",num1 * num2)\n",
    "print(\"나누기 결과 : \",num1 / num2)\n",
    "\n"
   ]
  },
  {
   "cell_type": "markdown",
   "id": "258aa75b",
   "metadata": {},
   "source": [
    "### 지수 연산자"
   ]
  },
  {
   "cell_type": "code",
   "execution_count": null,
   "id": "b0dc1456",
   "metadata": {},
   "outputs": [],
   "source": [
    "# 제곱하는 연산자 (**)\n",
    "num = 3\n",
    "\n",
    "# 세제곱\n",
    "num ** 3"
   ]
  },
  {
   "cell_type": "markdown",
   "id": "e6a34049",
   "metadata": {},
   "source": [
    "### 대입(복합)연산자"
   ]
  },
  {
   "cell_type": "code",
   "execution_count": null,
   "id": "82ab5ce6",
   "metadata": {},
   "outputs": [],
   "source": [
    "num = 27;\n",
    "num = num +3\n",
    "print(num)"
   ]
  },
  {
   "cell_type": "code",
   "execution_count": null,
   "id": "399a8dd4",
   "metadata": {},
   "outputs": [],
   "source": [
    "num = 27\n",
    "num = num +3 # num = num + 3\n",
    "print(num)"
   ]
  },
  {
   "cell_type": "code",
   "execution_count": null,
   "id": "8e22bece",
   "metadata": {},
   "outputs": [],
   "source": [
    "#\n",
    "num = 100\n",
    "num -= 55 # num = num -55\n",
    "print(num)"
   ]
  },
  {
   "cell_type": "markdown",
   "id": "92b345b8",
   "metadata": {},
   "source": [
    "### 비교 연산자"
   ]
  },
  {
   "cell_type": "code",
   "execution_count": null,
   "id": "94e83c30",
   "metadata": {},
   "outputs": [],
   "source": [
    "# >, >=, <, <=, ==. !=\n",
    "# True, False로 결과 출력\n",
    "\n",
    "a = 3\n",
    "b = 7\n",
    "print(a > b) #False\n",
    "print(a <= b) #True\n",
    "print(a == b) #False\n",
    "print(a != b) #True\n"
   ]
  },
  {
   "cell_type": "markdown",
   "id": "8fdd6923",
   "metadata": {},
   "source": [
    "### 논리 연산자"
   ]
  },
  {
   "cell_type": "code",
   "execution_count": null,
   "id": "792100f4",
   "metadata": {},
   "outputs": [],
   "source": [
    "# not 논리를 뒤집어버림 True -> False, False -> True\n",
    "# and, or"
   ]
  },
  {
   "cell_type": "code",
   "execution_count": null,
   "id": "aea3f9cc",
   "metadata": {},
   "outputs": [],
   "source": [
    "# not 연산자\n",
    "a, b = 5, 10\n",
    "not a < b # True -> False"
   ]
  },
  {
   "cell_type": "code",
   "execution_count": null,
   "id": "012dc726",
   "metadata": {},
   "outputs": [],
   "source": [
    "# and , or\n",
    "# and : 두 개의 논리를 연결하여 확인, 두 개 모두 참인 경우 True\n",
    "# or : 두 개 중 하나만 참인 경우 True\n",
    "print(3 > 5 and 10 == 10) # False\n",
    "print(3 > 5 or 10 == 10) # True"
   ]
  },
  {
   "cell_type": "code",
   "execution_count": null,
   "id": "e29ed931",
   "metadata": {},
   "outputs": [],
   "source": [
    "### 멤버연산자(in, not in 연산자)"
   ]
  },
  {
   "cell_type": "code",
   "execution_count": null,
   "id": "30f13134",
   "metadata": {},
   "outputs": [],
   "source": [
    "# in, not in\n",
    "str1 = '종찬씨는 현재 잠이 옵니다.'\n",
    "fnd = '종찬씨'\n",
    "fnd in str1 # True\n",
    "\n",
    "fnd2 = '경근'\n",
    "fnd2 in str1 # False"
   ]
  },
  {
   "cell_type": "code",
   "execution_count": null,
   "id": "155c354f",
   "metadata": {},
   "outputs": [],
   "source": [
    "# not in\n",
    "fnd2 not in str1 # True"
   ]
  },
  {
   "cell_type": "markdown",
   "id": "0d1c9c79",
   "metadata": {},
   "source": [
    "### 삼항 연산자\n",
    "- True if 조건식 else False"
   ]
  },
  {
   "cell_type": "code",
   "execution_count": null,
   "id": "63a41141",
   "metadata": {},
   "outputs": [],
   "source": [
    "# 60점 이상이면 합격, 미만이면 불합격\n",
    "score = 80\n",
    "print('합격' if score>=60 else '불합격')"
   ]
  },
  {
   "cell_type": "code",
   "execution_count": 6,
   "id": "7709528c",
   "metadata": {},
   "outputs": [
    {
     "name": "stdout",
     "output_type": "stream",
     "text": [
      "정수입력>> 3\n",
      "정수입력>> 10\n"
     ]
    },
    {
     "data": {
      "text/plain": [
       "'b: 10'"
      ]
     },
     "execution_count": 6,
     "metadata": {},
     "output_type": "execute_result"
    }
   ],
   "source": [
    "# 키보드로 두 개의 정수를 입력 받아 큰 수를 출력하시오 #f포맷팅\n",
    "a = int(input(\"정수입력>> \"))\n",
    "b = int(input(\"정수입력>> \"))\n",
    "\n",
    "f'a: {a}' if a >b else f'b: {b}'\n"
   ]
  },
  {
   "cell_type": "code",
   "execution_count": 14,
   "id": "77d18df1",
   "metadata": {},
   "outputs": [
    {
     "name": "stdout",
     "output_type": "stream",
     "text": [
      "정수입력>> 56\n",
      "56는(은) 짝수입니다\n"
     ]
    }
   ],
   "source": [
    "# 1.키보드로 정수 입력받기\n",
    "a = int(input(\"정수입력>> \"))\n",
    "\n",
    "# 2. 입력받은 값이 홀수인지 짝수인지 판별\n",
    "print(f'{a}는(은) 짝수입니다' if a % 2 == 0 else f'{a}는(은) 홀수입니다')"
   ]
  },
  {
   "cell_type": "code",
   "execution_count": null,
   "id": "04ef817b",
   "metadata": {},
   "outputs": [],
   "source": []
  },
  {
   "cell_type": "code",
   "execution_count": null,
   "id": "d43aeeb6",
   "metadata": {},
   "outputs": [],
   "source": []
  },
  {
   "cell_type": "code",
   "execution_count": null,
   "id": "0e578a37",
   "metadata": {},
   "outputs": [],
   "source": []
  },
  {
   "cell_type": "code",
   "execution_count": null,
   "id": "9aa61898",
   "metadata": {},
   "outputs": [],
   "source": []
  }
 ],
 "metadata": {
  "kernelspec": {
   "display_name": "Python 3 (ipykernel)",
   "language": "python",
   "name": "python3"
  },
  "language_info": {
   "codemirror_mode": {
    "name": "ipython",
    "version": 3
   },
   "file_extension": ".py",
   "mimetype": "text/x-python",
   "name": "python",
   "nbconvert_exporter": "python",
   "pygments_lexer": "ipython3",
   "version": "3.11.5"
  }
 },
 "nbformat": 4,
 "nbformat_minor": 5
}
